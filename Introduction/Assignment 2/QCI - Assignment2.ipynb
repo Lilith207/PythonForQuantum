{
 "cells": [
  {
   "cell_type": "markdown",
   "metadata": {},
   "source": [
    "# Quantum Computing Introduction - Assignment 2\n",
    "# Names:\n",
    "# IDs:\n",
    "\n",
    "Welcome to the second assignment! During this assignment, you will use the IBM Qiskit package. This framework offers a huge variety of very interesting functionalities to explore. This assignment will require you to investigate about the proper usage of the tool. Please refer to the [IBM Quantum Documentation](https://qiskit.org/documentation/).\n",
    "\n",
    "\n",
    "# Python environment"
   ]
  },
  {
   "cell_type": "code",
   "execution_count": null,
   "metadata": {},
   "outputs": [],
   "source": []
  },
  {
   "cell_type": "markdown",
   "metadata": {},
   "source": [
    "# Introduction to Python\n",
    "\n",
    "This first section contains some (non specifically quantum related) questions to demonstrate your Python programming skills\n",
    "\n",
    "## Question 1\n",
    "\n",
    "Write a small program that accepts three integers (a, b and c) as input, and whose output is `True` only if c lies between a and b. If not, then the output should be `False`."
   ]
  },
  {
   "cell_type": "code",
   "execution_count": null,
   "metadata": {},
   "outputs": [],
   "source": [
    "# Solution\n",
    "\n"
   ]
  },
  {
   "cell_type": "markdown",
   "metadata": {},
   "source": [
    "## Question 2\n",
    "\n",
    "Write a function that, given a list of positive numbers, returns the largest number. Write a program that uses such function by: asking the user to enter the number of elements in the list, generating a list of random numbers, uses your function to obtain the largest number in the list and printing the correspoding results (both the list of numbers and the largest number in the list)."
   ]
  },
  {
   "cell_type": "code",
   "execution_count": null,
   "metadata": {},
   "outputs": [],
   "source": [
    "# Solution\n",
    "\n"
   ]
  },
  {
   "cell_type": "markdown",
   "metadata": {},
   "source": [
    "## Question 3\n",
    "\n",
    "Write a small program, using a for-loop, that given a word and a forbidden letter (provided by the user, via keyboard), tells you if the word contains the forbidden letter or not."
   ]
  },
  {
   "cell_type": "code",
   "execution_count": null,
   "metadata": {},
   "outputs": [],
   "source": [
    "# Solution\n",
    "\n"
   ]
  },
  {
   "cell_type": "markdown",
   "metadata": {},
   "source": [
    "## Question 4\n",
    "\n",
    "Write a function that, given a square matrix of arbitrary size as input, returns the trace of that matrix. Write a program that uses such function by: asking the user to enter the dimensions of the matrix, generating a random matrix of the requested dimensions, uses your function to compute the trace of the matrix and printing the correspoding results (both the matrix and the trace).\n",
    "\n",
    "NB: It is not allowed to use the function numpy.trace!"
   ]
  },
  {
   "cell_type": "code",
   "execution_count": null,
   "metadata": {},
   "outputs": [],
   "source": [
    "# Solution\n",
    "\n"
   ]
  },
  {
   "cell_type": "markdown",
   "metadata": {},
   "source": [
    "## Question 5\n",
    "\n",
    "Write a small program to draw a scatter plot, using the mathplotlib module, to show the sea level in the past 100 years. Use the data set from: `sealevel.txt`"
   ]
  },
  {
   "cell_type": "code",
   "execution_count": null,
   "metadata": {},
   "outputs": [],
   "source": [
    "# Solution\n",
    "\n"
   ]
  },
  {
   "cell_type": "markdown",
   "metadata": {},
   "source": [
    "## Question 6\n",
    "\n",
    "Write a small program that, using mathplotlib, draw a line plot that shows on a daily base the highest price the DJIA reached. Use the data set from: `djia.txt`."
   ]
  },
  {
   "cell_type": "code",
   "execution_count": null,
   "metadata": {},
   "outputs": [],
   "source": [
    "# Solution\n",
    "\n"
   ]
  },
  {
   "cell_type": "markdown",
   "metadata": {},
   "source": [
    "# Introduction to Qiskit\n",
    "\n",
    "This second section contains some exercises about single-qubit quantum circuits. The following cell contains some useful definitions and functions for the development of your assignment. They were already introduced in the Qiskit Introduction notebook and included here in case you need them."
   ]
  },
  {
   "cell_type": "code",
   "execution_count": null,
   "metadata": {},
   "outputs": [],
   "source": [
    "# Function: state_to_dirac(quantum_state)\n",
    "#\n",
    "# \n",
    "# This function accepts an arbitrary state vector and prints it in its corresponding Dirac notation\n",
    "def state_to_dirac(state):\n",
    "\n",
    "    # Convert the statevector to dictionary form.\n",
    "    state_to_dict = state.to_dict()\n",
    "\n",
    "    return ' '.join('{1:+.4f}|{0}>'.format(key, value)\n",
    "                      for key, value in state_to_dict.items())\n",
    "\n",
    "\n",
    "# Function: simulate_circuit_and_obtain_vector(quantum_circuit, number_shots)\n",
    "#\n",
    "# \n",
    "# This function accepts an arbitrary circuit, performs its state vector simulation and \n",
    "# returns the resulting vector state as a [x, y, z] vector that could be plotted\n",
    "def simulate_circuit_and_obtain_vector(qc, trials = 100000):\n",
    "\n",
    "    # Execute the state vector simulation\n",
    "    resulting_vector = Statevector(qc)\n",
    "\n",
    "    # Convert the resulting state vector in its Dirac notation\n",
    "    dirac_vector = state_to_dirac(resulting_vector)\n",
    "\n",
    "    return resulting_vector, dirac_vector\n",
    "\n"
   ]
  },
  {
   "attachments": {},
   "cell_type": "markdown",
   "metadata": {},
   "source": [
    "For the first question you are going to use the `Operator (qiskit.quantum_info.Operator)` to construct the unitary matrix for a Qiskit `QuantumCircuit`, and the `Statevector (qiskit.quantum_info.Statevector)` to obtain the quantum state vector of a given circuit. It is important to point out that when using these operators, the circuit can only contain gates (e.g., no measure).\n",
    "\n",
    "## Question 7\n",
    "\n",
    "One of your classmates is claiming the following equivalence: `Z = HXH`. \n",
    "\n",
    "1. Perform the matrix operation represented by the following quantum circuit and show that, indeed, the transformation matrix correspond to the Pauli-Z matrix:\n",
    "![Question1](img/qci_a2_question7.png)\n",
    "\n",
    "2. As mentioned during the lesson, Qiskit initializes the qubits in the $\\left| 0 \\right\\rangle$ state. However, applying the Pauli-Z gate over the $\\left| 0 \\right\\rangle$ state does not produce an observable difference. Therefore, you have to convert the $\\left| 0 \\right\\rangle$ state into the $\\left| 1 \\right\\rangle$ state, then simulate a single shot of the circuit and show the resulting state vector.\n",
    "\n",
    "3. Is it true the claim of your classmate about `Z = HXH`? Explain your reasoning."
   ]
  },
  {
   "cell_type": "code",
   "execution_count": null,
   "metadata": {},
   "outputs": [],
   "source": [
    "# Solution\n",
    "\n"
   ]
  },
  {
   "attachments": {},
   "cell_type": "markdown",
   "metadata": {},
   "source": [
    "For the following questions you can use whatever simulator you consider useful to solve them (e.g., `Operator`, `Statevector` or `Sampler`). Read carefully the questions and identify the most suitable simulator for your purposes.\n",
    "\n",
    "\n",
    "## Question 8\n",
    "\n",
    "You have the following quantum circuit\n",
    "![Question2](img//qci_a2_question8.png)\n",
    "\n",
    "1. Adjust the circuit so that the initial state is $\\left| q_{0} \\right\\rangle = \\left| - \\right\\rangle$.\n",
    "\n",
    "2. What is the resulting vector state?\n",
    "\n",
    "3. Perform a 100000 shots simulation of the circuit and plot the resulting probabilities.\n",
    "\n",
    "NB: Remember to use the `circuit.measure()` function to obtain the counts of the qasm simulation."
   ]
  },
  {
   "cell_type": "code",
   "execution_count": null,
   "metadata": {},
   "outputs": [],
   "source": [
    "# Solution\n",
    "\n"
   ]
  },
  {
   "attachments": {},
   "cell_type": "markdown",
   "metadata": {},
   "source": [
    "## Question 9\n",
    "\n",
    "Simulate the following quantum circuit\n",
    "![Question9](img/qci_a2_question9.png)\n",
    "\n",
    "1. Plot the initial, all the intermediate and the resulting state vectors on the Bloch sphere.\n",
    "\n",
    "2. Imagine that you perform a 10000000 shots simulation of the proposed circuit. What probabilities would you expect to obtain? Explain why.\n",
    "\n",
    "3. Perform a 100000 shots simulation of the proposed circuit and plot the resulting probabilities. Does the plot of the resulting probabilities match your previous answer?\n"
   ]
  },
  {
   "cell_type": "code",
   "execution_count": null,
   "metadata": {
    "scrolled": true
   },
   "outputs": [],
   "source": [
    "# Solution\n",
    "\n"
   ]
  },
  {
   "attachments": {},
   "cell_type": "markdown",
   "metadata": {},
   "source": [
    "## Question 10\n",
    "\n",
    "Assume the following quantum state represented in the following Bloch sphere (blue vector):\n",
    "![Question10](img/qci_a2_question10.png)\n",
    "\n",
    "1. Show the set of gates that should be applied to a initial state equals to $\\left| 1 \\right\\rangle$ (red vector) in order to obtain the presented quantum state.\n",
    "\n",
    "2. Plot all the intermediate states resulting of the application of the gates in your own Bloch sphere."
   ]
  },
  {
   "cell_type": "code",
   "execution_count": null,
   "metadata": {},
   "outputs": [],
   "source": [
    "# Solution\n",
    "\n"
   ]
  },
  {
   "cell_type": "code",
   "execution_count": 1,
   "metadata": {
    "scrolled": true
   },
   "outputs": [
    {
     "name": "stdout",
     "output_type": "stream",
     "text": [
      "Software version:\n",
      "\n",
      "qiskit                    0.46.0\n",
      "qiskit-aer                0.13.2\n",
      "qiskit-ibm-provider       0.8.0\n",
      "qiskit-ibm-runtime        0.18.0\n",
      "qiskit-terra              0.46.0\n",
      "Python 3.10.12\n"
     ]
    }
   ],
   "source": [
    "print('Software version:\\n')\n",
    "!pip list | grep \"qiskit\"\n",
    "!pip list | grep \"IBMQuantumExperience\"\n",
    "!python --version"
   ]
  },
  {
   "cell_type": "code",
   "execution_count": null,
   "metadata": {},
   "outputs": [],
   "source": []
  }
 ],
 "metadata": {
  "kernelspec": {
   "display_name": "Python 3 (ipykernel)",
   "language": "python",
   "name": "python3"
  },
  "language_info": {
   "codemirror_mode": {
    "name": "ipython",
    "version": 3
   },
   "file_extension": ".py",
   "mimetype": "text/x-python",
   "name": "python",
   "nbconvert_exporter": "python",
   "pygments_lexer": "ipython3",
   "version": "3.10.12"
  }
 },
 "nbformat": 4,
 "nbformat_minor": 4
}
