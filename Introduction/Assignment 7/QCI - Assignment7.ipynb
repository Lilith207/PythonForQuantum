{
 "cells": [
  {
   "cell_type": "markdown",
   "metadata": {},
   "source": [
    "# Quantum Computing Introduction - Assignment 7\n",
    "# Names:\n",
    "# IDs:\n",
    "\n",
    "Welcome to the fourth assignment! During this assignment, you will use the IBM Qiskit package. This framework offers a huge variety of very interesting functionalities to explore. This assignment will require you to investigate about the proper usage of the tool. Please refer to the [IBM Quantum Documentation](https://qiskit.org/documentation/).\n",
    "\n",
    "\n",
    "## Python environment"
   ]
  },
  {
   "cell_type": "code",
   "execution_count": null,
   "metadata": {},
   "outputs": [],
   "source": []
  },
  {
   "cell_type": "markdown",
   "metadata": {},
   "source": [
    "The following cell contains some useful definitions and functions for the development of your assignment. They were already introduced in the Qiskit Introduction notebook and included here in case you need them."
   ]
  },
  {
   "cell_type": "code",
   "execution_count": 1,
   "metadata": {},
   "outputs": [],
   "source": [
    "# Function: state_to_dirac(quantum_state)\n",
    "#\n",
    "# \n",
    "# This function accepts an arbitrary state vector and prints it in its corresponding Dirac notation\n",
    "def state_to_dirac(state):\n",
    "\n",
    "    # Convert the statevector to dictionary form.\n",
    "    state_to_dict = state.to_dict()\n",
    "\n",
    "    return ' '.join('{1:+.4f}|{0}>'.format(key, value)\n",
    "                      for key, value in state_to_dict.items())\n",
    "\n",
    "\n",
    "# Function: simulate_circuit_and_obtain_vector(quantum_circuit, number_shots)\n",
    "#\n",
    "# \n",
    "# This function accepts an arbitrary circuit, performs its state vector simulation and \n",
    "# returns the resulting vector state as a [x, y, z] vector that could be plotted\n",
    "def simulate_circuit_and_obtain_vector(qc, trials = 100000):\n",
    "\n",
    "    # Execute the state vector simulation\n",
    "    resulting_vector = Statevector(qc)\n",
    "\n",
    "    # Convert the resulting state vector in its Dirac notation\n",
    "    dirac_vector = state_to_dirac(resulting_vector)\n",
    "\n",
    "    return resulting_vector, dirac_vector\n",
    "\n"
   ]
  },
  {
   "attachments": {},
   "cell_type": "markdown",
   "metadata": {},
   "source": [
    "For this assignment you can use whatever simulator you consider useful to solve the exercises. Read carefully the questions and identify the most suitable simulator for your purposes. Moreover, you will have to setup your own [QuantumCircuit](https://docs.quantum.ibm.com/api/qiskit/qiskit.circuit.QuantumCircuit#quantumcircuit) because we are not going to use only 2-qubit quantum system. Hence, your solution should include the complete setup process to create and simulate the requested quantum circuit."
   ]
  },
  {
   "attachments": {},
   "cell_type": "markdown",
   "metadata": {},
   "source": [
    "## Question 1\n",
    "\n",
    "During the lecture: \"Basic Quantum Algorithms 1\", the implementation of a quantum half-adder was presented. Implement the corresponding circuit, execute the simulation and explain why your implementation performs the correct sum.\n",
    "\n",
    "![Question1](img/qci_a7_question1.png)"
   ]
  },
  {
   "cell_type": "code",
   "execution_count": 2,
   "metadata": {},
   "outputs": [],
   "source": [
    "# Solution\n",
    "\n"
   ]
  },
  {
   "attachments": {},
   "cell_type": "markdown",
   "metadata": {},
   "source": [
    "## Question 2\n",
    "\n",
    "During the lecture: \"Basic Quantum Algorithms 1\", it was presented the `Deutsch algorithm` with its corresponding quantum implementation. Moreover, you identified 2 possible oracle implementations for balanced (Identity and NOT) and constant (Set and Reset) functions.\n",
    "\n",
    "Implement the following circuit (representing the Set function) and execute a single-shot simulation. Does your implementation correctly identify the function as constant?\n",
    "\n",
    "![Question2](img/qci_a7_question2.png)\n",
    "\n",
    "NB: Remember that the algorithm states that the $\\ket{q_{1}}$ register must be initialized to $\\ket{1}$."
   ]
  },
  {
   "cell_type": "code",
   "execution_count": 3,
   "metadata": {},
   "outputs": [],
   "source": [
    "# Solution\n",
    "\n"
   ]
  },
  {
   "cell_type": "markdown",
   "metadata": {},
   "source": [
    "## Question 3\n",
    "\n",
    "Your previous answer was based on a single-shot simulation, you could have had luck. What about a multi-shot one? Add a measurement to register $\\left| q_{0} \\right\\rangle$, execute a multi-shot simulation and plot the resulting histogram. Did you get $\\left| 0 \\right\\rangle$ with 100% probability?\n"
   ]
  },
  {
   "cell_type": "code",
   "execution_count": 4,
   "metadata": {},
   "outputs": [],
   "source": [
    "# Solution\n",
    "\n"
   ]
  },
  {
   "cell_type": "markdown",
   "metadata": {},
   "source": [
    "## Question 4\n",
    "\n",
    "As mentioned in the previous question (`Question 3`), during the lecture: \"Basic Quantum Algorithms 1\" there were also introduced 2 possible oracle implementations for balanced functions. Choose one of them, implement the corresponding circuit, execute a multi-shot simulation and plot the resulting histogram. Did you get $\\ket{1}$ with 100% probability?\n",
    "\n",
    "NB: Remember that the algorithm states that the $\\ket{q_{1}}$ register must be initialized to $\\ket{1}$."
   ]
  },
  {
   "cell_type": "code",
   "execution_count": 5,
   "metadata": {},
   "outputs": [],
   "source": [
    "# Solution\n",
    "\n"
   ]
  },
  {
   "attachments": {},
   "cell_type": "markdown",
   "metadata": {},
   "source": [
    "## Question 5\n",
    "\n",
    "During the lecture: \"Basic Quantum Algorithms 2\", I  introduced the `Deutsch-Josza algorithm` (an extension to multiple input qubits of the `Deutsch algorithm`). I also identified all the possible constant and balanced functions for 2 qubits inputs. Moreover, I already solved an example for the `XOR` balanced function in the whiteboard.\n",
    "\n",
    "Now, you have to implement the Deutsch-Josza algorithm for the 2-qubits SET constant function and execute a single-shot simulation. Does your implementation correctly identify the function as constant?\n",
    "\n",
    "![Question5](img/qci_a7_question5.png)\n",
    "\n",
    "NB: Remember that the algorithm states that the $\\ket{q_{2}}$ register must be initialized to $\\ket{1}$."
   ]
  },
  {
   "cell_type": "code",
   "execution_count": 6,
   "metadata": {},
   "outputs": [],
   "source": [
    "# Solution\n",
    "\n"
   ]
  },
  {
   "cell_type": "markdown",
   "metadata": {},
   "source": [
    "## Question 6\n",
    "\n",
    "Your previous answer was based on a single-shot simulation, you could have had luck. What about a multi-shot one? Add measurements to registers $\\ket{q_{1}}$ and $\\ket{q_{0}}$, execute a multi-shot simulation and plot the resulting histogram. Did you get $\\ket{00}$ with 100% probability?"
   ]
  },
  {
   "cell_type": "code",
   "execution_count": 7,
   "metadata": {},
   "outputs": [],
   "source": [
    "# Solution\n",
    "\n"
   ]
  },
  {
   "cell_type": "markdown",
   "metadata": {},
   "source": [
    "## Question 7\n",
    "\n",
    "During the lecture: \"Basic Quantum Algorithms 2\", I  introduced the `Deutsch-Josza algorithm` (an extension to multiple input qubits of the `Deutsch algorithm`). I also identified all the possible constant and balanced functions for 2 qubits inputs. Moreover, I already solved an example for the `XOR` balanced function in the whiteboard.\n",
    "\n",
    "Now, you have to implement the Deutsch-Josza algorithm for the following 2-qubits balanced function and execute a single-shot simulation. Does your implementation correctly identify the function as balanced?\n",
    "\n",
    "The function you have to implement is:\n",
    "\n",
    "| $x_{1}$ | $x_{0}$ | Function # 1 | Function # 2 | Function # 3 | Function # 4 | Function # 5 |\n",
    "| :- | - | - | - | - | - | - |\n",
    "| 0 | 0 | 1 | 0 | 1 | 0 | 1 |\n",
    "| 0 | 1 | 0 | 0 | 1 | 1 | 0 |\n",
    "| 1 | 0 | 0 | 1 | 0 | 0 | 1 |\n",
    "| 1 | 1 | 1 | 1 | 0 | 1 | 0 |\n",
    "\n",
    "And the corresponding function is:\n",
    "\n",
    "| Function | Groups |\n",
    "| :- | - |\n",
    "| 1 | 8, 12, 13 |\n",
    "| 2 | 4, 7, 11 |\n",
    "| 3 | 1, 9, 10 |\n",
    "| 4 | 2, 5 |\n",
    "| 5 | 3, 6 |\n",
    "\n",
    "\n",
    "NB: Remember that the algorithm states that the $\\ket{q_{2}}$ register must be initialized to $\\ket{1}$."
   ]
  },
  {
   "cell_type": "code",
   "execution_count": 8,
   "metadata": {},
   "outputs": [],
   "source": [
    "# Solution\n",
    "\n"
   ]
  },
  {
   "cell_type": "markdown",
   "metadata": {},
   "source": [
    "## Question 8\n",
    "\n",
    "Your previous answer was based on a single-shot simulation, you could have had luck. What about a multi-shot one? Add measurements to registers $\\ket{q_{1}}$ and $\\ket{q_{0}}$, execute a multi-shot simulation and plot the resulting histogram. Did you get the expected result with 100% probability?"
   ]
  },
  {
   "cell_type": "code",
   "execution_count": 9,
   "metadata": {},
   "outputs": [],
   "source": [
    "# Solution\n",
    "\n"
   ]
  },
  {
   "cell_type": "markdown",
   "metadata": {},
   "source": [
    "## Question 9\n",
    "\n",
    "During the lesson: \"Basic Quantum Algorithms 2\", I mentioned that the Bell states can be transformed by manipulating 1 single qubit. We even saw that process using the typical quantum circuit for preparing Bell states (left side of the image). Is it the same if we use a different quantum circuit? Test it by using the alternate circuit (show in the right side of the image). Implement the circuit to show the resulting Bell states.\n",
    "\n",
    "![Question9](img/qci_a7_question9.png)"
   ]
  },
  {
   "cell_type": "code",
   "execution_count": 10,
   "metadata": {},
   "outputs": [],
   "source": [
    "# Solution\n",
    "\n"
   ]
  },
  {
   "cell_type": "markdown",
   "metadata": {},
   "source": [
    "## Question 10\n",
    "\n",
    "During the lesson: \"Basic Quantum Algorithms 2\" I introduced the Superdense Coding algorithm. It allows you to transmit two bits by sending one qubit. Write a program that allows the user to enter the encoded message (0, 1, 2 or 3), implement the quantum circuit for the superdense coding (encoding the message provided by the user) and transmit it. Perform the measurement and show the message encoded by the user.\n",
    "\n",
    "![Question10](img/qci_a7_question10.png)"
   ]
  },
  {
   "cell_type": "code",
   "execution_count": 11,
   "metadata": {},
   "outputs": [],
   "source": [
    "# Solution\n",
    "\n"
   ]
  },
  {
   "cell_type": "code",
   "execution_count": 12,
   "metadata": {},
   "outputs": [
    {
     "name": "stdout",
     "output_type": "stream",
     "text": [
      "Software version:\n",
      "\n",
      "qiskit                    0.46.0\n",
      "qiskit-aer                0.13.2\n",
      "qiskit-ibm-provider       0.8.0\n",
      "qiskit-ibm-runtime        0.18.0\n",
      "qiskit-terra              0.46.0\n",
      "Python 3.10.12\n"
     ]
    }
   ],
   "source": [
    "print('Software version:\\n')\n",
    "!pip list | grep \"qiskit\"\n",
    "!pip list | grep \"IBMQuantumExperience\"\n",
    "!python --version"
   ]
  },
  {
   "cell_type": "code",
   "execution_count": null,
   "metadata": {},
   "outputs": [],
   "source": []
  }
 ],
 "metadata": {
  "kernelspec": {
   "display_name": "Python 3 (ipykernel)",
   "language": "python",
   "name": "python3"
  },
  "language_info": {
   "codemirror_mode": {
    "name": "ipython",
    "version": 3
   },
   "file_extension": ".py",
   "mimetype": "text/x-python",
   "name": "python",
   "nbconvert_exporter": "python",
   "pygments_lexer": "ipython3",
   "version": "3.10.12"
  }
 },
 "nbformat": 4,
 "nbformat_minor": 4
}
