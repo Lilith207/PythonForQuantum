{
 "cells": [
  {
   "cell_type": "markdown",
   "metadata": {},
   "source": [
    "# Quantum Computing Introduction - Assignment 5\n",
    "# Names: Lilith Bertens, Quincy Koelman\n",
    "# IDs: BERTENL, KOELMAQ (500878956)\n",
    "\n",
    "Welcome to the fifth assignment! During this assignment, you will use the IBM Qiskit package. This framework offers a huge variety of very interesting functionalities to explore. This assignment will require you to investigate about the proper usage of the tool. Please refer to the [IBM Quantum Documentation](https://qiskit.org/documentation/)."
   ]
  },
  {
   "attachments": {},
   "cell_type": "markdown",
   "metadata": {},
   "source": [
    "For this assignment you can use whatever simulator you consider useful to solve the exercises. Read carefully the questions and identify the most suitable simulator for your purposes. Moreover, you will have to setup your own [QuantumCircuit](https://docs.quantum.ibm.com/api/qiskit/qiskit.circuit.QuantumCircuit#quantumcircuit) because we are not going to use only 2-qubit quantum system. Hence, your solution should include the complete setup process to create and simulate the requested quantum circuit.\n",
    "\n",
    "## Question 1\n",
    "\n",
    "In the assignent on Quantum Programming 2 (Assignment 4), we mentioned the concept of _total equivalence_, namely, the identity of the output states (modulo a global phase difference) between the two circuits under verification. Moreover, you showed the total equivaence of the following quantum circuits.\n",
    "\n",
    "![Question1](img/qci_a5_question1.png)\n",
    "\n",
    "Additionally, as shown during the workshop on Quantum Programming 2, different quantum processors deal with the quantum circuits in different ways, depending on the topology, number of qubits, set of available gates, etc.. Perform the following steps:\n",
    "\n",
    "1. Implement the quantum circuit in the left,\n",
    "2. Draw the transpiled circuit from it.\n",
    "3. Show how the Swap gate is actually implemented in your preferred backend."
   ]
  },
  {
   "cell_type": "code",
   "execution_count": 16,
   "metadata": {},
   "outputs": [
    {
     "name": "stdout",
     "output_type": "stream",
     "text": [
      "                    ┌───┐     \n",
      "      q_0 -> 0 ──■──┤ X ├──■──\n",
      "               ┌─┴─┐└─┬─┘┌─┴─┐\n",
      "      q_1 -> 1 ┤ X ├──■──┤ X ├\n",
      "               └───┘     └───┘\n",
      "ancilla_0 -> 2 ───────────────\n",
      "                              \n",
      "ancilla_1 -> 3 ───────────────\n",
      "                              \n",
      "ancilla_2 -> 4 ───────────────\n",
      "                              \n",
      "                    ┌───┐     \n",
      "      q_0 -> 0 ──■──┤ X ├──■──\n",
      "               ┌─┴─┐└─┬─┘┌─┴─┐\n",
      "      q_1 -> 1 ┤ X ├──■──┤ X ├\n",
      "               └───┘     └───┘\n",
      "ancilla_0 -> 2 ───────────────\n",
      "                              \n",
      "ancilla_1 -> 3 ───────────────\n",
      "                              \n",
      "ancilla_2 -> 4 ───────────────\n",
      "                              \n"
     ]
    }
   ],
   "source": [
    "# Solution\n",
    "import qiskit\n",
    "from qiskit_ibm_runtime.fake_provider import FakeAthens\n",
    "backend = FakeAthens()\n",
    "qc1 = qiskit.QuantumCircuit(2)\n",
    "qc2 = qiskit.QuantumCircuit(2)\n",
    "qc1.swap(0,1)\n",
    "qc2.cx(0,1)\n",
    "qc2.cx(1,0)\n",
    "qc2.cx(0,1)\n",
    "z1 = qiskit.transpile(qc1, backend=backend)#as you can see it implements swap as 3cx\n",
    "z2 = qiskit.transpile(qc2, backend=backend)      \n",
    "print(z1)                                       \n",
    "print(z2)\n"
   ]
  },
  {
   "cell_type": "markdown",
   "metadata": {},
   "source": [
    "## Question 2\n",
    "\n",
    "Preparing for the upcoming assessment, one of your classmates identified a quantum circuit supposed to prepare one of the Bell states (specifically $\\ket{\\Phi^{+}}$). As usual, you are not completely sure about its validity, hence your are going to implement such circuit in Qiskit to figure it out. Assume $\\ket{q_{1}q_{0}}$ = $\\ket{00}$. \n",
    "\n",
    "Perform the following steps:\n",
    "\n",
    "1. Implement the following circuit.\n",
    "2. Execute the simulator.\n",
    "3. Print the resulting vector state.\n",
    "4. Does the proposed circuit prepare the corresponding Bell state?\n",
    "\n",
    "![Question2](img/qci_a5_question2.png)"
   ]
  },
  {
   "cell_type": "code",
   "execution_count": 17,
   "metadata": {},
   "outputs": [
    {
     "name": "stdout",
     "output_type": "stream",
     "text": [
      "Statevector([0.70710678+0.j, 0.        +0.j, 0.        +0.j,\n",
      "             0.70710678+0.j],\n",
      "            dims=(2, 2))\n",
      "     ┌───┐   ┌───┐\n",
      "q_0: ┤ H ├─■─┤ H ├\n",
      "     ├───┤ │ └───┘\n",
      "q_1: ┤ H ├─■──────\n",
      "     └───┘        \n",
      "[['11', '00'], [24927, 25073]]\n"
     ]
    },
    {
     "data": {
      "image/png": "[encoded data removed]",
      "text/plain": [
       "<Figure size 640x480 with 1 Axes>"
      ]
     },
     "metadata": {},
     "output_type": "display_data"
    }
   ],
   "source": [
    "# Solution\n",
    "import qiskit\n",
    "from qiskit_aer import StatevectorSimulator\n",
    "import matplotlib.pyplot as PL\n",
    "\n",
    "def RunSim(cir, trials):\n",
    "    RR = [list(StatevectorSimulator().run(circuits=cir).result().get_counts().items()) for i in range(trials)]\n",
    "    counts = 0 #^ i would have like to use a different simulator, but i just cant get qiskit figured out\n",
    "    for i in RR: #qiskit is a bit of a mess, especially with half of the documentation being outdated\n",
    "        for z in range(len(i)):\n",
    "            if counts == 0:\n",
    "                counts = [[i[z][0]],[i[z][1]]]\n",
    "                continue\n",
    "            if not counts[0].__contains__(i[z][0]):\n",
    "                counts[0].append(i[z][0])\n",
    "                counts[1].append(i[z][1])\n",
    "            else:\n",
    "                index = counts[0].index(i[z][0])\n",
    "                counts[1][index] += i[z][1]\n",
    "    return counts\n",
    "\n",
    "QQ = qiskit.QuantumCircuit(2)\n",
    "QQ.h(0)\n",
    "QQ.h(1)\n",
    "QQ.cz(0,1)\n",
    "QQ.h(0)\n",
    "print(qiskit.quantum_info.Statevector(QQ))\n",
    "print(QQ)\n",
    "QQ.measure_all()\n",
    "\n",
    "res = RunSim(QQ, 50000)\n",
    "print(res)\n",
    "\n",
    "PL.bar(res[0], res[1])\n",
    "PL.ylabel(\"Amount measured\")\n",
    "PL.xlabel('Outputs')\n",
    "PL.title(\"Quantum circuit measurement results\")\n",
    "PL.show() #the graph show sure looks like a bell state to me"
   ]
  },
  {
   "cell_type": "markdown",
   "metadata": {},
   "source": [
    "## Question 3\n",
    "\n",
    "Moreover, your classmate claims that by manipulating the initial state (using something different from $\\ket{00}$), you can also prepare another Bell state ($\\ket{\\Psi^{-}}$).\n",
    "\n",
    "1. Could you confirm that?\n",
    "2. What should you do with the initial state to produce the requested Bell state?"
   ]
  },
  {
   "cell_type": "code",
   "execution_count": 18,
   "metadata": {
    "scrolled": true
   },
   "outputs": [
    {
     "name": "stdout",
     "output_type": "stream",
     "text": [
      "Statevector([ 0.        +0.j,  0.70710678+0.j, -0.70710678+0.j,\n",
      "              0.        +0.j],\n",
      "            dims=(2, 2))\n",
      "     ┌──────────────────────┐┌───┐   ┌───┐\n",
      "q_0: ┤0                     ├┤ H ├─■─┤ H ├\n",
      "     │  Initialize(0,0,0,1) │├───┤ │ └───┘\n",
      "q_1: ┤1                     ├┤ H ├─■──────\n",
      "     └──────────────────────┘└───┘        \n",
      "[['01', '10'], [25086, 24914]]\n"
     ]
    },
    {
     "data": {
      "image/png": "[encoded data removed]",
      "text/plain": [
       "<Figure size 640x480 with 1 Axes>"
      ]
     },
     "metadata": {},
     "output_type": "display_data"
    }
   ],
   "source": [
    "# Solution\n",
    "import qiskit\n",
    "from qiskit_aer import StatevectorSimulator\n",
    "import matplotlib.pyplot as PL\n",
    "\n",
    "def RunSim(cir, trials):\n",
    "    RR = [list(StatevectorSimulator().run(circuits=cir).result().get_counts().items()) for i in range(trials)]\n",
    "    counts = 0 #^ i would have like to use a different simulator, but i just cant get qiskit figured out\n",
    "    for i in RR: #qiskit is a bit of a mess, especially with half of the documentation being outdated\n",
    "        for z in range(len(i)):\n",
    "            if counts == 0:\n",
    "                counts = [[i[z][0]],[i[z][1]]]\n",
    "                continue\n",
    "            if not counts[0].__contains__(i[z][0]):\n",
    "                counts[0].append(i[z][0])\n",
    "                counts[1].append(i[z][1])\n",
    "            else:\n",
    "                index = counts[0].index(i[z][0])\n",
    "                counts[1][index] += i[z][1]\n",
    "    return counts\n",
    "\n",
    "QQ = qiskit.QuantumCircuit(2)\n",
    "QQ.initialize([0,0,0,1]) # so the input should be 11 for psi-\n",
    "QQ.h(0)\n",
    "QQ.h(1)\n",
    "QQ.cz(0,1)\n",
    "QQ.h(0)\n",
    "print(qiskit.quantum_info.Statevector(QQ))\n",
    "print(QQ)\n",
    "QQ.measure_all()\n",
    "\n",
    "res = RunSim(QQ, 50000)\n",
    "print(res)\n",
    "\n",
    "PL.bar(res[0], res[1])\n",
    "PL.ylabel(\"Amount measured\")\n",
    "PL.xlabel('Outputs')\n",
    "PL.title(\"Quantum circuit measurement results\")\n",
    "PL.show() #the graph show sure looks like a bell state to me"
   ]
  },
  {
   "cell_type": "markdown",
   "metadata": {},
   "source": [
    "## Question 4\n",
    "\n",
    "At this point, you have 2 different quantum circuits for the preparation of the Bell states. They are totally equivalent; however, their actual implementation on a quantum processor is different.\n",
    "\n",
    "![Question4](img/qci_a5_question4.png)\n",
    "\n",
    "Perform the following steps:\n",
    "\n",
    "1. Draw the transpiled circuit that you obtained from these circuits, using your preferred backend.\n",
    "2. Explain the actual quantum gates used for the tranpilation process."
   ]
  },
  {
   "cell_type": "code",
   "execution_count": 25,
   "metadata": {},
   "outputs": [
    {
     "name": "stdout",
     "output_type": "stream",
     "text": [
      "                                                                               \n",
      "ancilla_0 -> 0 ────────────────────────────────────────────────────────────────\n",
      "               ┌─────────┐┌────┐┌───────┐        ┌────┐  ┌─────────┐           \n",
      "      q_0 -> 1 ┤ Rz(π/2) ├┤ √X ├┤ Rz(π) ├──■─────┤ √X ├──┤ Rz(π/2) ├───────────\n",
      "               └─────────┘└────┘└───────┘┌─┴─┐┌──┴────┴─┐└──┬────┬─┘┌─────────┐\n",
      "      q_1 -> 2 ──────────────────────────┤ X ├┤ Rz(π/2) ├───┤ √X ├──┤ Rz(π/2) ├\n",
      "                                         └───┘└─────────┘   └────┘  └─────────┘\n",
      "ancilla_1 -> 3 ────────────────────────────────────────────────────────────────\n",
      "                                                                               \n",
      "ancilla_2 -> 4 ────────────────────────────────────────────────────────────────\n",
      "                                                                               \n",
      "global phase: π/4\n",
      "                                                \n",
      "ancilla_0 -> 0 ─────────────────────────────────\n",
      "               ┌─────────┐┌────┐┌─────────┐     \n",
      "      q_1 -> 1 ┤ Rz(π/2) ├┤ √X ├┤ Rz(π/2) ├──■──\n",
      "               └─────────┘└────┘└─────────┘┌─┴─┐\n",
      "      q_0 -> 2 ────────────────────────────┤ X ├\n",
      "                                           └───┘\n",
      "ancilla_1 -> 3 ─────────────────────────────────\n",
      "                                                \n",
      "ancilla_2 -> 4 ─────────────────────────────────\n",
      "                                                \n"
     ]
    }
   ],
   "source": [
    "# Solution\n",
    "import qiskit\n",
    "import qiskit_aer\n",
    "from qiskit_ibm_runtime.fake_provider import FakeAthensV2\n",
    "backend = FakeAthensV2()\n",
    "qc1 = qiskit.QuantumCircuit(2)\n",
    "qc2 = qiskit.QuantumCircuit(2)\n",
    "qc1.h(0)\n",
    "qc1.h(1)\n",
    "qc1.cz(0,1)\n",
    "qc1.h(0)\n",
    "qc2.h(1)\n",
    "qc2.cx(1,0)\n",
    "z1 = qiskit.transpile(qc1, optimization_level=3, backend=backend)\n",
    "z2 = qiskit.transpile(qc2, optimization_level=3, backend=backend)               \n",
    "print(z1)                                   \n",
    "print(z2) #so instead of H it uses a 45 z turn and sqrtX, where sqrtx would probably put it in superposition and z is to correct a -\n",
    "#the first circuit does this too, but this time it rotates it a 180 degrees, this most likely has to do with optimization.\n",
    "#it also uses cx and a cz with a sqrtx which i dont entirely understand\n"
   ]
  },
  {
   "cell_type": "markdown",
   "metadata": {},
   "source": [
    "## Question 5\n",
    "\n",
    "During the study week, another classmate learn the concept of _partial equivalence_ of quantum circuits. Two circuits are partially equivalent if, given any valid initial input state, they exhibit the same probability for each measurement outcome. Basically, two circuits exhibit the same probability for every possible measurement outcome. Moreover, not all qubits of a circuit need to be measured and there can be a set of initial states to be verified\n",
    "not just a particular single initial state.\n",
    "\n",
    "By applying this proposed definition, your classmate identified the following two circuits and she claims that they are partially equivalent.\n",
    "\n",
    "![Question5](img/qci_a5_question5.png)\n",
    "\n",
    "1. Can you verify that your classmate's claim holds for the initial state $\\ket{q_{2}q_{1}q_{0}} = \\ket{000}$?"
   ]
  },
  {
   "cell_type": "code",
   "execution_count": 183,
   "metadata": {},
   "outputs": [
    {
     "name": "stdout",
     "output_type": "stream",
     "text": [
      "     ┌──────────────────────────────┐   ┌───┐   \n",
      "q_0: ┤0                             ├─X─┤ H ├─X─\n",
      "     │                              │ │ └───┘ │ \n",
      "q_1: ┤1 Initialize(1,0,0,0,0,0,0,0) ├─■───────■─\n",
      "     │                              │ │ ┌───┐ │ \n",
      "q_2: ┤2                             ├─X─┤ Z ├─X─\n",
      "     └──────────────────────────────┘   └───┘   \n",
      "Statevector([0.70710678+0.j, 0.70710678+0.j, 0.        +0.j,\n",
      "             0.        +0.j, 0.        +0.j, 0.        +0.j,\n",
      "             0.        +0.j, 0.        +0.j],\n",
      "            dims=(2, 2, 2))\n"
     ]
    },
    {
     "data": {
      "image/png": "[encoded data removed]",
      "text/plain": [
       "<Figure size 640x480 with 1 Axes>"
      ]
     },
     "metadata": {},
     "output_type": "display_data"
    },
    {
     "name": "stdout",
     "output_type": "stream",
     "text": [
      "     ┌──────────────────────────────┐     ┌───┐\n",
      "q_0: ┤0                             ├─────┤ H ├\n",
      "     │                              │┌───┐└─┬─┘\n",
      "q_1: ┤1 Initialize(1,0,0,0,0,0,0,0) ├┤ X ├──■──\n",
      "     │                              │└───┘     \n",
      "q_2: ┤2                             ├──────────\n",
      "     └──────────────────────────────┘          \n",
      "Statevector([0.        +0.j, 0.        +0.j, 0.70710678+0.j,\n",
      "             0.70710678+0.j, 0.        +0.j, 0.        +0.j,\n",
      "             0.        +0.j, 0.        +0.j],\n",
      "            dims=(2, 2, 2))\n"
     ]
    },
    {
     "data": {
      "image/png": "[encoded data removed]",
      "text/plain": [
       "<Figure size 640x480 with 1 Axes>"
      ]
     },
     "metadata": {},
     "output_type": "display_data"
    }
   ],
   "source": [
    "# Solution\n",
    "import qiskit\n",
    "from qiskit_aer import StatevectorSimulator\n",
    "import matplotlib.pyplot as PL\n",
    "\n",
    "def RunSim(cir, trials):\n",
    "    RR = [list(StatevectorSimulator().run(circuits=cir).result().get_counts().items()) for i in range(trials)]\n",
    "    counts = 0 \n",
    "    for i in RR:\n",
    "        for z in range(len(i)):\n",
    "            if counts == 0:\n",
    "                counts = [[i[z][0]],[i[z][1]]]\n",
    "                continue\n",
    "            if not counts[0].__contains__(i[z][0]):\n",
    "                counts[0].append(i[z][0])\n",
    "                counts[1].append(i[z][1])\n",
    "            else:\n",
    "                index = counts[0].index(i[z][0])\n",
    "                counts[1][index] += i[z][1]\n",
    "    return counts\n",
    "\n",
    "def qqq1():\n",
    "    qc1 = qiskit.QuantumCircuit(3)\n",
    "    qc1.initialize([1,0,0,0,0,0,0,0])\n",
    "    qc1.cswap(1, 0, 2)\n",
    "    qc1.h(0)\n",
    "    qc1.z(2)\n",
    "    qc1.cswap(1, 0, 2)\n",
    "    print(qc1)\n",
    "    print(qiskit.quantum_info.Statevector(qc1))\n",
    "    res = RunSim(qiskit.transpile(qc1, backend=backend), 10000)\n",
    "    PL.bar(res[0], res[1])\n",
    "    PL.ylabel(\"Amount measured\")\n",
    "    PL.xlabel('Outputs')\n",
    "    PL.title(\"Quantum circuit measurement results\")\n",
    "    PL.show()\n",
    "    \n",
    "\n",
    "def qqq2():\n",
    "    qc2 = qiskit.QuantumCircuit(3)\n",
    "    qc2.initialize([1,0,0,0,0,0,0,0])\n",
    "    qc2.x(1)\n",
    "    qc2.ch(1,0)\n",
    "    print(qc2)\n",
    "    print(qiskit.quantum_info.Statevector(qc2))  \n",
    "    res = RunSim(qiskit.transpile(qc2, backend=backend), 10000)\n",
    "    PL.bar(res[0], res[1])\n",
    "    PL.ylabel(\"Amount measured\")\n",
    "    PL.xlabel('Outputs')\n",
    "    PL.title(\"Quantum circuit measurement results\")\n",
    "    PL.show()\n",
    "\n",
    "qqq1()\n",
    "qqq2() #q0 and the rest is not the same, so no it does not hold up\n"
   ]
  },
  {
   "cell_type": "markdown",
   "metadata": {},
   "source": [
    " ## Question 6\n",
    "\n",
    " The definition of _partial equivalence_ mentions `any valid input state`; however, your previous answer only consider one initial state ($\\ket{q_{2}q_{1}q_{0}} = \\ket{000}$). Perform the following steps:\n",
    " \n",
    " 1. Could you verify the claim with a random initial quantum state?\n",
    " 2. Show the probability distribution functions for each circuit.\n",
    " 3. Explain whether they are the same or not."
   ]
  },
  {
   "cell_type": "code",
   "execution_count": 184,
   "metadata": {},
   "outputs": [
    {
     "name": "stdout",
     "output_type": "stream",
     "text": [
      "[1, 0, 0, 0, 0, 0, 0, 0]\n",
      "QC1 with input state: 0\n",
      "Statevector([0.70710678+0.j, 0.70710678+0.j, 0.        +0.j,\n",
      "             0.        +0.j, 0.        +0.j, 0.        +0.j,\n",
      "             0.        +0.j, 0.        +0.j],\n",
      "            dims=(2, 2, 2))\n",
      "[1, 0, 0, 0, 0, 0, 0, 0]\n",
      "QC2 with input state: 0\n",
      "Statevector([0.        +0.j, 0.        +0.j, 0.70710678+0.j,\n",
      "             0.70710678+0.j, 0.        +0.j, 0.        +0.j,\n",
      "             0.        +0.j, 0.        +0.j],\n",
      "            dims=(2, 2, 2))\n",
      "[0, 1, 0, 0, 0, 0, 0, 0]\n",
      "QC1 with input state: 1\n",
      "Statevector([ 0.70710678+0.j, -0.70710678+0.j,  0.        +0.j,\n",
      "              0.        +0.j,  0.        +0.j,  0.        +0.j,\n",
      "              0.        +0.j,  0.        +0.j],\n",
      "            dims=(2, 2, 2))\n",
      "[0, 1, 0, 0, 0, 0, 0, 0]\n",
      "QC2 with input state: 1\n",
      "Statevector([ 0.        +0.j,  0.        +0.j,  0.70710678+0.j,\n",
      "             -0.70710678+0.j,  0.        +0.j,  0.        +0.j,\n",
      "              0.        +0.j,  0.        +0.j],\n",
      "            dims=(2, 2, 2))\n",
      "[0, 0, 1, 0, 0, 0, 0, 0]\n",
      "QC1 with input state: 2\n",
      "Statevector([0.        +0.j, 0.        +0.j, 0.70710678+0.j,\n",
      "             0.        +0.j, 0.        +0.j, 0.        +0.j,\n",
      "             0.70710678+0.j, 0.        +0.j],\n",
      "            dims=(2, 2, 2))\n",
      "[0, 0, 1, 0, 0, 0, 0, 0]\n",
      "QC2 with input state: 2\n",
      "Statevector([1.+0.j, 0.+0.j, 0.+0.j, 0.+0.j, 0.+0.j, 0.+0.j, 0.+0.j,\n",
      "             0.+0.j],\n",
      "            dims=(2, 2, 2))\n",
      "[0, 0, 0, 1, 0, 0, 0, 0]\n",
      "QC1 with input state: 3\n",
      "Statevector([ 0.        +0.j,  0.        +0.j,  0.        +0.j,\n",
      "             -0.70710678+0.j,  0.        +0.j,  0.        +0.j,\n",
      "              0.        +0.j, -0.70710678+0.j],\n",
      "            dims=(2, 2, 2))\n",
      "[0, 0, 0, 1, 0, 0, 0, 0]\n",
      "QC2 with input state: 3\n",
      "Statevector([0.+0.j, 1.+0.j, 0.+0.j, 0.+0.j, 0.+0.j, 0.+0.j, 0.+0.j,\n",
      "             0.+0.j],\n",
      "            dims=(2, 2, 2))\n",
      "[0, 0, 0, 0, 1, 0, 0, 0]\n",
      "QC1 with input state: 4\n",
      "Statevector([ 0.        +0.j,  0.        +0.j,  0.        +0.j,\n",
      "              0.        +0.j, -0.70710678+0.j, -0.70710678+0.j,\n",
      "              0.        +0.j,  0.        +0.j],\n",
      "            dims=(2, 2, 2))\n",
      "[0, 0, 0, 0, 1, 0, 0, 0]\n",
      "QC2 with input state: 4\n",
      "Statevector([0.        +0.j, 0.        +0.j, 0.        +0.j,\n",
      "             0.        +0.j, 0.        +0.j, 0.        +0.j,\n",
      "             0.70710678+0.j, 0.70710678+0.j],\n",
      "            dims=(2, 2, 2))\n",
      "[0, 0, 0, 0, 0, 1, 0, 0]\n",
      "QC1 with input state: 5\n",
      "Statevector([ 0.        +0.j,  0.        +0.j,  0.        +0.j,\n",
      "              0.        +0.j, -0.70710678+0.j,  0.70710678+0.j,\n",
      "              0.        +0.j,  0.        +0.j],\n",
      "            dims=(2, 2, 2))\n",
      "[0, 0, 0, 0, 0, 1, 0, 0]\n",
      "QC2 with input state: 5\n",
      "Statevector([ 0.        +0.j,  0.        +0.j,  0.        +0.j,\n",
      "              0.        +0.j,  0.        +0.j,  0.        +0.j,\n",
      "              0.70710678+0.j, -0.70710678+0.j],\n",
      "            dims=(2, 2, 2))\n",
      "[0, 0, 0, 0, 0, 0, 1, 0]\n",
      "QC1 with input state: 6\n",
      "Statevector([ 0.        +0.j,  0.        +0.j,  0.70710678+0.j,\n",
      "              0.        +0.j,  0.        +0.j,  0.        +0.j,\n",
      "             -0.70710678+0.j,  0.        +0.j],\n",
      "            dims=(2, 2, 2))\n",
      "[0, 0, 0, 0, 0, 0, 1, 0]\n",
      "QC2 with input state: 6\n",
      "Statevector([0.+0.j, 0.+0.j, 0.+0.j, 0.+0.j, 1.+0.j, 0.+0.j, 0.+0.j,\n",
      "             0.+0.j],\n",
      "            dims=(2, 2, 2))\n",
      "[0, 0, 0, 0, 0, 0, 0, 1]\n",
      "QC1 with input state: 7\n",
      "Statevector([ 0.        +0.j,  0.        +0.j,  0.        +0.j,\n",
      "             -0.70710678+0.j,  0.        +0.j,  0.        +0.j,\n",
      "              0.        +0.j,  0.70710678+0.j],\n",
      "            dims=(2, 2, 2))\n",
      "[0, 0, 0, 0, 0, 0, 0, 1]\n",
      "QC2 with input state: 7\n",
      "Statevector([0.+0.j, 0.+0.j, 0.+0.j, 0.+0.j, 0.+0.j, 1.+0.j, 0.+0.j,\n",
      "             0.+0.j],\n",
      "            dims=(2, 2, 2))\n"
     ]
    }
   ],
   "source": [
    "# Even better, lets just do every permutation.\n",
    "import qiskit #they arent even slightly the same, i mean it wasent even equivalent the first time around ?!?!\n",
    "\n",
    "\n",
    "qc2 = qiskit.QuantumCircuit(3)\n",
    "\n",
    "def QuantumC1(num):\n",
    "    qc1 = qiskit.QuantumCircuit(3)\n",
    "    init = [0,0,0,0,0,0,0,0]\n",
    "    init[num] = 1\n",
    "    print(init)\n",
    "    qc1.initialize(init)\n",
    "    qc1.cswap(1, 0, 2)\n",
    "    qc1.h(0)\n",
    "    qc1.z(2)\n",
    "    qc1.cswap(1, 0, 2)\n",
    "    print(\"QC1 with input state: \" + str(num))\n",
    "    print(qiskit.quantum_info.Statevector(qc1))\n",
    "\n",
    "def QuantumC2(num):\n",
    "    qc2 = qiskit.QuantumCircuit(3)\n",
    "    init = [0,0,0,0,0,0,0,0]\n",
    "    init[num] = 1\n",
    "    print(init)\n",
    "    qc2.initialize(init)\n",
    "    qc2.x(1)\n",
    "    qc2.ch(1,0)\n",
    "    print(\"QC2 with input state: \" + str(num))\n",
    "    print(qiskit.quantum_info.Statevector(qc2))\n",
    "\n",
    "for i in range(8):\n",
    "    QuantumC1(i)\n",
    "    QuantumC2(i)"
   ]
  },
  {
   "cell_type": "markdown",
   "metadata": {},
   "source": [
    "## Question 7\n",
    "\n",
    "During the lecture: \"Fundamentals: A Multi-Qubit World (2)\", I introduced the Greenberger-Horne-Zeilinger (GHZ) state for a 3-qubit quantum system. Perform the following steps:\n",
    "\n",
    "1. Assemble a circuit that creates a 5-qubit GHZ state.\n",
    "2. Draw the circuit.\n",
    "3. Show the resulting state vector."
   ]
  },
  {
   "cell_type": "code",
   "execution_count": 188,
   "metadata": {},
   "outputs": [
    {
     "name": "stdout",
     "output_type": "stream",
     "text": [
      "Statevector([0.70710678+0.j, 0.        +0.j, 0.        +0.j,\n",
      "             0.        +0.j, 0.        +0.j, 0.        +0.j,\n",
      "             0.        +0.j, 0.        +0.j, 0.        +0.j,\n",
      "             0.        +0.j, 0.        +0.j, 0.        +0.j,\n",
      "             0.        +0.j, 0.        +0.j, 0.        +0.j,\n",
      "             0.        +0.j, 0.        +0.j, 0.        +0.j,\n",
      "             0.        +0.j, 0.        +0.j, 0.        +0.j,\n",
      "             0.        +0.j, 0.        +0.j, 0.        +0.j,\n",
      "             0.        +0.j, 0.        +0.j, 0.        +0.j,\n",
      "             0.        +0.j, 0.        +0.j, 0.        +0.j,\n",
      "             0.        +0.j, 0.70710678+0.j],\n",
      "            dims=(2, 2, 2, 2, 2))\n",
      "     ┌───┐                    \n",
      "q_0: ┤ H ├──■────■────■────■──\n",
      "     └───┘┌─┴─┐  │    │    │  \n",
      "q_1: ─────┤ X ├──┼────┼────┼──\n",
      "          └───┘┌─┴─┐  │    │  \n",
      "q_2: ──────────┤ X ├──┼────┼──\n",
      "               └───┘┌─┴─┐  │  \n",
      "q_3: ───────────────┤ X ├──┼──\n",
      "                    └───┘┌─┴─┐\n",
      "q_4: ────────────────────┤ X ├\n",
      "                         └───┘\n"
     ]
    }
   ],
   "source": [
    "# Solution\n",
    "import qiskit\n",
    "\n",
    "QQ = qiskit.QuantumCircuit(5)\n",
    "QQ.h(0)\n",
    "QQ.cx(0,1)\n",
    "QQ.cx(0,2)\n",
    "QQ.cx(0,3)\n",
    "QQ.cx(0,4)\n",
    "print(qiskit.quantum_info.Statevector(QQ))\n",
    "print(QQ) #yep, max entanglement with the GHZ state"
   ]
  },
  {
   "attachments": {},
   "cell_type": "markdown",
   "metadata": {},
   "source": [
    "## Question 8\n",
    "\n",
    "During the lecture: \"Fundamentals: A Multi-Qubit World (2)\", I presented the following quantum circuit for parity calculation on communication systems:\n",
    "\n",
    "![Question8](img/qci_a5_question8.png)\n",
    "\n",
    "Assuming $\\ket{q_{2}q_{1}q_{0}}$ = $\\ket{000}$, perform the following steps:\n",
    "\n",
    "1. Assemble, draw and simulate the appropriate circuit.\n",
    "2. Show the resulting probabilities of the simulations.\n",
    "\n",
    "NB: The circuit presented during the lecture only measures the `parity qubit` (the most significative qubit). For completeness, in this exercise you should measure all 3 qubits."
   ]
  },
  {
   "cell_type": "code",
   "execution_count": 191,
   "metadata": {},
   "outputs": [
    {
     "name": "stdout",
     "output_type": "stream",
     "text": [
      "Statevector([0.5+0.j, 0. +0.j, 0. +0.j, 0.5+0.j, 0. +0.j, 0.5+0.j, 0.5+0.j,\n",
      "             0. +0.j],\n",
      "            dims=(2, 2, 2))\n",
      "     ┌───┐          \n",
      "q_0: ┤ H ├──■───────\n",
      "     ├───┤  │       \n",
      "q_1: ┤ H ├──┼────■──\n",
      "     └───┘┌─┴─┐┌─┴─┐\n",
      "q_2: ─────┤ X ├┤ X ├\n",
      "          └───┘└───┘\n",
      "[['000', '011', '101', '110'], [12500.0, 12500.0, 12500.0, 12500.0]]\n"
     ]
    },
    {
     "data": {
      "image/png": "[encoded data removed]",
      "text/plain": [
       "<Figure size 640x480 with 1 Axes>"
      ]
     },
     "metadata": {},
     "output_type": "display_data"
    }
   ],
   "source": [
    "# Solution\n",
    "\n",
    "import qiskit\n",
    "from qiskit_aer import StatevectorSimulator\n",
    "import matplotlib.pyplot as PL\n",
    "\n",
    "def RunSim(cir, trials):\n",
    "    RR = [list(StatevectorSimulator().run(circuits=cir).result().get_counts().items()) for i in range(trials)]\n",
    "    counts = 0 #^ i would have like to use a different simulator, but i just cant get qiskit figured out\n",
    "    for i in RR: #qiskit is a bit of a mess, especially with half of the documentation being outdated\n",
    "        for z in range(len(i)):\n",
    "            if counts == 0:\n",
    "                counts = [[i[z][0]],[i[z][1]]]\n",
    "                continue\n",
    "            if not counts[0].__contains__(i[z][0]):\n",
    "                counts[0].append(i[z][0])\n",
    "                counts[1].append(i[z][1])\n",
    "            else:\n",
    "                index = counts[0].index(i[z][0])\n",
    "                counts[1][index] += i[z][1]\n",
    "    return counts\n",
    "\n",
    "QQ = qiskit.QuantumCircuit(3)\n",
    "QQ.h(0)\n",
    "QQ.h(1)\n",
    "QQ.cx(0,2)\n",
    "QQ.cx(1,2)\n",
    "print(qiskit.quantum_info.Statevector(QQ))\n",
    "print(QQ)\n",
    "\n",
    "res = RunSim(QQ, 50000)\n",
    "print(res)\n",
    "\n",
    "PL.bar(res[0], res[1])\n",
    "PL.ylabel(\"Amount measured\")\n",
    "PL.xlabel('Outputs')\n",
    "PL.title(\"Quantum circuit measurement results\")\n",
    "PL.show()"
   ]
  },
  {
   "cell_type": "markdown",
   "metadata": {},
   "source": [
    "## Question 9\n",
    "\n",
    "At this point you should be aware that n-qubits system $\\rightarrow 2^{n}$ distinguishable states. In the previous exercise (`Question 8`) you had a 3-qubits system, hence you should have expected 8 distinguishable states yet there are only 4.\n",
    "\n",
    "Considering the obtained results (4 distinguishable states if you previous solution is correct), explain how can you use them to back up the claim: `\"State collapsed to the given parity measurement!\"` presented during the lecture. The answer to this question does not require a python code. You just have to analyze the results and provide an answer."
   ]
  },
  {
   "cell_type": "markdown",
   "metadata": {},
   "source": [
    "### Write down your answer here"
   ]
  },
  {
   "cell_type": "markdown",
   "metadata": {},
   "source": [
    "yes it does show parity, due to it being 1 when uneven and 0 when even. so it shows when there is parity on the non collapsed qbits."
   ]
  },
  {
   "cell_type": "markdown",
   "metadata": {},
   "source": [
    "## Question 10\n",
    "\n",
    "During the lecture: \"Fundamentals: A Multi-Qubit World (2)\", I introduced the Quantum Teleportation algorithm.\n",
    "\n",
    "1. Implement, simulate and draw the teleportation quantum circuit.\n",
    "2. Show the initial and the resulting vector state (you can use the Bloch sphere).\n",
    "3. Explain how do you recognize that the algorithm works.\n",
    "\n",
    "![Question10](img/qci_a5_question10.png)\n",
    "\n",
    "NB: In order to better show the result of your algorithm, you should initialize your quantum circuit to a random or predefined vector state. You could use the `circuit.initialize()` command to perform such task."
   ]
  },
  {
   "cell_type": "code",
   "execution_count": 193,
   "metadata": {},
   "outputs": [
    {
     "name": "stdout",
     "output_type": "stream",
     "text": [
      "Statevector([ 0.35355339+0.j,  0.35355339+0.j, -0.35355339+0.j,\n",
      "              0.35355339+0.j, -0.35355339+0.j,  0.35355339+0.j,\n",
      "              0.35355339+0.j,  0.35355339+0.j],\n",
      "            dims=(2, 2, 2))\n",
      "     ┌───────────────────────────────────────────┐               ┌───┐\n",
      "q_0: ┤0                                          ├────────────■──┤ H ├\n",
      "     │                                           │┌───┐     ┌─┴─┐└───┘\n",
      "q_1: ┤1 Initialize(0.70711,-0.70711,0,0,0,0,0,0) ├┤ H ├──■──┤ X ├─────\n",
      "     │                                           │└───┘┌─┴─┐└───┘     \n",
      "q_2: ┤2                                          ├─────┤ X ├──────────\n",
      "     └───────────────────────────────────────────┘     └───┘          \n",
      "[['000', '001', '010', '011', '100', '101', '110', '111'], [6250.0, 6250.0, 6250.0, 6250.0, 6250.0, 6250.0, 6250.0, 6250.0]]\n"
     ]
    },
    {
     "data": {
      "image/png": "[encoded data removed]",
      "text/plain": [
       "<Figure size 640x480 with 1 Axes>"
      ]
     },
     "metadata": {},
     "output_type": "display_data"
    }
   ],
   "source": [
    "# Solution\n",
    "import qiskit\n",
    "from qiskit_aer import StatevectorSimulator\n",
    "import matplotlib.pyplot as PL\n",
    "import math\n",
    "\n",
    "def RunSim(cir, trials):\n",
    "    RR = [list(StatevectorSimulator().run(circuits=cir).result().get_counts().items()) for i in range(trials)]\n",
    "    counts = 0 #^ i would have like to use a different simulator, but i just cant get qiskit figured out\n",
    "    for i in RR: #qiskit is a bit of a mess, especially with half of the documentation being outdated\n",
    "        for z in range(len(i)):\n",
    "            if counts == 0:\n",
    "                counts = [[i[z][0]],[i[z][1]]]\n",
    "                continue\n",
    "            if not counts[0].__contains__(i[z][0]):\n",
    "                counts[0].append(i[z][0])\n",
    "                counts[1].append(i[z][1])\n",
    "            else:\n",
    "                index = counts[0].index(i[z][0])\n",
    "                counts[1][index] += i[z][1]\n",
    "    return counts\n",
    "\n",
    "QQ = qiskit.QuantumCircuit(3)\n",
    "QQ.initialize([1/math.sqrt(2),-1/math.sqrt(2),0,0,0,0,0,0])\n",
    "QQ.h(1)\n",
    "QQ.cx(1,2)\n",
    "QQ.cx(0,1)\n",
    "QQ.h(0)\n",
    "print(qiskit.quantum_info.Statevector(QQ))\n",
    "print(QQ)\n",
    "\n",
    "res = RunSim(QQ, 50000)\n",
    "print(res)\n",
    "\n",
    "PL.bar(res[0], res[1])\n",
    "PL.ylabel(\"Amount measured\")\n",
    "PL.xlabel('Outputs')\n",
    "PL.title(\"Quantum circuit measurement results\")\n",
    "PL.show()\n"
   ]
  }
 ],
 "metadata": {
  "kernelspec": {
   "display_name": "Python 3 (ipykernel)",
   "language": "python",
   "name": "python3"
  },
  "language_info": {
   "codemirror_mode": {
    "name": "ipython",
    "version": 3
   },
   "file_extension": ".py",
   "mimetype": "text/x-python",
   "name": "python",
   "nbconvert_exporter": "python",
   "pygments_lexer": "ipython3",
   "version": "3.11.8"
  }
 },
 "nbformat": 4,
 "nbformat_minor": 4
}
