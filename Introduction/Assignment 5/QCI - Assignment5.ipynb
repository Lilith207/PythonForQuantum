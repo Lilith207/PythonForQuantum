{
 "cells": [
  {
   "cell_type": "markdown",
   "metadata": {},
   "source": [
    "# Quantum Computing Introduction - Assignment 5\n",
    "# Names: Lilith Bertens, Quincy Koelman\n",
    "# IDs: BERTENL, KOELMAQ (500878956)\n",
    "\n",
    "Welcome to the fifth assignment! During this assignment, you will use the IBM Qiskit package. This framework offers a huge variety of very interesting functionalities to explore. This assignment will require you to investigate about the proper usage of the tool. Please refer to the [IBM Quantum Documentation](https://qiskit.org/documentation/)."
   ]
  },
  {
   "attachments": {},
   "cell_type": "markdown",
   "metadata": {},
   "source": [
    "For this assignment you can use whatever simulator you consider useful to solve the exercises. Read carefully the questions and identify the most suitable simulator for your purposes. Moreover, you will have to setup your own [QuantumCircuit](https://docs.quantum.ibm.com/api/qiskit/qiskit.circuit.QuantumCircuit#quantumcircuit) because we are not going to use only 2-qubit quantum system. Hence, your solution should include the complete setup process to create and simulate the requested quantum circuit.\n",
    "\n",
    "## Question 1\n",
    "\n",
    "In the assignent on Quantum Programming 2 (Assignment 4), we mentioned the concept of _total equivalence_, namely, the identity of the output states (modulo a global phase difference) between the two circuits under verification. Moreover, you showed the total equivaence of the following quantum circuits.\n",
    "\n",
    "![Question1](img/qci_a5_question1.png)\n",
    "\n",
    "Additionally, as shown during the workshop on Quantum Programming 2, different quantum processors deal with the quantum circuits in different ways, depending on the topology, number of qubits, set of available gates, etc.. Perform the following steps:\n",
    "\n",
    "1. Implement the quantum circuit in the left,\n",
    "2. Draw the transpiled circuit from it.\n",
    "3. Show how the Swap gate is actually implemented in your preferred backend."
   ]
  },
  {
   "cell_type": "code",
   "execution_count": 2,
   "metadata": {},
   "outputs": [],
   "source": [
    "# Solution\n",
    "import qiskit\n",
    "qc1 = qiskit.QuantumCircuit(2)\n",
    "qc2 = qiskit.QuantumCircuit(2)\n",
    "qc1.x(0)\n",
    "qc2.x(0)\n",
    "qc1.h(0)\n",
    "qc2.h(0)\n",
    "print(qiskit.quantum_info.Statevector(qc1))\n",
    "print(qiskit.quantum_info.Statevector(qc2))\n",
    "qc1.swap(0,1)\n",
    "qc2.cx(0,1)\n",
    "qc2.cx(1,0)\n",
    "qc2.cx(0,1)\n",
    "qc1.t\n",
    "print(qiskit.quantum_info.Statevector(qc1))\n",
    "print(qiskit.quantum_info.Statevector(qc2))\n",
    "print(qc1)\n",
    "print(qc2)"
   ]
  },
  {
   "cell_type": "markdown",
   "metadata": {},
   "source": [
    "## Question 2\n",
    "\n",
    "Preparing for the upcoming assessment, one of your classmates identified a quantum circuit supposed to prepare one of the Bell states (specifically $\\ket{\\Phi^{+}}$). As usual, you are not completely sure about its validity, hence your are going to implement such circuit in Qiskit to figure it out. Assume $\\ket{q_{1}q_{0}}$ = $\\ket{00}$. \n",
    "\n",
    "Perform the following steps:\n",
    "\n",
    "1. Implement the following circuit.\n",
    "2. Execute the simulator.\n",
    "3. Print the resulting vector state.\n",
    "4. Does the proposed circuit prepare the corresponding Bell state?\n",
    "\n",
    "![Question2](img/qci_a5_question2.png)"
   ]
  },
  {
   "cell_type": "code",
   "execution_count": 3,
   "metadata": {},
   "outputs": [],
   "source": [
    "# Solution\n",
    "\n"
   ]
  },
  {
   "cell_type": "markdown",
   "metadata": {},
   "source": [
    "## Question 3\n",
    "\n",
    "Moreover, your classmate claims that by manipulating the initial state (using something different from $\\ket{00}$), you can also prepare another Bell state ($\\ket{\\Psi^{-}}$).\n",
    "\n",
    "1. Could you confirm that?\n",
    "2. What should you do with the initial state to produce the requested Bell state?"
   ]
  },
  {
   "cell_type": "code",
   "execution_count": 4,
   "metadata": {
    "scrolled": true
   },
   "outputs": [],
   "source": [
    "# Solution\n",
    "\n"
   ]
  },
  {
   "cell_type": "markdown",
   "metadata": {},
   "source": [
    "## Question 4\n",
    "\n",
    "At this point, you have 2 different quantum circuits for the preparation of the Bell states. They are totally equivalent; however, their actual implementation on a quantum processor is different.\n",
    "\n",
    "![Question4](img/qci_a5_question4.png)\n",
    "\n",
    "Perform the following steps:\n",
    "\n",
    "1. Draw the transpiled circuit that you obtained from these circuits, using your preferred backend.\n",
    "2. Explain the actual quantum gates used for the tranpilation process."
   ]
  },
  {
   "cell_type": "code",
   "execution_count": 5,
   "metadata": {},
   "outputs": [],
   "source": [
    "# Solution\n",
    "\n"
   ]
  },
  {
   "cell_type": "markdown",
   "metadata": {},
   "source": [
    "## Question 5\n",
    "\n",
    "During the study week, another classmate learn the concept of _partial equivalence_ of quantum circuits. Two circuits are partially equivalent if, given any valid initial input state, they exhibit the same probability for each measurement outcome. Basically, two circuits exhibit the same probability for every possible measurement outcome. Moreover, not all qubits of a circuit need to be measured and there can be a set of initial states to be verified\n",
    "not just a particular single initial state.\n",
    "\n",
    "By applying this proposed definition, your classmate identified the following two circuits and she claims that they are partially equivalent.\n",
    "\n",
    "![Question5](img/qci_a5_question5.png)\n",
    "\n",
    "1. Can you verify that your classmate's claim holds for the initial state $\\ket{q_{2}q_{1}q_{0}} = \\ket{000}$?"
   ]
  },
  {
   "cell_type": "code",
   "execution_count": 6,
   "metadata": {},
   "outputs": [],
   "source": [
    "# Solution\n",
    "\n"
   ]
  },
  {
   "cell_type": "markdown",
   "metadata": {},
   "source": [
    " ## Question 6\n",
    "\n",
    " The definition of _partial equivalence_ mentions `any valid input state`; however, your previous answer only consider one initial state ($\\ket{q_{2}q_{1}q_{0}} = \\ket{000}$). Perform the following steps:\n",
    " \n",
    " 1. Could you verify the claim with a random initial quantum state?\n",
    " 2. Show the probability distribution functions for each circuit.\n",
    " 3. Explain whether they are the same or not."
   ]
  },
  {
   "cell_type": "code",
   "execution_count": 7,
   "metadata": {},
   "outputs": [],
   "source": [
    "# Solution\n",
    "\n"
   ]
  },
  {
   "cell_type": "markdown",
   "metadata": {},
   "source": [
    "## Question 7\n",
    "\n",
    "During the lecture: \"Fundamentals: A Multi-Qubit World (2)\", I introduced the Greenberger-Horne-Zeilinger (GHZ) state for a 3-qubit quantum system. Perform the following steps:\n",
    "\n",
    "1. Assemble a circuit that creates a 5-qubit GHZ state.\n",
    "2. Draw the circuit.\n",
    "3. Show the resulting state vector."
   ]
  },
  {
   "cell_type": "code",
   "execution_count": 8,
   "metadata": {},
   "outputs": [],
   "source": [
    "# Solution\n",
    "\n"
   ]
  },
  {
   "attachments": {},
   "cell_type": "markdown",
   "metadata": {},
   "source": [
    "## Question 8\n",
    "\n",
    "During the lecture: \"Fundamentals: A Multi-Qubit World (2)\", I presented the following quantum circuit for parity calculation on communication systems:\n",
    "\n",
    "![Question8](img/qci_a5_question8.png)\n",
    "\n",
    "Assuming $\\ket{q_{2}q_{1}q_{0}}$ = $\\ket{000}$, perform the following steps:\n",
    "\n",
    "1. Assemble, draw and simulate the appropriate circuit.\n",
    "2. Show the resulting probabilities of the simulations.\n",
    "\n",
    "NB: The circuit presented during the lecture only measures the `parity qubit` (the most significative qubit). For completeness, in this exercise you should measure all 3 qubits."
   ]
  },
  {
   "cell_type": "code",
   "execution_count": 9,
   "metadata": {},
   "outputs": [],
   "source": [
    "# Solution\n",
    "\n"
   ]
  },
  {
   "cell_type": "markdown",
   "metadata": {},
   "source": [
    "## Question 9\n",
    "\n",
    "At this point you should be aware that n-qubits system $\\rightarrow 2^{n}$ distinguishable states. In the previous exercise (`Question 8`) you had a 3-qubits system, hence you should have expected 8 distinguishable states yet there are only 4.\n",
    "\n",
    "Considering the obtained results (4 distinguishable states if you previous solution is correct), explain how can you use them to back up the claim: `\"State collapsed to the given parity measurement!\"` presented during the lecture. The answer to this question does not require a python code. You just have to analyze the results and provide an answer."
   ]
  },
  {
   "cell_type": "markdown",
   "metadata": {},
   "source": [
    "### Write down your answer here"
   ]
  },
  {
   "cell_type": "markdown",
   "metadata": {},
   "source": [
    "## Question 10\n",
    "\n",
    "During the lecture: \"Fundamentals: A Multi-Qubit World (2)\", I introduced the Quantum Teleportation algorithm.\n",
    "\n",
    "1. Implement, simulate and draw the teleportation quantum circuit.\n",
    "2. Show the initial and the resulting vector state (you can use the Bloch sphere).\n",
    "3. Explain how do you recognize that the algorithm works.\n",
    "\n",
    "![Question10](img/qci_a5_question10.png)\n",
    "\n",
    "NB: In order to better show the result of your algorithm, you should initialize your quantum circuit to a random or predefined vector state. You could use the `circuit.initialize()` command to perform such task."
   ]
  },
  {
   "cell_type": "code",
   "execution_count": 10,
   "metadata": {},
   "outputs": [],
   "source": [
    "# Solution\n",
    "\n"
   ]
  }
 ],
 "metadata": {
  "kernelspec": {
   "display_name": "Python 3 (ipykernel)",
   "language": "python",
   "name": "python3"
  },
  "language_info": {
   "codemirror_mode": {
    "name": "ipython",
    "version": 3
   },
   "file_extension": ".py",
   "mimetype": "text/x-python",
   "name": "python",
   "nbconvert_exporter": "python",
   "pygments_lexer": "ipython3",
   "version": "3.10.12"
  }
 },
 "nbformat": 4,
 "nbformat_minor": 4
}
