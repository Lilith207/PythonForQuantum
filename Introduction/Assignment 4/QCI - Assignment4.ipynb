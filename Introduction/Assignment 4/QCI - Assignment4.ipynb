{
 "cells": [
  {
   "cell_type": "markdown",
   "metadata": {},
   "source": [
    "# Quantum Computing Introduction - Assignment 4\n",
    "# Names:\n",
    "# IDs:\n",
    "\n",
    "Welcome to the fourth assignment! During this assignment, you will use the IBM Qiskit package. This framework offers a huge variety of very interesting functionalities to explore. This assignment will require you to investigate about the proper usage of the tool. Please refer to the [IBM Quantum Documentation](https://qiskit.org/documentation/).\n",
    "\n",
    "Additionally, you will be asked to work with another quantum programming framework (e.g., Cirq, Q#, etc.). Please, provide also the instructions and/or the inline code to install such tools.\n",
    "\n",
    "\n",
    "# Python environment"
   ]
  },
  {
   "cell_type": "code",
   "execution_count": 14,
   "metadata": {},
   "outputs": [],
   "source": [
    "# Imports\n",
    "\n"
   ]
  },
  {
   "cell_type": "markdown",
   "metadata": {},
   "source": [
    "The following cell contains some useful definitions and functions for the development of your assignment. They were already introduced in the Qiskit Introduction notebook and included here in case you need them."
   ]
  },
  {
   "cell_type": "code",
   "execution_count": 2,
   "metadata": {},
   "outputs": [],
   "source": [
    "# Function: state_to_dirac(quantum_state)\n",
    "#\n",
    "# \n",
    "# This function accepts an arbitrary state vector and prints it in its corresponding Dirac notation\n",
    "def state_to_dirac(state):\n",
    "\n",
    "    # Convert the statevector to dictionary form.\n",
    "    state_to_dict = state.to_dict()\n",
    "\n",
    "    return ' '.join('{1:+.4f}|{0}>'.format(key, value)\n",
    "                      for key, value in state_to_dict.items())\n",
    "\n",
    "\n",
    "# Function: simulate_circuit_and_obtain_vector(quantum_circuit, number_shots)\n",
    "#\n",
    "# \n",
    "# This function accepts an arbitrary circuit, performs its state vector simulation and \n",
    "# returns the resulting vector state as a [x, y, z] vector that could be plotted\n",
    "def simulate_circuit_and_obtain_vector(qc, trials = 100000):\n",
    "\n",
    "    # Execute the state vector simulation\n",
    "    resulting_vector = Statevector(qc)\n",
    "\n",
    "    # Convert the resulting state vector in its Dirac notation\n",
    "    dirac_vector = state_to_dirac(resulting_vector)\n",
    "\n",
    "    return resulting_vector, dirac_vector\n",
    "\n"
   ]
  },
  {
   "attachments": {},
   "cell_type": "markdown",
   "metadata": {},
   "source": [
    "For this assignment you can use whatever simulator you consider useful to solve the exercises. Read carefully the questions and identify the most suitable simulator for your purposes. Moreover, you will have to setup your own [QuantumCircuit](https://docs.quantum.ibm.com/api/qiskit/qiskit.circuit.QuantumCircuit#quantumcircuit) because we are not going to use only 2-qubit quantum system. Hence, your solution should include the complete setup process to create and simulate the requested quantum circuit.\n",
    "\n",
    "## Question 1\n",
    "\n",
    "Determine whether the two presented quantum circuit are equivalents:\n",
    "![Question1](img/qci_a4_question1.png)\n",
    "\n",
    "NB: Two quantum circuits are equivalent when their unitary matrices are equal."
   ]
  },
  {
   "cell_type": "code",
   "execution_count": 3,
   "metadata": {},
   "outputs": [],
   "source": [
    "# Solution\n",
    "\n"
   ]
  },
  {
   "attachments": {},
   "cell_type": "markdown",
   "metadata": {},
   "source": [
    "## Question 2\n",
    "\n",
    "Implement the following quantum circuit and show the resulting state vector:\n",
    "![Question2](img/qci_a4_question2.png)"
   ]
  },
  {
   "cell_type": "code",
   "execution_count": 4,
   "metadata": {},
   "outputs": [],
   "source": [
    "# Solution\n",
    "\n"
   ]
  },
  {
   "cell_type": "markdown",
   "metadata": {},
   "source": [
    "## Question 3\n",
    "\n",
    "During the lecture: \"Fundamentals: A Multi-Qubit World\", I  presented four different Bell states. Starting from a $\\left| 11 \\right\\rangle$ state, implement a quantum circuit to create and print the Bell state $\\left| \\Phi^+ \\right\\rangle$."
   ]
  },
  {
   "cell_type": "code",
   "execution_count": 5,
   "metadata": {},
   "outputs": [],
   "source": [
    "# Solution\n",
    "\n"
   ]
  },
  {
   "attachments": {},
   "cell_type": "markdown",
   "metadata": {},
   "source": [
    "## Question 4\n",
    "\n",
    "After an extensive research on the web, one of your classmates identified a quantum circuit supposed to prepare one of the Bell states. However, you are not completely sure about its validity, hence your are going to implement such circuit in Qiskit to figure it out. Assume $\\left| q_{1}q_{0} \\right\\rangle$ = $\\left| 00 \\right\\rangle$. \n",
    "\n",
    "Implement the following circuit, execute the simulator and print the resulting vector state\n",
    "![Question4](img/qci_a4_question4.png)\n",
    "\n",
    "NB: Sometimes, when implementing bigger quantum circuits, it could be useful to include a [Barrier](https://docs.quantum.ibm.com/api/qiskit/qiskit.circuit.library.Barrier). This [command](https://docs.quantum.ibm.com/api/qiskit/qiskit.circuit.QuantumCircuit#barrier) allows you to set a \"barrier\" in your circuit (for example, just before the measurement). This barrier could be useful to properly visualize and delimitate the different sections of your code."
   ]
  },
  {
   "cell_type": "code",
   "execution_count": 6,
   "metadata": {},
   "outputs": [],
   "source": [
    "# Solution\n",
    "\n"
   ]
  },
  {
   "cell_type": "markdown",
   "metadata": {},
   "source": [
    "## Question 5\n",
    "\n",
    "Is the resulting state obtained in `Question 4` an entangled state? Why? Is it a valid Bell state (if so, indicate which state would that be). Compute its concurrence."
   ]
  },
  {
   "cell_type": "code",
   "execution_count": 7,
   "metadata": {},
   "outputs": [],
   "source": [
    "# Solution\n",
    "\n"
   ]
  },
  {
   "cell_type": "markdown",
   "metadata": {},
   "source": [
    "## Question 6\n",
    "\n",
    "Without modifying the quantum circuit that you just created (the tentative Bell state circuit). Perform a 50000 shots simulations and plot the resulting probabilities."
   ]
  },
  {
   "cell_type": "code",
   "execution_count": 8,
   "metadata": {},
   "outputs": [],
   "source": [
    "# Solution\n",
    "\n"
   ]
  },
  {
   "cell_type": "markdown",
   "metadata": {},
   "source": [
    "# Quantum Inspire\n",
    "\n",
    "I would say that it is enough about Qiskit (for now :)). Let's try the Dutch innitiative [Quantum Inspire](https://www.quantum-inspire.com/). This tool allows you to work both with an emulator: `QX Single-node` (26 qubits max) and with actual quantum processors: `Spin-2` (2 qubits) and `Starmon-5` (5 qubits). You have to create an account (for free, with some limitations of course) but that should not be a problem (no credit card needed for the Basic account).\n",
    "\n",
    "## Question 7\n",
    "\n",
    "Using Quantum Inspire, create the quantum circuit to produce the Bell state requested below (depending on your team):\n",
    "\n",
    "| Bell state | Groups |\n",
    "| :- | - |\n",
    "| $\\left| \\Phi^{-} \\right\\rangle$ | 1, 7, 10, 11 |\n",
    "| $\\left| \\Psi^{+} \\right\\rangle$ | 3, 4, 5, 8 |\n",
    "| $\\left| \\Psi^{-} \\right\\rangle$ | 2, 6, 9, 12 |\n",
    "\n",
    "Perform a simulation (16384 shots max) and plot the resulting probabilities. Insert here a screen capture of the obtained results, including the source code and the quantum circuit."
   ]
  },
  {
   "cell_type": "code",
   "execution_count": 9,
   "metadata": {},
   "outputs": [],
   "source": [
    "# Solution\n",
    "\n"
   ]
  },
  {
   "cell_type": "markdown",
   "metadata": {},
   "source": [
    "# Question 8\n",
    "\n",
    "During the lecture: \"Fundamentals: A Multi-Qubit World\", I  presented a quantum entanglement swapping circuit (creating entanglement between two non interacting qubits). Using Quantum Inspire, create such circuit, perform the simulation and plot the resulting probabilities. Did your circuit produced the requested Bell state? (Insert here a screen capture of the obtained results, including the source code and the quantum circuit.)\n",
    "\n",
    "![Question8](img/qci_a4_question8.png)"
   ]
  },
  {
   "cell_type": "code",
   "execution_count": 10,
   "metadata": {},
   "outputs": [],
   "source": [
    "# Solution\n",
    "\n"
   ]
  },
  {
   "cell_type": "markdown",
   "metadata": {},
   "source": [
    "# Other quantum programming frameworks\n",
    "\n",
    "Now, let's try another quantum programming framework. The teams will test one of the proposed quantum programming environments based on the following:\n",
    "\n",
    "| Platform | Groups |\n",
    "| :- | - |\n",
    "| Cirq | 1, 5, 8, 9, 10, 12 |\n",
    "| Q# | 2, 3, 4, 6, 7, 11 |\n",
    "\n",
    "## Question 9\n",
    "\n",
    "Using the assigned quantum programming framework, implement the quantum circuit from `Question 8`, draw the circuit, perform the simulation and plot the results"
   ]
  },
  {
   "cell_type": "code",
   "execution_count": 11,
   "metadata": {},
   "outputs": [],
   "source": [
    "# Solution\n",
    "\n"
   ]
  },
  {
   "cell_type": "markdown",
   "metadata": {},
   "source": [
    "## Question 10\n",
    "\n",
    "One of the teachers has “encrypted” a secret 3–bit code in qubits $\\left| q_{2}q_{1}q_{0} \\right\\rangle$ from the following quantum circuit. The circuit must be initialized as $\\left| q_{3}q_{2}q_{1}q_{0} \\right\\rangle = \\left| 1000 \\right\\rangle$.\n",
    "\n",
    "![Question10](img/qci_a4_question10.png)\n",
    "\n",
    "1. Implement and draw the circuit.\n",
    "2. What is the resulting vector state. What would you say that the secret code is? Why?\n",
    "3. Perform a simulation of the proposed circuit and plot the resulting probabilities.\n",
    "4. Did your results confirm the secret code that you estimated in `Question 10.2`?\n"
   ]
  },
  {
   "cell_type": "code",
   "execution_count": 12,
   "metadata": {},
   "outputs": [],
   "source": [
    "# Solution\n",
    "\n"
   ]
  },
  {
   "cell_type": "code",
   "execution_count": 13,
   "metadata": {
    "scrolled": true
   },
   "outputs": [
    {
     "name": "stdout",
     "output_type": "stream",
     "text": [
      "Software version:\n",
      "\n",
      "qiskit                    0.46.0\n",
      "qiskit-aer                0.13.2\n",
      "qiskit-ibm-provider       0.8.0\n",
      "qiskit-ibm-runtime        0.18.0\n",
      "qiskit-terra              0.46.0\n",
      "Python 3.10.12\n"
     ]
    }
   ],
   "source": [
    "print('Software version:\\n')\n",
    "!pip list | grep \"qiskit\"\n",
    "!pip list | grep \"IBMQuantumExperience\"\n",
    "!python --version"
   ]
  },
  {
   "cell_type": "code",
   "execution_count": null,
   "metadata": {},
   "outputs": [],
   "source": []
  }
 ],
 "metadata": {
  "kernelspec": {
   "display_name": "Python 3 (ipykernel)",
   "language": "python",
   "name": "python3"
  },
  "language_info": {
   "codemirror_mode": {
    "name": "ipython",
    "version": 3
   },
   "file_extension": ".py",
   "mimetype": "text/x-python",
   "name": "python",
   "nbconvert_exporter": "python",
   "pygments_lexer": "ipython3",
   "version": "3.10.12"
  }
 },
 "nbformat": 4,
 "nbformat_minor": 4
}
