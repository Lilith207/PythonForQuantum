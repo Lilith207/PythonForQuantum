{
 "cells": [
  {
   "cell_type": "markdown",
   "metadata": {},
   "source": [
    "# Quantum Computing Introduction - Assignment 4\n",
    "# Names:\n",
    "# IDs:\n",
    "\n",
    "Welcome to the fourth assignment! During this assignment, you will use the IBM Qiskit package. This framework offers a huge variety of very interesting functionalities to explore. This assignment will require you to investigate about the proper usage of the tool. Please refer to the [IBM Quantum Documentation](https://qiskit.org/documentation/).\n",
    "\n",
    "Additionally, you will be asked to work with another quantum programming framework (e.g., Cirq, Q#, etc.). Please, provide also the instructions and/or the inline code to install such tools.\n",
    "\n",
    "\n",
    "# Python environment"
   ]
  },
  {
   "cell_type": "code",
   "execution_count": 14,
   "metadata": {},
   "outputs": [],
   "source": [
    "# Imports\n",
    "\n"
   ]
  },
  {
   "cell_type": "markdown",
   "metadata": {},
   "source": [
    "The following cell contains some useful definitions and functions for the development of your assignment. They were already introduced in the Qiskit Introduction notebook and included here in case you need them."
   ]
  },
  {
   "cell_type": "code",
   "execution_count": 2,
   "metadata": {},
   "outputs": [],
   "source": [
    "# Function: state_to_dirac(quantum_state)\n",
    "#\n",
    "# \n",
    "# This function accepts an arbitrary state vector and prints it in its corresponding Dirac notation\n",
    "def state_to_dirac(state):\n",
    "\n",
    "    # Convert the statevector to dictionary form.\n",
    "    state_to_dict = state.to_dict()\n",
    "\n",
    "    return ' '.join('{1:+.4f}|{0}>'.format(key, value)\n",
    "                      for key, value in state_to_dict.items())\n",
    "\n",
    "\n",
    "# Function: simulate_circuit_and_obtain_vector(quantum_circuit, number_shots)\n",
    "#\n",
    "# \n",
    "# This function accepts an arbitrary circuit, performs its state vector simulation and \n",
    "# returns the resulting vector state as a [x, y, z] vector that could be plotted\n",
    "def simulate_circuit_and_obtain_vector(qc, trials = 100000):\n",
    "\n",
    "    # Execute the state vector simulation\n",
    "    resulting_vector = Statevector(qc)\n",
    "\n",
    "    # Convert the resulting state vector in its Dirac notation\n",
    "    dirac_vector = state_to_dirac(resulting_vector)\n",
    "\n",
    "    return resulting_vector, dirac_vector\n",
    "\n"
   ]
  },
  {
   "attachments": {},
   "cell_type": "markdown",
   "metadata": {},
   "source": [
    "For this assignment you can use whatever simulator you consider useful to solve the exercises. Read carefully the questions and identify the most suitable simulator for your purposes. Moreover, you will have to setup your own [QuantumCircuit](https://docs.quantum.ibm.com/api/qiskit/qiskit.circuit.QuantumCircuit#quantumcircuit) because we are not going to use only 2-qubit quantum system. Hence, your solution should include the complete setup process to create and simulate the requested quantum circuit.\n",
    "\n",
    "## Question 1\n",
    "\n",
    "Determine whether the two presented quantum circuit are equivalents:\n",
    "![Question1](img/qci_a4_question1.png)\n",
    "\n",
    "NB: Two quantum circuits are equivalent when their unitary matrices are equal."
   ]
  },
  {
   "cell_type": "code",
   "execution_count": 12,
   "metadata": {},
   "outputs": [
    {
     "name": "stdout",
     "output_type": "stream",
     "text": [
      "Statevector([ 0.70710678+0.j, -0.70710678+0.j,  0.        +0.j,\n",
      "              0.        +0.j],\n",
      "            dims=(2, 2))\n",
      "Statevector([ 0.70710678+0.j, -0.70710678+0.j,  0.        +0.j,\n",
      "              0.        +0.j],\n",
      "            dims=(2, 2))\n",
      "Statevector([ 0.70710678+0.j,  0.        +0.j, -0.70710678+0.j,\n",
      "              0.        +0.j],\n",
      "            dims=(2, 2))\n",
      "Statevector([ 0.70710678+0.j,  0.        +0.j, -0.70710678+0.j,\n",
      "              0.        +0.j],\n",
      "            dims=(2, 2))\n",
      "     ┌───┐┌───┐   \n",
      "q_0: ┤ X ├┤ H ├─X─\n",
      "     └───┘└───┘ │ \n",
      "q_1: ───────────X─\n",
      "                  \n",
      "     ┌───┐┌───┐     ┌───┐     \n",
      "q_0: ┤ X ├┤ H ├──■──┤ X ├──■──\n",
      "     └───┘└───┘┌─┴─┐└─┬─┘┌─┴─┐\n",
      "q_1: ──────────┤ X ├──■──┤ X ├\n",
      "               └───┘     └───┘\n"
     ]
    }
   ],
   "source": [
    "# Solution\n",
    "import qiskit\n",
    "qc1 = qiskit.QuantumCircuit(2)\n",
    "qc2 = qiskit.QuantumCircuit(2)\n",
    "qc1.x(0)\n",
    "qc2.x(0)\n",
    "qc1.h(0)\n",
    "qc2.h(0)\n",
    "print(qiskit.quantum_info.Statevector(qc1))\n",
    "print(qiskit.quantum_info.Statevector(qc2))\n",
    "qc1.swap(0,1)\n",
    "qc2.cx(0,1)\n",
    "qc2.cx(1,0)\n",
    "qc2.cx(0,1)\n",
    "print(qiskit.quantum_info.Statevector(qc1))\n",
    "print(qiskit.quantum_info.Statevector(qc2))\n",
    "print(qc1)\n",
    "print(qc2)\n",
    "#as visible by example, they give the same result, H was used to show that it isn't just one state or 0 which does this.\n",
    "#yes, i dont prove this works for all states, but the point is clear enough, the result is identical\n"
   ]
  },
  {
   "attachments": {},
   "cell_type": "markdown",
   "metadata": {},
   "source": [
    "## Question 2\n",
    "\n",
    "Implement the following quantum circuit and show the resulting state vector:\n",
    "![Question2](img/qci_a4_question2.png)"
   ]
  },
  {
   "cell_type": "code",
   "execution_count": 23,
   "metadata": {},
   "outputs": [
    {
     "name": "stdout",
     "output_type": "stream",
     "text": [
      "Statevector([ 0.        +0.j, -0.70710678+0.j,  0.70710678+0.j,\n",
      "              0.        +0.j],\n",
      "            dims=(2, 2))\n",
      "     ┌───┐┌───┐     \n",
      "q_0: ┤ H ├┤ Z ├──■──\n",
      "     ├───┤└───┘┌─┴─┐\n",
      "q_1: ┤ X ├─────┤ X ├\n",
      "     └───┘     └───┘\n"
     ]
    }
   ],
   "source": [
    "# Solution\n",
    "import qiskit\n",
    "\n",
    "QQ = qiskit.QuantumCircuit(2)\n",
    "QQ.h(0)\n",
    "QQ.z(0)\n",
    "QQ.x(1)\n",
    "QQ.cx(0,1)\n",
    "print(qiskit.quantum_info.Statevector(QQ))\n",
    "print(QQ)\n",
    "# ^ bell state maker"
   ]
  },
  {
   "cell_type": "markdown",
   "metadata": {},
   "source": [
    "## Question 3\n",
    "\n",
    "During the lecture: \"Fundamentals: A Multi-Qubit World\", I  presented four different Bell states. Starting from a $\\left| 11 \\right\\rangle$ state, implement a quantum circuit to create and print the Bell state $\\left| \\Phi^+ \\right\\rangle$."
   ]
  },
  {
   "cell_type": "code",
   "execution_count": 50,
   "metadata": {},
   "outputs": [
    {
     "name": "stdout",
     "output_type": "stream",
     "text": [
      "Statevector([0.+0.j, 0.+0.j, 0.+0.j, 1.+0.j],\n",
      "            dims=(2, 2))\n",
      "Statevector([0.70710678+0.j, 0.        +0.j, 0.        +0.j,\n",
      "             0.70710678+0.j],\n",
      "            dims=(2, 2))\n",
      "     ┌──────────────────────┐┌───┐     ┌───┐\n",
      "q_0: ┤0                     ├┤ X ├─────┤ X ├\n",
      "     │  Initialize(0,0,0,1) │├───┤┌───┐└─┬─┘\n",
      "q_1: ┤1                     ├┤ X ├┤ H ├──■──\n",
      "     └──────────────────────┘└───┘└───┘     \n"
     ]
    }
   ],
   "source": [
    "# Solution\n",
    "import qiskit\n",
    "\n",
    "QQ = qiskit.QuantumCircuit(2)\n",
    "QQ.initialize([0,0,0,1])\n",
    "print(qiskit.quantum_info.Statevector(QQ))\n",
    "QQ.x(0)\n",
    "QQ.x(1) #yeah if you entangled them before it would have been a little harder :3\n",
    "QQ.h(1)\n",
    "QQ.cx(1,0)\n",
    "print(qiskit.quantum_info.Statevector(QQ))\n",
    "print(QQ) "
   ]
  },
  {
   "attachments": {},
   "cell_type": "markdown",
   "metadata": {},
   "source": [
    "## Question 4\n",
    "\n",
    "After an extensive research on the web, one of your classmates identified a quantum circuit supposed to prepare one of the Bell states. However, you are not completely sure about its validity, hence your are going to implement such circuit in Qiskit to figure it out. Assume $\\left| q_{1}q_{0} \\right\\rangle$ = $\\left| 00 \\right\\rangle$. \n",
    "\n",
    "Implement the following circuit, execute the simulator and print the resulting vector state\n",
    "![Question4](img/qci_a4_question4.png)\n",
    "\n",
    "NB: Sometimes, when implementing bigger quantum circuits, it could be useful to include a [Barrier](https://docs.quantum.ibm.com/api/qiskit/qiskit.circuit.library.Barrier). This [command](https://docs.quantum.ibm.com/api/qiskit/qiskit.circuit.QuantumCircuit#barrier) allows you to set a \"barrier\" in your circuit (for example, just before the measurement). This barrier could be useful to properly visualize and delimitate the different sections of your code."
   ]
  },
  {
   "cell_type": "code",
   "execution_count": 65,
   "metadata": {},
   "outputs": [
    {
     "name": "stdout",
     "output_type": "stream",
     "text": [
      "Statevector([ 0.        +0.j,  0.70710678+0.j, -0.70710678+0.j,\n",
      "              0.        +0.j],\n",
      "            dims=(2, 2))\n",
      "          ┌───┐┌───┐\n",
      "q_0: ─────┤ X ├┤ X ├\n",
      "     ┌───┐└─┬─┘├───┤\n",
      "q_1: ┤ H ├──■──┤ Z ├\n",
      "     └───┘     └───┘\n"
     ]
    }
   ],
   "source": [
    "# Solution\n",
    "import qiskit\n",
    "\n",
    "QQ = qiskit.QuantumCircuit(2)\n",
    "QQ.h(1)\n",
    "QQ.cx(1,0)\n",
    "QQ.x(0)\n",
    "QQ.z(1)\n",
    "print(qiskit.quantum_info.Statevector(QQ))\n",
    "print(QQ) #thats a bellstate alright, 1/sqrt(2)(|01> - |10>) = |Psi^->"
   ]
  },
  {
   "cell_type": "markdown",
   "metadata": {},
   "source": [
    "## Question 5\n",
    "\n",
    "Is the resulting state obtained in `Question 4` an entangled state? Why? Is it a valid Bell state (if so, indicate which state would that be). Compute its concurrence."
   ]
  },
  {
   "cell_type": "code",
   "execution_count": 90,
   "metadata": {},
   "outputs": [
    {
     "name": "stdout",
     "output_type": "stream",
     "text": [
      "Statevector([ 0.        +0.j,  0.70710678+0.j, -0.70710678+0.j,\n",
      "              0.        +0.j],\n",
      "            dims=(2, 2))\n",
      "0.9999999999999998\n",
      "          ┌───┐┌───┐\n",
      "q_0: ─────┤ X ├┤ X ├\n",
      "     ┌───┐└─┬─┘├───┤\n",
      "q_1: ┤ H ├──■──┤ Z ├\n",
      "     └───┘     └───┘\n"
     ]
    }
   ],
   "source": [
    "# Solution = 1/sqrt(2)(|01> - |10>) = |Psi^->\n",
    "import qiskit\n",
    "\n",
    "QQ = qiskit.QuantumCircuit(2)\n",
    "QQ.h(1)\n",
    "QQ.cx(1,0)\n",
    "QQ.x(0)\n",
    "QQ.z(1)\n",
    "Res = qiskit.quantum_info.Statevector(QQ)\n",
    "print(Res)\n",
    "Concurrence = 2*abs(Res[0]*Res[3]-Res[1]*Res[2])\n",
    "print(Concurrence) #awh god dammit, floating point errors be damned, but it does work! so non zero concurrence and its |psi^->\n",
    "print(QQ)"
   ]
  },
  {
   "cell_type": "markdown",
   "metadata": {},
   "source": [
    "## Question 6\n",
    "\n",
    "Without modifying the quantum circuit that you just created (the tentative Bell state circuit). Perform a 50000 shots simulations and plot the resulting probabilities."
   ]
  },
  {
   "cell_type": "code",
   "execution_count": 106,
   "metadata": {},
   "outputs": [
    {
     "name": "stdout",
     "output_type": "stream",
     "text": [
      "Statevector([ 0.        +0.j,  0.70710678+0.j, -0.70710678+0.j,\n",
      "              0.        +0.j],\n",
      "            dims=(2, 2))\n",
      "          ┌───┐┌───┐\n",
      "q_0: ─────┤ X ├┤ X ├\n",
      "     ┌───┐└─┬─┘├───┤\n",
      "q_1: ┤ H ├──■──┤ Z ├\n",
      "     └───┘     └───┘\n",
      "[[('01', 0.5), ('10', 0.5)], [('01', 0.5), ('10', 0.5)], [('01', 0.5), ('10', 0.5)], [('01', 0.5), ('10', 0.5)], [('01', 0.5), ('10', 0.5)], [('01', 0.5), ('10', 0.5)], [('01', 0.5), ('10', 0.5)], [('01', 0.5), ('10', 0.5)], [('01', 0.5), ('10', 0.5)], [('01', 0.5), ('10', 0.5)], [('01', 0.5), ('10', 0.5)], [('01', 0.5), ('10', 0.5)], [('01', 0.5), ('10', 0.5)], [('01', 0.5), ('10', 0.5)], [('01', 0.5), ('10', 0.5)], [('01', 0.5), ('10', 0.5)], [('01', 0.5), ('10', 0.5)], [('01', 0.5), ('10', 0.5)], [('01', 0.5), ('10', 0.5)], [('01', 0.5), ('10', 0.5)], [('01', 0.5), ('10', 0.5)], [('01', 0.5), ('10', 0.5)], [('01', 0.5), ('10', 0.5)], [('01', 0.5), ('10', 0.5)], [('01', 0.5), ('10', 0.5)], [('01', 0.5), ('10', 0.5)], [('01', 0.5), ('10', 0.5)], [('01', 0.5), ('10', 0.5)], [('01', 0.5), ('10', 0.5)], [('01', 0.5), ('10', 0.5)], [('01', 0.5), ('10', 0.5)], [('01', 0.5), ('10', 0.5)], [('01', 0.5), ('10', 0.5)], [('01', 0.5), ('10', 0.5)], [('01', 0.5), ('10', 0.5)], [('01', 0.5), ('10', 0.5)], [('01', 0.5), ('10', 0.5)], [('01', 0.5), ('10', 0.5)], [('01', 0.5), ('10', 0.5)], [('01', 0.5), ('10', 0.5)], [('01', 0.5), ('10', 0.5)], [('01', 0.5), ('10', 0.5)], [('01', 0.5), ('10', 0.5)], [('01', 0.5), ('10', 0.5)], [('01', 0.5), ('10', 0.5)], [('01', 0.5), ('10', 0.5)], [('01', 0.5), ('10', 0.5)], [('01', 0.5), ('10', 0.5)], [('01', 0.5), ('10', 0.5)], [('01', 0.5), ('10', 0.5)]]\n",
      "[[('01', 0.5)], [50]]\n"
     ]
    },
    {
     "ename": "TypeError",
     "evalue": "unhashable type: 'numpy.ndarray'",
     "output_type": "error",
     "traceback": [
      "\u001b[1;31m---------------------------------------------------------------------------\u001b[0m",
      "\u001b[1;31mTypeError\u001b[0m                                 Traceback (most recent call last)",
      "Cell \u001b[1;32mIn[106], line 33\u001b[0m\n\u001b[0;32m     30\u001b[0m res \u001b[38;5;241m=\u001b[39m RunSim(QQ, \u001b[38;5;241m50\u001b[39m)\n\u001b[0;32m     31\u001b[0m \u001b[38;5;28mprint\u001b[39m(res)\n\u001b[1;32m---> 33\u001b[0m \u001b[43mPL\u001b[49m\u001b[38;5;241;43m.\u001b[39;49m\u001b[43mbar\u001b[49m\u001b[43m(\u001b[49m\u001b[43mres\u001b[49m\u001b[43m[\u001b[49m\u001b[38;5;241;43m0\u001b[39;49m\u001b[43m]\u001b[49m\u001b[43m,\u001b[49m\u001b[43m \u001b[49m\u001b[43mres\u001b[49m\u001b[43m[\u001b[49m\u001b[38;5;241;43m1\u001b[39;49m\u001b[43m]\u001b[49m\u001b[43m)\u001b[49m\n\u001b[0;32m     34\u001b[0m PL\u001b[38;5;241m.\u001b[39mylabel(\u001b[38;5;124m\"\u001b[39m\u001b[38;5;124mAmount measured\u001b[39m\u001b[38;5;124m\"\u001b[39m)\n\u001b[0;32m     35\u001b[0m PL\u001b[38;5;241m.\u001b[39mxlabel(\u001b[38;5;124m'\u001b[39m\u001b[38;5;124mOutputs\u001b[39m\u001b[38;5;124m'\u001b[39m)\n",
      "File \u001b[1;32m~\\AppData\\Roaming\\Python\\Python311\\site-packages\\matplotlib\\pyplot.py:2754\u001b[0m, in \u001b[0;36mbar\u001b[1;34m(x, height, width, bottom, align, data, **kwargs)\u001b[0m\n\u001b[0;32m   2743\u001b[0m \u001b[38;5;129m@_copy_docstring_and_deprecators\u001b[39m(Axes\u001b[38;5;241m.\u001b[39mbar)\n\u001b[0;32m   2744\u001b[0m \u001b[38;5;28;01mdef\u001b[39;00m \u001b[38;5;21mbar\u001b[39m(\n\u001b[0;32m   2745\u001b[0m     x: \u001b[38;5;28mfloat\u001b[39m \u001b[38;5;241m|\u001b[39m ArrayLike,\n\u001b[1;32m   (...)\u001b[0m\n\u001b[0;32m   2752\u001b[0m     \u001b[38;5;241m*\u001b[39m\u001b[38;5;241m*\u001b[39mkwargs,\n\u001b[0;32m   2753\u001b[0m ) \u001b[38;5;241m-\u001b[39m\u001b[38;5;241m>\u001b[39m BarContainer:\n\u001b[1;32m-> 2754\u001b[0m     \u001b[38;5;28;01mreturn\u001b[39;00m \u001b[43mgca\u001b[49m\u001b[43m(\u001b[49m\u001b[43m)\u001b[49m\u001b[38;5;241;43m.\u001b[39;49m\u001b[43mbar\u001b[49m\u001b[43m(\u001b[49m\n\u001b[0;32m   2755\u001b[0m \u001b[43m        \u001b[49m\u001b[43mx\u001b[49m\u001b[43m,\u001b[49m\n\u001b[0;32m   2756\u001b[0m \u001b[43m        \u001b[49m\u001b[43mheight\u001b[49m\u001b[43m,\u001b[49m\n\u001b[0;32m   2757\u001b[0m \u001b[43m        \u001b[49m\u001b[43mwidth\u001b[49m\u001b[38;5;241;43m=\u001b[39;49m\u001b[43mwidth\u001b[49m\u001b[43m,\u001b[49m\n\u001b[0;32m   2758\u001b[0m \u001b[43m        \u001b[49m\u001b[43mbottom\u001b[49m\u001b[38;5;241;43m=\u001b[39;49m\u001b[43mbottom\u001b[49m\u001b[43m,\u001b[49m\n\u001b[0;32m   2759\u001b[0m \u001b[43m        \u001b[49m\u001b[43malign\u001b[49m\u001b[38;5;241;43m=\u001b[39;49m\u001b[43malign\u001b[49m\u001b[43m,\u001b[49m\n\u001b[0;32m   2760\u001b[0m \u001b[43m        \u001b[49m\u001b[38;5;241;43m*\u001b[39;49m\u001b[38;5;241;43m*\u001b[39;49m\u001b[43m(\u001b[49m\u001b[43m{\u001b[49m\u001b[38;5;124;43m\"\u001b[39;49m\u001b[38;5;124;43mdata\u001b[39;49m\u001b[38;5;124;43m\"\u001b[39;49m\u001b[43m:\u001b[49m\u001b[43m \u001b[49m\u001b[43mdata\u001b[49m\u001b[43m}\u001b[49m\u001b[43m \u001b[49m\u001b[38;5;28;43;01mif\u001b[39;49;00m\u001b[43m \u001b[49m\u001b[43mdata\u001b[49m\u001b[43m \u001b[49m\u001b[38;5;129;43;01mis\u001b[39;49;00m\u001b[43m \u001b[49m\u001b[38;5;129;43;01mnot\u001b[39;49;00m\u001b[43m \u001b[49m\u001b[38;5;28;43;01mNone\u001b[39;49;00m\u001b[43m \u001b[49m\u001b[38;5;28;43;01melse\u001b[39;49;00m\u001b[43m \u001b[49m\u001b[43m{\u001b[49m\u001b[43m}\u001b[49m\u001b[43m)\u001b[49m\u001b[43m,\u001b[49m\n\u001b[0;32m   2761\u001b[0m \u001b[43m        \u001b[49m\u001b[38;5;241;43m*\u001b[39;49m\u001b[38;5;241;43m*\u001b[39;49m\u001b[43mkwargs\u001b[49m\u001b[43m,\u001b[49m\n\u001b[0;32m   2762\u001b[0m \u001b[43m    \u001b[49m\u001b[43m)\u001b[49m\n",
      "File \u001b[1;32m~\\AppData\\Roaming\\Python\\Python311\\site-packages\\matplotlib\\__init__.py:1478\u001b[0m, in \u001b[0;36m_preprocess_data.<locals>.inner\u001b[1;34m(ax, data, *args, **kwargs)\u001b[0m\n\u001b[0;32m   1475\u001b[0m \u001b[38;5;129m@functools\u001b[39m\u001b[38;5;241m.\u001b[39mwraps(func)\n\u001b[0;32m   1476\u001b[0m \u001b[38;5;28;01mdef\u001b[39;00m \u001b[38;5;21minner\u001b[39m(ax, \u001b[38;5;241m*\u001b[39margs, data\u001b[38;5;241m=\u001b[39m\u001b[38;5;28;01mNone\u001b[39;00m, \u001b[38;5;241m*\u001b[39m\u001b[38;5;241m*\u001b[39mkwargs):\n\u001b[0;32m   1477\u001b[0m     \u001b[38;5;28;01mif\u001b[39;00m data \u001b[38;5;129;01mis\u001b[39;00m \u001b[38;5;28;01mNone\u001b[39;00m:\n\u001b[1;32m-> 1478\u001b[0m         \u001b[38;5;28;01mreturn\u001b[39;00m \u001b[43mfunc\u001b[49m\u001b[43m(\u001b[49m\u001b[43max\u001b[49m\u001b[43m,\u001b[49m\u001b[43m \u001b[49m\u001b[38;5;241;43m*\u001b[39;49m\u001b[38;5;28;43mmap\u001b[39;49m\u001b[43m(\u001b[49m\u001b[43msanitize_sequence\u001b[49m\u001b[43m,\u001b[49m\u001b[43m \u001b[49m\u001b[43margs\u001b[49m\u001b[43m)\u001b[49m\u001b[43m,\u001b[49m\u001b[43m \u001b[49m\u001b[38;5;241;43m*\u001b[39;49m\u001b[38;5;241;43m*\u001b[39;49m\u001b[43mkwargs\u001b[49m\u001b[43m)\u001b[49m\n\u001b[0;32m   1480\u001b[0m     bound \u001b[38;5;241m=\u001b[39m new_sig\u001b[38;5;241m.\u001b[39mbind(ax, \u001b[38;5;241m*\u001b[39margs, \u001b[38;5;241m*\u001b[39m\u001b[38;5;241m*\u001b[39mkwargs)\n\u001b[0;32m   1481\u001b[0m     auto_label \u001b[38;5;241m=\u001b[39m (bound\u001b[38;5;241m.\u001b[39marguments\u001b[38;5;241m.\u001b[39mget(label_namer)\n\u001b[0;32m   1482\u001b[0m                   \u001b[38;5;129;01mor\u001b[39;00m bound\u001b[38;5;241m.\u001b[39mkwargs\u001b[38;5;241m.\u001b[39mget(label_namer))\n",
      "File \u001b[1;32m~\\AppData\\Roaming\\Python\\Python311\\site-packages\\matplotlib\\axes\\_axes.py:2432\u001b[0m, in \u001b[0;36mAxes.bar\u001b[1;34m(self, x, height, width, bottom, align, **kwargs)\u001b[0m\n\u001b[0;32m   2426\u001b[0m         x \u001b[38;5;241m=\u001b[39m \u001b[38;5;241m0\u001b[39m\n\u001b[0;32m   2428\u001b[0m \u001b[38;5;28;01mif\u001b[39;00m orientation \u001b[38;5;241m==\u001b[39m \u001b[38;5;124m'\u001b[39m\u001b[38;5;124mvertical\u001b[39m\u001b[38;5;124m'\u001b[39m:\n\u001b[0;32m   2429\u001b[0m     \u001b[38;5;66;03m# It is possible for y (bottom) to contain unit information.\u001b[39;00m\n\u001b[0;32m   2430\u001b[0m     \u001b[38;5;66;03m# However, it is also possible for y=0 for the default and height\u001b[39;00m\n\u001b[0;32m   2431\u001b[0m     \u001b[38;5;66;03m# to contain unit information.  This will prioritize the units of y.\u001b[39;00m\n\u001b[1;32m-> 2432\u001b[0m     \u001b[38;5;28;43mself\u001b[39;49m\u001b[38;5;241;43m.\u001b[39;49m\u001b[43m_process_unit_info\u001b[49m\u001b[43m(\u001b[49m\n\u001b[0;32m   2433\u001b[0m \u001b[43m        \u001b[49m\u001b[43m[\u001b[49m\u001b[43m(\u001b[49m\u001b[38;5;124;43m\"\u001b[39;49m\u001b[38;5;124;43mx\u001b[39;49m\u001b[38;5;124;43m\"\u001b[39;49m\u001b[43m,\u001b[49m\u001b[43m \u001b[49m\u001b[43mx\u001b[49m\u001b[43m)\u001b[49m\u001b[43m,\u001b[49m\u001b[43m \u001b[49m\u001b[43m(\u001b[49m\u001b[38;5;124;43m\"\u001b[39;49m\u001b[38;5;124;43my\u001b[39;49m\u001b[38;5;124;43m\"\u001b[39;49m\u001b[43m,\u001b[49m\u001b[43m \u001b[49m\u001b[43my\u001b[49m\u001b[43m)\u001b[49m\u001b[43m,\u001b[49m\u001b[43m \u001b[49m\u001b[43m(\u001b[49m\u001b[38;5;124;43m\"\u001b[39;49m\u001b[38;5;124;43my\u001b[39;49m\u001b[38;5;124;43m\"\u001b[39;49m\u001b[43m,\u001b[49m\u001b[43m \u001b[49m\u001b[43mheight\u001b[49m\u001b[43m)\u001b[49m\u001b[43m]\u001b[49m\u001b[43m,\u001b[49m\u001b[43m \u001b[49m\u001b[43mkwargs\u001b[49m\u001b[43m,\u001b[49m\u001b[43m \u001b[49m\u001b[43mconvert\u001b[49m\u001b[38;5;241;43m=\u001b[39;49m\u001b[38;5;28;43;01mFalse\u001b[39;49;00m\u001b[43m)\u001b[49m\n\u001b[0;32m   2434\u001b[0m     \u001b[38;5;28;01mif\u001b[39;00m log:\n\u001b[0;32m   2435\u001b[0m         \u001b[38;5;28mself\u001b[39m\u001b[38;5;241m.\u001b[39mset_yscale(\u001b[38;5;124m'\u001b[39m\u001b[38;5;124mlog\u001b[39m\u001b[38;5;124m'\u001b[39m, nonpositive\u001b[38;5;241m=\u001b[39m\u001b[38;5;124m'\u001b[39m\u001b[38;5;124mclip\u001b[39m\u001b[38;5;124m'\u001b[39m)\n",
      "File \u001b[1;32m~\\AppData\\Roaming\\Python\\Python311\\site-packages\\matplotlib\\axes\\_base.py:2555\u001b[0m, in \u001b[0;36m_AxesBase._process_unit_info\u001b[1;34m(self, datasets, kwargs, convert)\u001b[0m\n\u001b[0;32m   2553\u001b[0m     \u001b[38;5;66;03m# Update from data if axis is already set but no unit is set yet.\u001b[39;00m\n\u001b[0;32m   2554\u001b[0m     \u001b[38;5;28;01mif\u001b[39;00m axis \u001b[38;5;129;01mis\u001b[39;00m \u001b[38;5;129;01mnot\u001b[39;00m \u001b[38;5;28;01mNone\u001b[39;00m \u001b[38;5;129;01mand\u001b[39;00m data \u001b[38;5;129;01mis\u001b[39;00m \u001b[38;5;129;01mnot\u001b[39;00m \u001b[38;5;28;01mNone\u001b[39;00m \u001b[38;5;129;01mand\u001b[39;00m \u001b[38;5;129;01mnot\u001b[39;00m axis\u001b[38;5;241m.\u001b[39mhave_units():\n\u001b[1;32m-> 2555\u001b[0m         \u001b[43maxis\u001b[49m\u001b[38;5;241;43m.\u001b[39;49m\u001b[43mupdate_units\u001b[49m\u001b[43m(\u001b[49m\u001b[43mdata\u001b[49m\u001b[43m)\u001b[49m\n\u001b[0;32m   2556\u001b[0m \u001b[38;5;28;01mfor\u001b[39;00m axis_name, axis \u001b[38;5;129;01min\u001b[39;00m axis_map\u001b[38;5;241m.\u001b[39mitems():\n\u001b[0;32m   2557\u001b[0m     \u001b[38;5;66;03m# Return if no axis is set.\u001b[39;00m\n\u001b[0;32m   2558\u001b[0m     \u001b[38;5;28;01mif\u001b[39;00m axis \u001b[38;5;129;01mis\u001b[39;00m \u001b[38;5;28;01mNone\u001b[39;00m:\n",
      "File \u001b[1;32m~\\AppData\\Roaming\\Python\\Python311\\site-packages\\matplotlib\\axis.py:1712\u001b[0m, in \u001b[0;36mAxis.update_units\u001b[1;34m(self, data)\u001b[0m\n\u001b[0;32m   1710\u001b[0m neednew \u001b[38;5;241m=\u001b[39m \u001b[38;5;28mself\u001b[39m\u001b[38;5;241m.\u001b[39mconverter \u001b[38;5;241m!=\u001b[39m converter\n\u001b[0;32m   1711\u001b[0m \u001b[38;5;28mself\u001b[39m\u001b[38;5;241m.\u001b[39mconverter \u001b[38;5;241m=\u001b[39m converter\n\u001b[1;32m-> 1712\u001b[0m default \u001b[38;5;241m=\u001b[39m \u001b[38;5;28;43mself\u001b[39;49m\u001b[38;5;241;43m.\u001b[39;49m\u001b[43mconverter\u001b[49m\u001b[38;5;241;43m.\u001b[39;49m\u001b[43mdefault_units\u001b[49m\u001b[43m(\u001b[49m\u001b[43mdata\u001b[49m\u001b[43m,\u001b[49m\u001b[43m \u001b[49m\u001b[38;5;28;43mself\u001b[39;49m\u001b[43m)\u001b[49m\n\u001b[0;32m   1713\u001b[0m \u001b[38;5;28;01mif\u001b[39;00m default \u001b[38;5;129;01mis\u001b[39;00m \u001b[38;5;129;01mnot\u001b[39;00m \u001b[38;5;28;01mNone\u001b[39;00m \u001b[38;5;129;01mand\u001b[39;00m \u001b[38;5;28mself\u001b[39m\u001b[38;5;241m.\u001b[39munits \u001b[38;5;129;01mis\u001b[39;00m \u001b[38;5;28;01mNone\u001b[39;00m:\n\u001b[0;32m   1714\u001b[0m     \u001b[38;5;28mself\u001b[39m\u001b[38;5;241m.\u001b[39mset_units(default)\n",
      "File \u001b[1;32m~\\AppData\\Roaming\\Python\\Python311\\site-packages\\matplotlib\\category.py:105\u001b[0m, in \u001b[0;36mStrCategoryConverter.default_units\u001b[1;34m(data, axis)\u001b[0m\n\u001b[0;32m    103\u001b[0m \u001b[38;5;66;03m# the conversion call stack is default_units -> axis_info -> convert\u001b[39;00m\n\u001b[0;32m    104\u001b[0m \u001b[38;5;28;01mif\u001b[39;00m axis\u001b[38;5;241m.\u001b[39munits \u001b[38;5;129;01mis\u001b[39;00m \u001b[38;5;28;01mNone\u001b[39;00m:\n\u001b[1;32m--> 105\u001b[0m     axis\u001b[38;5;241m.\u001b[39mset_units(\u001b[43mUnitData\u001b[49m\u001b[43m(\u001b[49m\u001b[43mdata\u001b[49m\u001b[43m)\u001b[49m)\n\u001b[0;32m    106\u001b[0m \u001b[38;5;28;01melse\u001b[39;00m:\n\u001b[0;32m    107\u001b[0m     axis\u001b[38;5;241m.\u001b[39munits\u001b[38;5;241m.\u001b[39mupdate(data)\n",
      "File \u001b[1;32m~\\AppData\\Roaming\\Python\\Python311\\site-packages\\matplotlib\\category.py:181\u001b[0m, in \u001b[0;36mUnitData.__init__\u001b[1;34m(self, data)\u001b[0m\n\u001b[0;32m    179\u001b[0m \u001b[38;5;28mself\u001b[39m\u001b[38;5;241m.\u001b[39m_counter \u001b[38;5;241m=\u001b[39m itertools\u001b[38;5;241m.\u001b[39mcount()\n\u001b[0;32m    180\u001b[0m \u001b[38;5;28;01mif\u001b[39;00m data \u001b[38;5;129;01mis\u001b[39;00m \u001b[38;5;129;01mnot\u001b[39;00m \u001b[38;5;28;01mNone\u001b[39;00m:\n\u001b[1;32m--> 181\u001b[0m     \u001b[38;5;28;43mself\u001b[39;49m\u001b[38;5;241;43m.\u001b[39;49m\u001b[43mupdate\u001b[49m\u001b[43m(\u001b[49m\u001b[43mdata\u001b[49m\u001b[43m)\u001b[49m\n",
      "File \u001b[1;32m~\\AppData\\Roaming\\Python\\Python311\\site-packages\\matplotlib\\category.py:214\u001b[0m, in \u001b[0;36mUnitData.update\u001b[1;34m(self, data)\u001b[0m\n\u001b[0;32m    212\u001b[0m \u001b[38;5;66;03m# check if convertible to number:\u001b[39;00m\n\u001b[0;32m    213\u001b[0m convertible \u001b[38;5;241m=\u001b[39m \u001b[38;5;28;01mTrue\u001b[39;00m\n\u001b[1;32m--> 214\u001b[0m \u001b[38;5;28;01mfor\u001b[39;00m val \u001b[38;5;129;01min\u001b[39;00m \u001b[43mOrderedDict\u001b[49m\u001b[38;5;241;43m.\u001b[39;49m\u001b[43mfromkeys\u001b[49m\u001b[43m(\u001b[49m\u001b[43mdata\u001b[49m\u001b[43m)\u001b[49m:\n\u001b[0;32m    215\u001b[0m     \u001b[38;5;66;03m# OrderedDict just iterates over unique values in data.\u001b[39;00m\n\u001b[0;32m    216\u001b[0m     _api\u001b[38;5;241m.\u001b[39mcheck_isinstance((\u001b[38;5;28mstr\u001b[39m, \u001b[38;5;28mbytes\u001b[39m), value\u001b[38;5;241m=\u001b[39mval)\n\u001b[0;32m    217\u001b[0m     \u001b[38;5;28;01mif\u001b[39;00m convertible:\n\u001b[0;32m    218\u001b[0m         \u001b[38;5;66;03m# this will only be called so long as convertible is True.\u001b[39;00m\n",
      "\u001b[1;31mTypeError\u001b[0m: unhashable type: 'numpy.ndarray'"
     ]
    },
    {
     "data": {
      "image/png": "[encoded data removed]",
      "text/plain": [
       "<Figure size 640x480 with 1 Axes>"
      ]
     },
     "metadata": {},
     "output_type": "display_data"
    }
   ],
   "source": [
    "# Solution\n",
    "import qiskit\n",
    "from qiskit_aer import StatevectorSimulator\n",
    "import matplotlib.pyplot as PL\n",
    "\n",
    "def RunSim(cir, trials):\n",
    "    RR = [list(StatevectorSimulator().run(circuits=cir).result().get_counts().items()) for i in range(trials)]\n",
    "    print(RR)\n",
    "    counts = 0\n",
    "    for i in RR:\n",
    "        for z in range(len(i)/2):\n",
    "            if counts == 0:\n",
    "                counts = [[i[z][0]],i[z][1]]\n",
    "                continue\n",
    "            if not counts[0].__contains__(i[z][0]):\n",
    "                counts[0].append(i[z][0])\n",
    "                counts[1].append(1)\n",
    "            else:\n",
    "                index = counts[0].index(i[z][0])\n",
    "                counts[1][index] += i[z][1]\n",
    "    return counts\n",
    "\n",
    "QQ = qiskit.QuantumCircuit(2)\n",
    "QQ.h(1)\n",
    "QQ.cx(1,0)\n",
    "QQ.x(0)\n",
    "QQ.z(1)\n",
    "print(qiskit.quantum_info.Statevector(QQ))\n",
    "print(QQ)\n",
    "\n",
    "res = RunSim(QQ, 50)\n",
    "print(res)\n",
    "\n",
    "PL.bar(res[0], res[1])\n",
    "PL.ylabel(\"Amount measured\")\n",
    "PL.xlabel('Outputs')\n",
    "PL.title(\"Quantum circuit measurement results\")\n",
    "PL.show()"
   ]
  },
  {
   "cell_type": "markdown",
   "metadata": {},
   "source": [
    "# Quantum Inspire\n",
    "\n",
    "I would say that it is enough about Qiskit (for now :)). Let's try the Dutch innitiative [Quantum Inspire](https://www.quantum-inspire.com/). This tool allows you to work both with an emulator: `QX Single-node` (26 qubits max) and with actual quantum processors: `Spin-2` (2 qubits) and `Starmon-5` (5 qubits). You have to create an account (for free, with some limitations of course) but that should not be a problem (no credit card needed for the Basic account).\n",
    "\n",
    "## Question 7\n",
    "\n",
    "Using Quantum Inspire, create the quantum circuit to produce the Bell state requested below (depending on your team):\n",
    "\n",
    "| Bell state | Groups |\n",
    "| :- | - |\n",
    "| $\\left| \\Phi^{-} \\right\\rangle$ | 1, 7, 10, 11 |\n",
    "| $\\left| \\Psi^{+} \\right\\rangle$ | 3, 4, 5, 8 |\n",
    "| $\\left| \\Psi^{-} \\right\\rangle$ | 2, 6, 9, 12 |\n",
    "\n",
    "Perform a simulation (16384 shots max) and plot the resulting probabilities. Insert here a screen capture of the obtained results, including the source code and the quantum circuit."
   ]
  },
  {
   "cell_type": "code",
   "execution_count": null,
   "metadata": {},
   "outputs": [],
   "source": [
    "# Solution\n",
    "\n"
   ]
  },
  {
   "cell_type": "markdown",
   "metadata": {},
   "source": [
    "# Question 8\n",
    "\n",
    "During the lecture: \"Fundamentals: A Multi-Qubit World\", I  presented a quantum entanglement swapping circuit (creating entanglement between two non interacting qubits). Using Quantum Inspire, create such circuit, perform the simulation and plot the resulting probabilities. Did your circuit produced the requested Bell state? (Insert here a screen capture of the obtained results, including the source code and the quantum circuit.)\n",
    "\n",
    "![Question8](img/qci_a4_question8.png)"
   ]
  },
  {
   "cell_type": "code",
   "execution_count": null,
   "metadata": {},
   "outputs": [],
   "source": [
    "# Solution\n",
    "\n"
   ]
  },
  {
   "cell_type": "markdown",
   "metadata": {},
   "source": [
    "# Other quantum programming frameworks\n",
    "\n",
    "Now, let's try another quantum programming framework. The teams will test one of the proposed quantum programming environments based on the following:\n",
    "\n",
    "| Platform | Groups |\n",
    "| :- | - |\n",
    "| Cirq | 1, 5, 8, 9, 10, 12 |\n",
    "| Q# | 2, 3, 4, 6, 7, 11 |\n",
    "\n",
    "## Question 9\n",
    "\n",
    "Using the assigned quantum programming framework, implement the quantum circuit from `Question 8`, draw the circuit, perform the simulation and plot the results"
   ]
  },
  {
   "cell_type": "code",
   "execution_count": null,
   "metadata": {},
   "outputs": [],
   "source": [
    "# Solution\n",
    "\n"
   ]
  },
  {
   "cell_type": "markdown",
   "metadata": {},
   "source": [
    "## Question 10\n",
    "\n",
    "One of the teachers has “encrypted” a secret 3–bit code in qubits $\\left| q_{2}q_{1}q_{0} \\right\\rangle$ from the following quantum circuit. The circuit must be initialized as $\\left| q_{3}q_{2}q_{1}q_{0} \\right\\rangle = \\left| 1000 \\right\\rangle$.\n",
    "\n",
    "![Question10](img/qci_a4_question10.png)\n",
    "\n",
    "1. Implement and draw the circuit.\n",
    "2. What is the resulting vector state. What would you say that the secret code is? Why?\n",
    "3. Perform a simulation of the proposed circuit and plot the resulting probabilities.\n",
    "4. Did your results confirm the secret code that you estimated in `Question 10.2`?\n"
   ]
  },
  {
   "cell_type": "code",
   "execution_count": null,
   "metadata": {},
   "outputs": [],
   "source": [
    "# Solution\n",
    "\n"
   ]
  }
 ],
 "metadata": {
  "kernelspec": {
   "display_name": "Python 3 (ipykernel)",
   "language": "python",
   "name": "python3"
  },
  "language_info": {
   "codemirror_mode": {
    "name": "ipython",
    "version": 3
   },
   "file_extension": ".py",
   "mimetype": "text/x-python",
   "name": "python",
   "nbconvert_exporter": "python",
   "pygments_lexer": "ipython3",
   "version": "3.11.8"
  }
 },
 "nbformat": 4,
 "nbformat_minor": 4
}
