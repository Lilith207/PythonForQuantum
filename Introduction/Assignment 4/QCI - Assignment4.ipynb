{
 "cells": [
  {
   "cell_type": "markdown",
   "metadata": {},
   "source": [
    "# Quantum Computing Introduction - Assignment 4\n",
    "# Names:\n",
    "# IDs:\n",
    "\n",
    "Welcome to the fourth assignment! During this assignment, you will use the IBM Qiskit package. This framework offers a huge variety of very interesting functionalities to explore. This assignment will require you to investigate about the proper usage of the tool. Please refer to the [IBM Quantum Documentation](https://qiskit.org/documentation/).\n",
    "\n",
    "Additionally, you will be asked to work with another quantum programming framework (e.g., Cirq, Q#, etc.). Please, provide also the instructions and/or the inline code to install such tools.\n",
    "\n",
    "\n",
    "# Python environment"
   ]
  },
  {
   "cell_type": "code",
   "execution_count": 14,
   "metadata": {},
   "outputs": [],
   "source": [
    "# Imports\n",
    "\n"
   ]
  },
  {
   "cell_type": "markdown",
   "metadata": {},
   "source": [
    "The following cell contains some useful definitions and functions for the development of your assignment. They were already introduced in the Qiskit Introduction notebook and included here in case you need them."
   ]
  },
  {
   "cell_type": "code",
   "execution_count": 2,
   "metadata": {},
   "outputs": [],
   "source": [
    "# Function: state_to_dirac(quantum_state)\n",
    "#\n",
    "# \n",
    "# This function accepts an arbitrary state vector and prints it in its corresponding Dirac notation\n",
    "def state_to_dirac(state):\n",
    "\n",
    "    # Convert the statevector to dictionary form.\n",
    "    state_to_dict = state.to_dict()\n",
    "\n",
    "    return ' '.join('{1:+.4f}|{0}>'.format(key, value)\n",
    "                      for key, value in state_to_dict.items())\n",
    "\n",
    "\n",
    "# Function: simulate_circuit_and_obtain_vector(quantum_circuit, number_shots)\n",
    "#\n",
    "# \n",
    "# This function accepts an arbitrary circuit, performs its state vector simulation and \n",
    "# returns the resulting vector state as a [x, y, z] vector that could be plotted\n",
    "def simulate_circuit_and_obtain_vector(qc, trials = 100000):\n",
    "\n",
    "    # Execute the state vector simulation\n",
    "    resulting_vector = Statevector(qc)\n",
    "\n",
    "    # Convert the resulting state vector in its Dirac notation\n",
    "    dirac_vector = state_to_dirac(resulting_vector)\n",
    "\n",
    "    return resulting_vector, dirac_vector\n",
    "\n"
   ]
  },
  {
   "attachments": {},
   "cell_type": "markdown",
   "metadata": {},
   "source": [
    "For this assignment you can use whatever simulator you consider useful to solve the exercises. Read carefully the questions and identify the most suitable simulator for your purposes. Moreover, you will have to setup your own [QuantumCircuit](https://docs.quantum.ibm.com/api/qiskit/qiskit.circuit.QuantumCircuit#quantumcircuit) because we are not going to use only 2-qubit quantum system. Hence, your solution should include the complete setup process to create and simulate the requested quantum circuit.\n",
    "\n",
    "## Question 1\n",
    "\n",
    "Determine whether the two presented quantum circuit are equivalents:\n",
    "![Question1](img/qci_a4_question1.png)\n",
    "\n",
    "NB: Two quantum circuits are equivalent when their unitary matrices are equal."
   ]
  },
  {
   "cell_type": "code",
   "execution_count": 12,
   "metadata": {},
   "outputs": [
    {
     "name": "stdout",
     "output_type": "stream",
     "text": [
      "Statevector([ 0.70710678+0.j, -0.70710678+0.j,  0.        +0.j,\n",
      "              0.        +0.j],\n",
      "            dims=(2, 2))\n",
      "Statevector([ 0.70710678+0.j, -0.70710678+0.j,  0.        +0.j,\n",
      "              0.        +0.j],\n",
      "            dims=(2, 2))\n",
      "Statevector([ 0.70710678+0.j,  0.        +0.j, -0.70710678+0.j,\n",
      "              0.        +0.j],\n",
      "            dims=(2, 2))\n",
      "Statevector([ 0.70710678+0.j,  0.        +0.j, -0.70710678+0.j,\n",
      "              0.        +0.j],\n",
      "            dims=(2, 2))\n",
      "     ┌───┐┌───┐   \n",
      "q_0: ┤ X ├┤ H ├─X─\n",
      "     └───┘└───┘ │ \n",
      "q_1: ───────────X─\n",
      "                  \n",
      "     ┌───┐┌───┐     ┌───┐     \n",
      "q_0: ┤ X ├┤ H ├──■──┤ X ├──■──\n",
      "     └───┘└───┘┌─┴─┐└─┬─┘┌─┴─┐\n",
      "q_1: ──────────┤ X ├──■──┤ X ├\n",
      "               └───┘     └───┘\n"
     ]
    }
   ],
   "source": [
    "# Solution\n",
    "import qiskit\n",
    "qc1 = qiskit.QuantumCircuit(2)\n",
    "qc2 = qiskit.QuantumCircuit(2)\n",
    "qc1.x(0)\n",
    "qc2.x(0)\n",
    "qc1.h(0)\n",
    "qc2.h(0)\n",
    "print(qiskit.quantum_info.Statevector(qc1))\n",
    "print(qiskit.quantum_info.Statevector(qc2))\n",
    "qc1.swap(0,1)\n",
    "qc2.cx(0,1)\n",
    "qc2.cx(1,0)\n",
    "qc2.cx(0,1)\n",
    "print(qiskit.quantum_info.Statevector(qc1))\n",
    "print(qiskit.quantum_info.Statevector(qc2))\n",
    "print(qc1)\n",
    "print(qc2)\n",
    "#as visible by example, they give the same result, H was used to show that it isn't just one state or 0 which does this.\n",
    "#yes, i dont prove this works for all states, but the point is clear enough, the result is identical\n"
   ]
  },
  {
   "attachments": {},
   "cell_type": "markdown",
   "metadata": {},
   "source": [
    "## Question 2\n",
    "\n",
    "Implement the following quantum circuit and show the resulting state vector:\n",
    "![Question2](img/qci_a4_question2.png)"
   ]
  },
  {
   "cell_type": "code",
   "execution_count": 23,
   "metadata": {},
   "outputs": [
    {
     "name": "stdout",
     "output_type": "stream",
     "text": [
      "Statevector([ 0.        +0.j, -0.70710678+0.j,  0.70710678+0.j,\n",
      "              0.        +0.j],\n",
      "            dims=(2, 2))\n",
      "     ┌───┐┌───┐     \n",
      "q_0: ┤ H ├┤ Z ├──■──\n",
      "     ├───┤└───┘┌─┴─┐\n",
      "q_1: ┤ X ├─────┤ X ├\n",
      "     └───┘     └───┘\n"
     ]
    }
   ],
   "source": [
    "# Solution\n",
    "import qiskit\n",
    "\n",
    "QQ = qiskit.QuantumCircuit(2)\n",
    "QQ.h(0)\n",
    "QQ.z(0)\n",
    "QQ.x(1)\n",
    "QQ.cx(0,1)\n",
    "print(qiskit.quantum_info.Statevector(QQ))\n",
    "print(QQ)\n",
    "# ^ bell state maker"
   ]
  },
  {
   "cell_type": "markdown",
   "metadata": {},
   "source": [
    "## Question 3\n",
    "\n",
    "During the lecture: \"Fundamentals: A Multi-Qubit World\", I  presented four different Bell states. Starting from a $\\left| 11 \\right\\rangle$ state, implement a quantum circuit to create and print the Bell state $\\left| \\Phi^+ \\right\\rangle$."
   ]
  },
  {
   "cell_type": "code",
   "execution_count": 50,
   "metadata": {},
   "outputs": [
    {
     "name": "stdout",
     "output_type": "stream",
     "text": [
      "Statevector([0.+0.j, 0.+0.j, 0.+0.j, 1.+0.j],\n",
      "            dims=(2, 2))\n",
      "Statevector([0.70710678+0.j, 0.        +0.j, 0.        +0.j,\n",
      "             0.70710678+0.j],\n",
      "            dims=(2, 2))\n",
      "     ┌──────────────────────┐┌───┐     ┌───┐\n",
      "q_0: ┤0                     ├┤ X ├─────┤ X ├\n",
      "     │  Initialize(0,0,0,1) │├───┤┌───┐└─┬─┘\n",
      "q_1: ┤1                     ├┤ X ├┤ H ├──■──\n",
      "     └──────────────────────┘└───┘└───┘     \n"
     ]
    }
   ],
   "source": [
    "# Solution\n",
    "import qiskit\n",
    "\n",
    "QQ = qiskit.QuantumCircuit(2)\n",
    "QQ.initialize([0,0,0,1])\n",
    "print(qiskit.quantum_info.Statevector(QQ))\n",
    "QQ.x(0)\n",
    "QQ.x(1) #yeah if you entangled them before it would have been a little harder :3\n",
    "QQ.h(1)\n",
    "QQ.cx(1,0)\n",
    "print(qiskit.quantum_info.Statevector(QQ))\n",
    "print(QQ) "
   ]
  },
  {
   "attachments": {},
   "cell_type": "markdown",
   "metadata": {},
   "source": [
    "## Question 4\n",
    "\n",
    "After an extensive research on the web, one of your classmates identified a quantum circuit supposed to prepare one of the Bell states. However, you are not completely sure about its validity, hence your are going to implement such circuit in Qiskit to figure it out. Assume $\\left| q_{1}q_{0} \\right\\rangle$ = $\\left| 00 \\right\\rangle$. \n",
    "\n",
    "Implement the following circuit, execute the simulator and print the resulting vector state\n",
    "![Question4](img/qci_a4_question4.png)\n",
    "\n",
    "NB: Sometimes, when implementing bigger quantum circuits, it could be useful to include a [Barrier](https://docs.quantum.ibm.com/api/qiskit/qiskit.circuit.library.Barrier). This [command](https://docs.quantum.ibm.com/api/qiskit/qiskit.circuit.QuantumCircuit#barrier) allows you to set a \"barrier\" in your circuit (for example, just before the measurement). This barrier could be useful to properly visualize and delimitate the different sections of your code."
   ]
  },
  {
   "cell_type": "code",
   "execution_count": 65,
   "metadata": {},
   "outputs": [
    {
     "name": "stdout",
     "output_type": "stream",
     "text": [
      "Statevector([ 0.        +0.j,  0.70710678+0.j, -0.70710678+0.j,\n",
      "              0.        +0.j],\n",
      "            dims=(2, 2))\n",
      "          ┌───┐┌───┐\n",
      "q_0: ─────┤ X ├┤ X ├\n",
      "     ┌───┐└─┬─┘├───┤\n",
      "q_1: ┤ H ├──■──┤ Z ├\n",
      "     └───┘     └───┘\n"
     ]
    }
   ],
   "source": [
    "# Solution\n",
    "import qiskit\n",
    "\n",
    "QQ = qiskit.QuantumCircuit(2)\n",
    "QQ.h(1)\n",
    "QQ.cx(1,0)\n",
    "QQ.x(0)\n",
    "QQ.z(1)\n",
    "print(qiskit.quantum_info.Statevector(QQ))\n",
    "print(QQ) #thats a bellstate alright, 1/sqrt(2)(|01> - |10>) = |Psi^->"
   ]
  },
  {
   "cell_type": "markdown",
   "metadata": {},
   "source": [
    "## Question 5\n",
    "\n",
    "Is the resulting state obtained in `Question 4` an entangled state? Why? Is it a valid Bell state (if so, indicate which state would that be). Compute its concurrence."
   ]
  },
  {
   "cell_type": "code",
   "execution_count": 90,
   "metadata": {},
   "outputs": [
    {
     "name": "stdout",
     "output_type": "stream",
     "text": [
      "Statevector([ 0.        +0.j,  0.70710678+0.j, -0.70710678+0.j,\n",
      "              0.        +0.j],\n",
      "            dims=(2, 2))\n",
      "0.9999999999999998\n",
      "          ┌───┐┌───┐\n",
      "q_0: ─────┤ X ├┤ X ├\n",
      "     ┌───┐└─┬─┘├───┤\n",
      "q_1: ┤ H ├──■──┤ Z ├\n",
      "     └───┘     └───┘\n"
     ]
    }
   ],
   "source": [
    "# Solution = 1/sqrt(2)(|01> - |10>) = |Psi^->\n",
    "import qiskit\n",
    "\n",
    "QQ = qiskit.QuantumCircuit(2)\n",
    "QQ.h(1)\n",
    "QQ.cx(1,0)\n",
    "QQ.x(0)\n",
    "QQ.z(1)\n",
    "Res = qiskit.quantum_info.Statevector(QQ)\n",
    "print(Res)\n",
    "Concurrence = 2*abs(Res[0]*Res[3]-Res[1]*Res[2])\n",
    "print(Concurrence) #awh god dammit, floating point errors be damned, but it does work! so non zero concurrence and its |psi^->\n",
    "print(QQ)"
   ]
  },
  {
   "cell_type": "markdown",
   "metadata": {},
   "source": [
    "## Question 6\n",
    "\n",
    "Without modifying the quantum circuit that you just created (the tentative Bell state circuit). Perform a 50000 shots simulations and plot the resulting probabilities."
   ]
  },
  {
   "cell_type": "code",
   "execution_count": 132,
   "metadata": {},
   "outputs": [
    {
     "name": "stdout",
     "output_type": "stream",
     "text": [
      "Statevector([ 0.        +0.j,  0.70710678+0.j, -0.70710678+0.j,\n",
      "              0.        +0.j],\n",
      "            dims=(2, 2))\n",
      "          ┌───┐┌───┐\n",
      "q_0: ─────┤ X ├┤ X ├\n",
      "     ┌───┐└─┬─┘├───┤\n",
      "q_1: ┤ H ├──■──┤ Z ├\n",
      "     └───┘     └───┘\n",
      "[['01', '10'], [25000.0, 25000.0]]\n"
     ]
    },
    {
     "data": {
      "image/png": "[encoded data removed]",
      "text/plain": [
       "<Figure size 640x480 with 1 Axes>"
      ]
     },
     "metadata": {},
     "output_type": "display_data"
    }
   ],
   "source": [
    "# Solution\n",
    "import qiskit\n",
    "from qiskit_aer import StatevectorSimulator\n",
    "import matplotlib.pyplot as PL\n",
    "\n",
    "def RunSim(cir, trials):\n",
    "    RR = [list(StatevectorSimulator().run(circuits=cir).result().get_counts().items()) for i in range(trials)]\n",
    "    counts = 0 #^ i would have like to use a different simulator, but i just cant get qiskit figured out\n",
    "    for i in RR: #qiskit is a bit of a mess, especially with half of the documentation being outdated\n",
    "        for z in range(len(i)):\n",
    "            if counts == 0:\n",
    "                counts = [[i[z][0]],[i[z][1]]]\n",
    "                continue\n",
    "            if not counts[0].__contains__(i[z][0]):\n",
    "                counts[0].append(i[z][0])\n",
    "                counts[1].append(i[z][1])\n",
    "            else:\n",
    "                index = counts[0].index(i[z][0])\n",
    "                counts[1][index] += i[z][1]\n",
    "    return counts\n",
    "\n",
    "QQ = qiskit.QuantumCircuit(2)\n",
    "QQ.h(1)\n",
    "QQ.cx(1,0)\n",
    "QQ.x(0)\n",
    "QQ.z(1)\n",
    "print(qiskit.quantum_info.Statevector(QQ))\n",
    "print(QQ)\n",
    "\n",
    "res = RunSim(QQ, 50000)\n",
    "print(res)\n",
    "\n",
    "PL.bar(res[0], res[1])\n",
    "PL.ylabel(\"Amount measured\")\n",
    "PL.xlabel('Outputs')\n",
    "PL.title(\"Quantum circuit measurement results\")\n",
    "PL.show()"
   ]
  },
  {
   "cell_type": "markdown",
   "metadata": {},
   "source": [
    "# Quantum Inspire\n",
    "\n",
    "I would say that it is enough about Qiskit (for now :)). Let's try the Dutch innitiative [Quantum Inspire](https://www.quantum-inspire.com/). This tool allows you to work both with an emulator: `QX Single-node` (26 qubits max) and with actual quantum processors: `Spin-2` (2 qubits) and `Starmon-5` (5 qubits). You have to create an account (for free, with some limitations of course) but that should not be a problem (no credit card needed for the Basic account).\n",
    "\n",
    "## Question 7\n",
    "\n",
    "Using Quantum Inspire, create the quantum circuit to produce the Bell state requested below (depending on your team):\n",
    "\n",
    "| Bell state | Groups |\n",
    "| :- | - |\n",
    "| $\\left| \\Phi^{-} \\right\\rangle$ | 1, 7, 10, 11 |\n",
    "| $\\left| \\Psi^{+} \\right\\rangle$ | 3, 4, 5, 8 |\n",
    "| $\\left| \\Psi^{-} \\right\\rangle$ | 2, 6, 9, 12 |\n",
    "\n",
    "Perform a simulation (16384 shots max) and plot the resulting probabilities. Insert here a screen capture of the obtained results, including the source code and the quantum circuit."
   ]
  },
  {
   "cell_type": "code",
   "execution_count": 133,
   "metadata": {},
   "outputs": [],
   "source": [
    "# Solution\n",
    "\n"
   ]
  },
  {
   "cell_type": "markdown",
   "metadata": {},
   "source": [
    "# Question 8\n",
    "\n",
    "During the lecture: \"Fundamentals: A Multi-Qubit World\", I  presented a quantum entanglement swapping circuit (creating entanglement between two non interacting qubits). Using Quantum Inspire, create such circuit, perform the simulation and plot the resulting probabilities. Did your circuit produced the requested Bell state? (Insert here a screen capture of the obtained results, including the source code and the quantum circuit.)\n",
    "\n",
    "![Question8](img/qci_a4_question8.png)"
   ]
  },
  {
   "cell_type": "code",
   "execution_count": 134,
   "metadata": {},
   "outputs": [],
   "source": [
    "# Solution\n",
    "\n"
   ]
  },
  {
   "cell_type": "markdown",
   "metadata": {},
   "source": [
    "# Other quantum programming frameworks\n",
    "\n",
    "Now, let's try another quantum programming framework. The teams will test one of the proposed quantum programming environments based on the following:\n",
    "\n",
    "| Platform | Groups |\n",
    "| :- | - |\n",
    "| Cirq | 1, 5, 8, 9, 10, 12 |\n",
    "| Q# | 2, 3, 4, 6, 7, 11 |\n",
    "\n",
    "## Question 9\n",
    "\n",
    "Using the assigned quantum programming framework, implement the quantum circuit from `Question 8`, draw the circuit, perform the simulation and plot the results"
   ]
  },
  {
   "cell_type": "code",
   "execution_count": 135,
   "metadata": {},
   "outputs": [],
   "source": [
    "# Solution\n",
    "\n"
   ]
  },
  {
   "cell_type": "markdown",
   "metadata": {},
   "source": [
    "## Question 10\n",
    "\n",
    "One of the teachers has “encrypted” a secret 3–bit code in qubits $\\left| q_{2}q_{1}q_{0} \\right\\rangle$ from the following quantum circuit. The circuit must be initialized as $\\left| q_{3}q_{2}q_{1}q_{0} \\right\\rangle = \\left| 1000 \\right\\rangle$.\n",
    "\n",
    "![Question10](img/qci_a4_question10.png)\n",
    "\n",
    "1. Implement and draw the circuit.\n",
    "2. What is the resulting vector state. What would you say that the secret code is? Why?\n",
    "3. Perform a simulation of the proposed circuit and plot the resulting probabilities.\n",
    "4. Did your results confirm the secret code that you estimated in `Question 10.2`?\n"
   ]
  },
  {
   "cell_type": "code",
   "execution_count": 136,
   "metadata": {},
   "outputs": [],
   "source": [
    "# Solution\n",
    "\n"
   ]
  }
 ],
 "metadata": {
  "kernelspec": {
   "display_name": "Python 3 (ipykernel)",
   "language": "python",
   "name": "python3"
  },
  "language_info": {
   "codemirror_mode": {
    "name": "ipython",
    "version": 3
   },
   "file_extension": ".py",
   "mimetype": "text/x-python",
   "name": "python",
   "nbconvert_exporter": "python",
   "pygments_lexer": "ipython3",
   "version": "3.11.8"
  }
 },
 "nbformat": 4,
 "nbformat_minor": 4
}
