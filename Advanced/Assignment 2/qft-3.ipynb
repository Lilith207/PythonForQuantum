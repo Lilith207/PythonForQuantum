{
 "cells": [
  {
   "cell_type": "code",
   "execution_count": null,
   "id": "0d819558",
   "metadata": {},
   "outputs": [],
   "source": [
    "import numpy as np\n",
    "from numpy import pi\n",
    "# importing Qiskit\n",
    "from qiskit import QuantumCircuit, transpile, assemble, Aer, IBMQ\n",
    "from qiskit.providers.ibmq import least_busy\n",
    "from qiskit.tools.monitor import job_monitor\n",
    "from qiskit.visualization import plot_histogram, plot_bloch_multivector"
   ]
  },
  {
   "cell_type": "code",
   "execution_count": null,
   "id": "63b0e57e",
   "metadata": {},
   "outputs": [],
   "source": [
    "qc = QuantumCircuit(3)"
   ]
  },
  {
   "cell_type": "code",
   "execution_count": null,
   "id": "fcc3da99",
   "metadata": {},
   "outputs": [],
   "source": [
    "qc.x(0)\n",
    "qc.x(2)\n",
    "qc.draw('mpl')"
   ]
  },
  {
   "cell_type": "code",
   "execution_count": null,
   "id": "0dabf57c",
   "metadata": {
    "scrolled": false
   },
   "outputs": [],
   "source": [
    "sim = Aer.get_backend(\"aer_simulator\")\n",
    "qc_init = qc.copy()\n",
    "qc_init.save_statevector()\n",
    "statevector = sim.run(qc_init).result().get_statevector()\n",
    "plot_bloch_multivector(statevector)"
   ]
  },
  {
   "cell_type": "code",
   "execution_count": null,
   "id": "4f5aa269",
   "metadata": {
    "scrolled": true
   },
   "outputs": [],
   "source": [
    "qc.h(2)\n",
    "qc.draw('mpl')"
   ]
  },
  {
   "cell_type": "code",
   "execution_count": null,
   "id": "9e6b94d5",
   "metadata": {},
   "outputs": [],
   "source": [
    "qc.cp(pi/2, 1, 2) # CROT from qubit 1 to qubit 2\n",
    "qc.draw('mpl')"
   ]
  },
  {
   "cell_type": "code",
   "execution_count": null,
   "id": "38a73bbb",
   "metadata": {},
   "outputs": [],
   "source": [
    "qc.cp(pi/4, 0, 2) # CROT from qubit 2 to qubit 0\n",
    "qc.draw('mpl')"
   ]
  },
  {
   "cell_type": "code",
   "execution_count": null,
   "id": "2751d56b",
   "metadata": {},
   "outputs": [],
   "source": [
    "qc.h(1)\n",
    "qc.cp(pi/2, 0, 1) # CROT from qubit 0 to qubit 1\n",
    "qc.h(0)\n",
    "qc.draw('mpl')"
   ]
  },
  {
   "cell_type": "code",
   "execution_count": null,
   "id": "57ee8540",
   "metadata": {},
   "outputs": [],
   "source": [
    "qc.swap(0,2)\n",
    "qc.draw('mpl')"
   ]
  },
  {
   "cell_type": "code",
   "execution_count": null,
   "id": "bd934046",
   "metadata": {},
   "outputs": [],
   "source": [
    "sim = Aer.get_backend(\"aer_simulator\")\n",
    "qc_init = qc.copy()\n",
    "qc_init.save_statevector()\n",
    "statevector = sim.run(qc_init).result().get_statevector()\n",
    "plot_bloch_multivector(statevector)"
   ]
  }
 ],
 "metadata": {
  "kernelspec": {
   "display_name": "Python 3 (ipykernel)",
   "language": "python",
   "name": "python3"
  },
  "language_info": {
   "codemirror_mode": {
    "name": "ipython",
    "version": 3
   },
   "file_extension": ".py",
   "mimetype": "text/x-python",
   "name": "python",
   "nbconvert_exporter": "python",
   "pygments_lexer": "ipython3",
   "version": "3.9.12"
  }
 },
 "nbformat": 4,
 "nbformat_minor": 5
}
