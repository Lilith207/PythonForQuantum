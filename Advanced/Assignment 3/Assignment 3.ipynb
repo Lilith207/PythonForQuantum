{
 "cells": [
  {
   "cell_type": "markdown",
   "metadata": {},
   "source": [
    "# Assignment: 3 - QPE\n",
    "### Name: Lilith Bertens\n",
    "### Hva ID: Bertenl"
   ]
  },
  {
   "cell_type": "markdown",
   "metadata": {},
   "source": [
    "# Exercise 1\n",
    "convert the 1/8 qpe to a 1/3 qpe\n",
    "\n",
    "### Answer\n",
    "The code used for the p gates in the beginning was changed from $\\frac{\\pi}{4}$ to $\\frac{2\\pi}{3}$.   \n",
    "This is according to:   \n",
    "![](img/snip1.png)   \n",
    "Where if you go from the end back to the beginning, going from 1/3 and work back, you would get $\\frac{\\pi}{1.5}$, or in a neater form $\\frac{2\\pi}{3}$"
   ]
  },
  {
   "cell_type": "markdown",
   "metadata": {},
   "source": []
  }
 ],
 "metadata": {
  "language_info": {
   "name": "python"
  }
 },
 "nbformat": 4,
 "nbformat_minor": 2
}
