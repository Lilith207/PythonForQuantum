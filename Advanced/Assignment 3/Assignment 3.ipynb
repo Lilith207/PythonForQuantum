{
 "cells": [
  {
   "cell_type": "markdown",
   "metadata": {},
   "source": [
    "# Assignment: 3 - QPE\n",
    "### Name: Lilith Bertens\n",
    "### Hva ID: Bertenl"
   ]
  },
  {
   "cell_type": "markdown",
   "metadata": {},
   "source": [
    "# Exercise 1\n",
    "convert the 1/8 qpe to a 1/3 qpe\n",
    "\n",
    "### Answer\n",
    "See the code below for the answer:"
   ]
  }
 ],
 "metadata": {
  "language_info": {
   "name": "python"
  }
 },
 "nbformat": 4,
 "nbformat_minor": 2
}
