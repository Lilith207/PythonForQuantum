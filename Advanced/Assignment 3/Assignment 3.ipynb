{
 "cells": [
  {
   "cell_type": "markdown",
   "metadata": {},
   "source": [
    "# Assignment: 3 - QPE\n",
    "### Name: Lilith Bertens\n",
    "### Hva ID: Bertenl"
   ]
  },
  {
   "cell_type": "markdown",
   "metadata": {},
   "source": [
    "# Exercise 1\n",
    "convert the 1/8 qpe to a 1/3 qpe\n",
    "\n",
    "### Answer\n",
    "The code used for the p gates in the beginning was changed from $\\frac{\\pi}{4}$ to $\\frac{2\\pi}{3}$ in the qpe jupiter notebook.   \n",
    "This is according to:   \n",
    "![](img/snip1.png)   \n",
    "Where if you go from the end back to the beginning, going from 1/3 and work back, you would get $\\frac{\\pi}{1.5}$, or in a neater form $\\frac{2\\pi}{3}$"
   ]
  },
  {
   "cell_type": "markdown",
   "metadata": {},
   "source": [
    "# Exercise 2\n",
    "Add 2 more counting qbits for precision.\n",
    "\n",
    "### Answer\n",
    "The code used has been made modular for more qbits, so now a chosen amount of qbits can be used, in the qpe doc its 5 according the what was asked."
   ]
  },
  {
   "cell_type": "markdown",
   "metadata": {},
   "source": [
    "# Exercise 3\n",
    "Change the phase estimated gate to a cnot gate.\n",
    "\n",
    "### Answer\n",
    "Wel.... i wasn't sure how this was supposed to be done. So i just changed the $\\frac{\\pi}{4}$ to $\\pi$, as the only thing you could get from a cnot gate is a 1. but i didn't entirely understand what to do."
   ]
  }
 ],
 "metadata": {
  "language_info": {
   "name": "python"
  }
 },
 "nbformat": 4,
 "nbformat_minor": 2
}
