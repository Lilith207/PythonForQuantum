{
 "cells": [
  {
   "cell_type": "markdown",
   "metadata": {},
   "source": [
    "# Assignment: 1 - Encoding\n",
    "### Name: Lilith Bertens\n",
    "### Hva ID: Bertenl"
   ]
  },
  {
   "cell_type": "markdown",
   "metadata": {},
   "source": [
    "# Exercise 1A\n",
    "Encode the following numbers in the basis encoding pattern: \n",
    "2, 3, 5, 7, 11, 13, 17, 19, 23.\n",
    "\n",
    "### Answer\n",
    "Sure sure, first ill convert it into binary.\n"
   ]
  },
  {
   "cell_type": "code",
   "execution_count": 2,
   "metadata": {},
   "outputs": [
    {
     "name": "stdout",
     "output_type": "stream",
     "text": [
      "10\n",
      "11\n",
      "101\n",
      "111\n",
      "1011\n",
      "1101\n",
      "10001\n",
      "10011\n",
      "10111\n"
     ]
    }
   ],
   "source": [
    "array = {2, 3, 5, 7, 11, 13, 17, 19, 23}\n",
    "Output = \"\"\n",
    "for i in array:\n",
    "    print(bin(i)[2:])"
   ]
  },
  {
   "cell_type": "markdown",
   "metadata": {},
   "source": [
    "Then writing this as $\\ket{}$ will give us the number encoded in base.     \n",
    "So the numbers encoded in a basic manner are:\n",
    "$\\ket{10}$, $\\ket{11}$, $\\ket{101}$, $\\ket{111}$, $\\ket{1011}$, $\\ket{1101}$, $\\ket{10001}$, $\\ket{10011}$, $\\ket{10111}$    \n",
    "This is done according to:   \n",
    "![](img/basis_encoding_solution.png)"
   ]
  },
  {
   "cell_type": "markdown",
   "metadata": {},
   "source": [
    "# Exercise 1B\n",
    "How would you encode a negative number?\n",
    "\n",
    "### Answer\n",
    "You would use the first bit as a signed bit. If it's one, the number is negative."
   ]
  },
  {
   "cell_type": "markdown",
   "metadata": {},
   "source": []
  }
 ],
 "metadata": {
  "kernelspec": {
   "display_name": "base",
   "language": "python",
   "name": "python3"
  },
  "language_info": {
   "codemirror_mode": {
    "name": "ipython",
    "version": 3
   },
   "file_extension": ".py",
   "mimetype": "text/x-python",
   "name": "python",
   "nbconvert_exporter": "python",
   "pygments_lexer": "ipython3",
   "version": "3.11.5"
  }
 },
 "nbformat": 4,
 "nbformat_minor": 2
}
