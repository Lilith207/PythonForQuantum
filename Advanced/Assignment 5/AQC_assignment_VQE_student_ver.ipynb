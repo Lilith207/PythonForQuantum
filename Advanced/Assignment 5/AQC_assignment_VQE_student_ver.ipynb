{
 "cells": [
  {
   "cell_type": "markdown",
   "metadata": {},
   "source": [
    "### Quantum Computing Advanced - Assignment VQE"
   ]
  },
  {
   "cell_type": "markdown",
   "metadata": {},
   "source": [
    "\n",
    "- **Name:**  *Name*\n",
    "- **UniID:** *UniID*"
   ]
  },
  {
   "cell_type": "markdown",
   "metadata": {},
   "source": [
    "Welcome to the assignment on Variational Quantum Eigensolver of the Quantum Computing Advanced course! During this assignment, you will use the IBM Qiskit package. This framework offers a huge variety of very interesting functionalities to explore. This assignment will require you to investigate about the proper usage of the tool. Please refer to the Qiskit online documentation or, even better, take a deep dive on the Qiskit tutorials."
   ]
  },
  {
   "cell_type": "markdown",
   "metadata": {},
   "source": [
    "#### Notes: \n",
    "\n",
    "1- Please make sure you have installed the Qiskit package. If you haven't, you can install it by running `!pip install qiskit` in a code cell. It is better to do so in a virtual environment.\n",
    "\n",
    "2- Please write your code and answers in the cells created in this notebook. You can add new cells if necessary.\n",
    "\n",
    "3- Don't forget to write documentation (docstrings) for the functions/codes you are implementing."
   ]
  },
  {
   "cell_type": "markdown",
   "metadata": {},
   "source": [
    "Briefly, you will be asked to implement a simple VQE algorithm to find the ground state energy of a given Hamiltonian. Then, you will be asked to implement a more complex VQE algorithm to find the ground state energy of a given Hamiltonian."
   ]
  },
  {
   "cell_type": "markdown",
   "metadata": {},
   "source": [
    "### Python environment\n",
    "First, start with importing the required libraries and setting up the environment."
   ]
  },
  {
   "cell_type": "code",
   "execution_count": 2,
   "metadata": {},
   "outputs": [],
   "source": [
    "# Import the necessary libraries \n",
    "import numpy as np\n",
    "import matplotlib.pyplot as plt"
   ]
  },
  {
   "cell_type": "code",
   "execution_count": 3,
   "metadata": {},
   "outputs": [],
   "source": [
    "# Import qiskit libraries\n",
    "from qiskit import QuantumCircuit, ClassicalRegister, QuantumRegister\n",
    "from qiskit.circuit import Parameter\n",
    "\n",
    "params = [Parameter(\"theta\"), Parameter(\"phi\"), Parameter(\"lam\")]\n",
    "#from qiskit import BasicAer, execute\n",
    "from qiskit.quantum_info import partial_trace, Statevector\n",
    "\n",
    "#from qiskit.algorithms.optimizers import SPSA, SLSQP, COBYLA\n",
    "\n"
   ]
  },
  {
   "cell_type": "markdown",
   "metadata": {},
   "source": [
    "### Note,\n",
    "\n",
    "This assignment is about using the Variational Quantum Eigensolver to find the ground state energy of a specific molecule. As I mentioned during the class, for last year's assignment I used a different version of Qiskit; hence, I used the following example material:\n",
    "\n",
    "  1. [Simulating Molecules using VQE](https://qiskit.org/textbook/ch-applications/vqe-molecules.html)\n",
    "  2. [The Variational Quantum Eigensolver](https://medium.com/@lana.bozanic/the-variational-quantum-eigensolver-efb8fab14c85)\n",
    "  3. [The Variational Quantum Eigensolver, Implemented with IBM’s Qiskit](https://medium.com/@ziyu.lili.maggie/the-variational-quantum-eigensolver-c473c6dcd46)\n",
    "\n",
    "\n",
    "  \n",
    "Be aware of version differences of Qiskit and we might use slighly different versions; hence, some algorithms were changed and some information was no longer valid. In any case, I managed to solve this assignment using the following example material:\n",
    "\n",
    "  1. [Electronic Structure - Qiskit Nature](https://qiskit.org/documentation/nature/tutorials/01_electronic_structure.html)\n",
    "  2. [Ground State Solver - Qiskit Nature](https://qiskit.org/documentation/nature/tutorials/03_ground_state_solvers.html)\n",
    "\n",
    "If you analyze carefully all these 5 tutorials, combining and adapting them, you should be able to solve these exercises. \n",
    "\n",
    "We will give you some explanations, some hints, and some code to start with."
   ]
  },
  {
   "cell_type": "markdown",
   "metadata": {},
   "source": [
    "First, we check if `pyscf` is installed. If not, we install it."
   ]
  },
  {
   "cell_type": "code",
   "execution_count": 4,
   "metadata": {},
   "outputs": [
    {
     "name": "stdout",
     "output_type": "stream",
     "text": [
      "Collecting pyscf\n",
      "  Using cached pyscf-2.5.0.tar.gz (8.7 MB)\n",
      "  Preparing metadata (setup.py): started\n",
      "  Preparing metadata (setup.py): finished with status 'done'\n",
      "Requirement already satisfied: numpy!=1.16,!=1.17,>=1.13 in c:\\users\\freek\\anaconda3\\lib\\site-packages (from pyscf) (1.24.3)\n",
      "Requirement already satisfied: scipy!=1.5.0,!=1.5.1 in c:\\users\\freek\\anaconda3\\lib\\site-packages (from pyscf) (1.11.1)\n",
      "Requirement already satisfied: h5py>=2.7 in c:\\users\\freek\\anaconda3\\lib\\site-packages (from pyscf) (3.9.0)\n",
      "Requirement already satisfied: setuptools in c:\\users\\freek\\anaconda3\\lib\\site-packages (from pyscf) (68.0.0)\n",
      "Building wheels for collected packages: pyscf\n",
      "  Building wheel for pyscf (setup.py): started\n",
      "  Building wheel for pyscf (setup.py): finished with status 'error'\n",
      "  Running setup.py clean for pyscf\n",
      "Failed to build pyscf\n"
     ]
    },
    {
     "name": "stderr",
     "output_type": "stream",
     "text": [
      "  error: subprocess-exited-with-error\n",
      "  \n",
      "  × python setup.py bdist_wheel did not run successfully.\n",
      "  │ exit code: 1\n",
      "  ╰─> [5 lines of output]\n",
      "      running bdist_wheel\n",
      "      running build\n",
      "      running build_py\n",
      "      cmake -SC:\\Users\\freek\\TEMP\\pip-install-bzzfot0x\\pyscf_921f5812f7d74566923170f64dd123b7\\pyscf\\lib -Bbuild\\temp.win-amd64\n",
      "      error: command 'cmake' failed: None\n",
      "      [end of output]\n",
      "  \n",
      "  note: This error originates from a subprocess, and is likely not a problem with pip.\n",
      "  ERROR: Failed building wheel for pyscf\n",
      "ERROR: Could not build wheels for pyscf, which is required to install pyproject.toml-based projects\n"
     ]
    }
   ],
   "source": [
    "!pip install pyscf"
   ]
  },
  {
   "cell_type": "markdown",
   "metadata": {},
   "source": [
    "We import the necessary libraries and set up the environment."
   ]
  },
  {
   "cell_type": "code",
   "execution_count": 5,
   "metadata": {},
   "outputs": [
    {
     "ename": "ModuleNotFoundError",
     "evalue": "No module named 'pyscf'",
     "output_type": "error",
     "traceback": [
      "\u001b[1;31m---------------------------------------------------------------------------\u001b[0m",
      "\u001b[1;31mModuleNotFoundError\u001b[0m                       Traceback (most recent call last)",
      "Cell \u001b[1;32mIn[5], line 1\u001b[0m\n\u001b[1;32m----> 1\u001b[0m \u001b[38;5;28;01mfrom\u001b[39;00m \u001b[38;5;21;01mpyscf\u001b[39;00m \u001b[38;5;28;01mimport\u001b[39;00m gto, scf, ao2mo, fci\n",
      "\u001b[1;31mModuleNotFoundError\u001b[0m: No module named 'pyscf'"
     ]
    }
   ],
   "source": [
    "from pyscf import gto, scf, ao2mo, fci"
   ]
  },
  {
   "cell_type": "markdown",
   "metadata": {},
   "source": [
    "### H2 potential energy surface\n",
    "\n",
    "The following is an example of a potential energy surface for the hydrogen molecule. The potential energy surface is a 2D plot of the energy of the molecule as a function of the bond length. The bond length is the distance between the two hydrogen atoms. The potential energy surface is a useful concept in chemistry because it helps us understand how the energy of a molecule changes as the atoms move. The potential energy surface is a key concept in the study of chemical reactions because it helps us understand how the energy of a molecule changes as it goes from reactants to products.\n",
    "\n",
    "Run the following code example and try to understand it. Ask me if you have any questions.\n"
   ]
  },
  {
   "cell_type": "code",
   "execution_count": 6,
   "metadata": {},
   "outputs": [],
   "source": [
    "def FCI(L, e_list):\n",
    "  mol = gto.M(atom='H 0 0 ' + str(L) + '; H 0 0 0', basis='sto-3g')\n",
    "  mf = scf.RHF(mol).run()\n",
    "  h1 = mf.mo_coeff.T.dot(mf.get_hcore()).dot(mf.mo_coeff)\n",
    "  eri = ao2mo.kernel(mol, mf.mo_coeff)\n",
    "  cisolver = fci.direct_spin1.FCI(mol)\n",
    "  e, ci = cisolver.kernel(h1, eri, h1.shape[1], mol.nelec, ecore=mol.energy_nuc())\n",
    "  e_list += [e]\n",
    "  return e_list\n",
    "  #print(e)\n"
   ]
  },
  {
   "cell_type": "code",
   "execution_count": 7,
   "metadata": {},
   "outputs": [
    {
     "ename": "NameError",
     "evalue": "name 'gto' is not defined",
     "output_type": "error",
     "traceback": [
      "\u001b[1;31m---------------------------------------------------------------------------\u001b[0m",
      "\u001b[1;31mNameError\u001b[0m                                 Traceback (most recent call last)",
      "Cell \u001b[1;32mIn[7], line 6\u001b[0m\n\u001b[0;32m      3\u001b[0m bond_length_fci \u001b[38;5;241m=\u001b[39m np\u001b[38;5;241m.\u001b[39mlinspace(\u001b[38;5;241m0.1\u001b[39m, \u001b[38;5;241m3.0\u001b[39m, \u001b[38;5;241m30\u001b[39m)\n\u001b[0;32m      5\u001b[0m \u001b[38;5;28;01mfor\u001b[39;00m i \u001b[38;5;129;01min\u001b[39;00m \u001b[38;5;28mrange\u001b[39m(\u001b[38;5;28mlen\u001b[39m(bond_length_fci)):\n\u001b[1;32m----> 6\u001b[0m   e_fci \u001b[38;5;241m=\u001b[39m FCI(bond_length_fci[i], e_fci)\n\u001b[0;32m      8\u001b[0m \u001b[38;5;28;01mfrom\u001b[39;00m \u001b[38;5;21;01mIPython\u001b[39;00m\u001b[38;5;21;01m.\u001b[39;00m\u001b[38;5;21;01mdisplay\u001b[39;00m \u001b[38;5;28;01mimport\u001b[39;00m clear_output\n\u001b[0;32m      9\u001b[0m clear_output()\n",
      "Cell \u001b[1;32mIn[6], line 2\u001b[0m, in \u001b[0;36mFCI\u001b[1;34m(L, e_list)\u001b[0m\n\u001b[0;32m      1\u001b[0m \u001b[38;5;28;01mdef\u001b[39;00m \u001b[38;5;21mFCI\u001b[39m(L, e_list):\n\u001b[1;32m----> 2\u001b[0m   mol \u001b[38;5;241m=\u001b[39m gto\u001b[38;5;241m.\u001b[39mM(atom\u001b[38;5;241m=\u001b[39m\u001b[38;5;124m'\u001b[39m\u001b[38;5;124mH 0 0 \u001b[39m\u001b[38;5;124m'\u001b[39m \u001b[38;5;241m+\u001b[39m \u001b[38;5;28mstr\u001b[39m(L) \u001b[38;5;241m+\u001b[39m \u001b[38;5;124m'\u001b[39m\u001b[38;5;124m; H 0 0 0\u001b[39m\u001b[38;5;124m'\u001b[39m, basis\u001b[38;5;241m=\u001b[39m\u001b[38;5;124m'\u001b[39m\u001b[38;5;124msto-3g\u001b[39m\u001b[38;5;124m'\u001b[39m)\n\u001b[0;32m      3\u001b[0m   mf \u001b[38;5;241m=\u001b[39m scf\u001b[38;5;241m.\u001b[39mRHF(mol)\u001b[38;5;241m.\u001b[39mrun()\n\u001b[0;32m      4\u001b[0m   h1 \u001b[38;5;241m=\u001b[39m mf\u001b[38;5;241m.\u001b[39mmo_coeff\u001b[38;5;241m.\u001b[39mT\u001b[38;5;241m.\u001b[39mdot(mf\u001b[38;5;241m.\u001b[39mget_hcore())\u001b[38;5;241m.\u001b[39mdot(mf\u001b[38;5;241m.\u001b[39mmo_coeff)\n",
      "\u001b[1;31mNameError\u001b[0m: name 'gto' is not defined"
     ]
    }
   ],
   "source": [
    "e_fci = []\n",
    "\n",
    "bond_length_fci = np.linspace(0.1, 3.0, 30)\n",
    "\n",
    "for i in range(len(bond_length_fci)):\n",
    "  e_fci = FCI(bond_length_fci[i], e_fci)\n",
    "\n",
    "from IPython.display import clear_output\n",
    "clear_output()\n"
   ]
  },
  {
   "cell_type": "code",
   "execution_count": null,
   "metadata": {},
   "outputs": [],
   "source": [
    "FCI(0.7414, [])"
   ]
  },
  {
   "cell_type": "code",
   "execution_count": null,
   "metadata": {},
   "outputs": [],
   "source": [
    "plt.plot(bond_length_fci, e_fci)\n",
    "# axis labels\n",
    "plt.xlabel(\"Bond Length (Angstrom)\")\n",
    "plt.ylabel(\"Energy (Hartree)\")\n",
    "plt.title(\"H2 Ground State Energy\")"
   ]
  },
  {
   "cell_type": "markdown",
   "metadata": {},
   "source": [
    "#### Question 1\n",
    "\n",
    "1. What is the equilibrium bond length of the hydrogen molecule?\n",
    "2. What is the dissociation energy of the hydrogen molecule?"
   ]
  },
  {
   "cell_type": "markdown",
   "metadata": {},
   "source": [
    "Write your answers in the cell below."
   ]
  },
  {
   "cell_type": "markdown",
   "metadata": {},
   "source": [
    "#### Question 2\n",
    "\n",
    "Change the above `pyscf` code and plot the potential energy surface for LiH molecule.  "
   ]
  },
  {
   "cell_type": "code",
   "execution_count": null,
   "metadata": {},
   "outputs": [],
   "source": [
    "# Question 2: write your code below"
   ]
  },
  {
   "cell_type": "markdown",
   "metadata": {},
   "source": [
    "### Understanding the problem: \n",
    "\n",
    "The first step is to understand the problem. We will start by understanding the Hamiltonian composed of Pauli operators. Then, we will understand the problem of finding the ground state energy of a given Hamiltonian. After, we will understand the VQE algorithm and how it can be used to solve this problem."
   ]
  },
  {
   "cell_type": "markdown",
   "metadata": {},
   "source": [
    "#### A quick recap of the VQE algorithm:\n",
    "\n",
    "Finding the ground state of molecules is a key problem in quantum chemistry. Typically, we need a Hamiltonian to describe a molecular system. The Hamiltonian is composed of two parts: a kinetic energy operator and potential energy operator. We can see this in the following equation: \n",
    "\n",
    "$$ H = T + V $$\n",
    "\n",
    "Typically, the Hamiltonian is a matrix on a computer that describes the possible energies and behaviors of a system. The ground state energy of the Hamiltonian is the lowest energy that the system can have. This is the energy that the system will tend to be in. The behavior is described by the wavefunction of the system. The wavefunction is a complex function that describes the behavior of the system. The ground state wavefunction is the wavefunction that corresponds to the ground state energy.\n",
    "\n",
    "Eigenvalues: the energies of the system. Each system has multiple states and the eigenvalues are the energies of these states. The ground state energy is the lowest eigenvalue.\n",
    "\n",
    "Eigenvectors: the wavefunctions of the system. Each system has multiple states and the eigenvectors are the wavefunctions of these states. The ground state wavefunction is the wavefunction that corresponds to the ground state energy.\n",
    "\n",
    "##### The VQE algorithm:\n",
    "Variational Quantum Eigensolver (VQE) helps us in estimating the upper bound of the ground state energy. Our job is to decrease the difference between the upper bound and the actual ground state energy. The VQE is an extension of the classical variational principle. The variational principle states that for any Hamiltonian, the ground state energy is always greater than or equal to the expectation value of the Hamiltonian with respect to any trial wavefunction. \n",
    "\n",
    "### The variational principle:\n",
    "The variational principle states that for any Hamiltonian, the ground state energy is always greater than or equal to the expectation value of the Hamiltonian with respect to any trial wavefunction.\n",
    "\n",
    "Let's say we have a Hamiltonian H and a trial wavefunction $|ψ⟩$. The action of H on $|ψ⟩$ gives the eigenvalue of H:\n",
    "$$ H|ψ_{\\lambda}⟩ = E_{\\lambda}|ψ_{\\lambda}⟩ $$\n",
    "\n",
    "\n",
    "The expectation value of H with respect to $|ψ⟩$ is given by:\n",
    "$$ E_{\\lambda} = ⟨ψ_{\\lambda}|H|ψ_{\\lambda}⟩ $$\n",
    "\n",
    "The variational principle:\n",
    "$$⟨ψ_{\\lambda}|H|ψ_{\\lambda}⟩ ≥ E_{0}$$\n",
    "\n",
    "Where $E_{0}$ is the ground state energy of $H$. The variational principle states that the expectation value of $H$ with respect to any trial wavefunction is always greater than or equal to the ground state energy of $H$. The VQE algorithm uses this principle to estimate the ground state energy of a given Hamiltonian.\n",
    "\n"
   ]
  },
  {
   "cell_type": "markdown",
   "metadata": {},
   "source": [
    "##### Understanding the Hamiltonian:\n",
    "To find the ground state energy of a given Hamiltonian on a quantum computer, we need first to define this Hamiltonian in terms of Pauli operators or Pauli strings. \n",
    "\n",
    "Hence, we come to the concept of `ansatz`. The ansatz is a parameterized quantum circuit that prepares a trial wavefunction. The VQE algorithm uses the ansatz to prepare a trial wavefunction and then uses the variational principle to estimate the ground state energy of a given Hamiltonian. \n",
    "\n",
    "Ansatz is used to explore the space of possible wavefunctions/states. The parameterized quantum circuit could be, for example, $R_y$ gate.\n",
    "\n",
    "The usability of Hamiltonian in quantum chemistry is actually more generic and can be used in other domains \n",
    "\n",
    "##### VQE steps: \n",
    "1. Obtain the Hamiltonian of the problem. \n",
    "2. Divide the Hamiltonian into terms. \n",
    "3. Choose an ansatz: a parameterized quantum circuit that prepares a trial wavefunction.\n",
    "4. Choose a backend: a quantum computer or a quantum simulator.\n",
    "5. Choose an optimizer: a classical optimization algorithm.\n",
    "6. Perform the measurements: measure the expectation value of the Hamiltonian with respect to the trial wavefunction. Typically, this is measured by finding the expectation value about the Pauli $Z$ gate.\n",
    "\n",
    "##### Convert Pauli strings to parameterized quantum circuits:\n",
    "1. For Pauli $X$ gate: $X = R_y(-\\pi/2)$.\n",
    "2. For Pauli $Y$ gate: $Y = R_x(\\pi/2)$.\n",
    "3. For Pauli $Z$ gate: $Z = I$. So we do not need to do anything.\n",
    " "
   ]
  },
  {
   "cell_type": "markdown",
   "metadata": {},
   "source": [
    "#### Example:\n",
    "Now, let's start by understanding the Hamiltonian of the problem. \n",
    "Given the following Hamiltonian: \n",
    "$$ H = X$$ \n",
    "\n",
    "For one qubit, we code the equivalent parameterized quantum circuits. Our ansatz will be $R_y(\\theta)$ gate and then we add the gate $R_y(-\\pi/2)$ to simulate the Pauli $X$ gate. \n"
   ]
  },
  {
   "cell_type": "code",
   "execution_count": null,
   "metadata": {},
   "outputs": [],
   "source": [
    "# Example 1: Create a quantum circuit with 1 qubit and 1 classical bit\n",
    "qr_0 = QuantumRegister(1, name=\"q\")\n",
    "cr = ClassicalRegister(1, name=\"c\")\n",
    "#print(qc_0)\n",
    "# act on the qubit with a rotation gate R_y(theta)\n",
    "qc = QuantumCircuit(qr_0,cr)\n",
    "\n",
    "# Define our ansatz\n",
    "qc.ry(params[0],qr_0)\n",
    "\n",
    "# Substitute Pauli gate X with the rotation gate R_y(-pi/2)\n",
    "param_paulis = [Parameter(\"pi/2\"), Parameter(\"$\\pi/2$\")] \n",
    "qc.ry(param_paulis[0],qr_0)\n",
    "\n",
    "# Measure the qubit\n",
    "qc.measure(qr_0,cr)\n",
    "print(qc)\n",
    "\n",
    "# we can also draw the circuit\n",
    "qc.draw(output='mpl')\n"
   ]
  },
  {
   "cell_type": "markdown",
   "metadata": {},
   "source": [
    "Similarly, if we have the Pauli $Y$ gate, we would add the gate $R_x(\\pi/2)$ to simulate the Pauli $Y$ gate. If we have the Pauli $Z$ gate, we would not need to do anything and we end up only with the ansatz $R_y(\\theta)$ gate."
   ]
  },
  {
   "cell_type": "markdown",
   "metadata": {},
   "source": [
    "#### Question 1:\n",
    "Now, let's start by understanding the Hamiltonian of the problem. \n",
    "Given the following Hamiltonian: \n",
    "$$ H = 2*Z + X + I $$ \n",
    "\n",
    "First, divide the Hamiltonian into terms. Code the equivalent parameterized quantum circuits for each term of the Hamiltonian."
   ]
  },
  {
   "cell_type": "code",
   "execution_count": null,
   "metadata": {},
   "outputs": [],
   "source": [
    "# Question 1: write your code here,\n",
    "# to create a quantum circuit of 1 qubit and 1 classical bit\n",
    "# act on the qubit with the ansatz and the gate equivalent to the Hamiltonian term\n",
    "\n",
    "# Term 1:Ansatz = 2.Z\n",
    "def H1_ansatz(n_qubits,param):\n",
    "  # write your code here\n",
    "    return qc\n",
    "\n",
    "# Term 2: Hamiltonian = X\n",
    "def H2_ansatz(n_qubits,param):\n",
    " # write your code here\n",
    "    return qc\n",
    "\n",
    "# Term 3: Hamiltonian = I\n",
    "def H3_ansatz(n_qubits,param):\n",
    " # write your code heren\n",
    "    return qc\n",
    "\n",
    "# You can combine the ansatz for each term to create the ansatz for the Hamiltonian\n",
    "def Hamiltonian_ansatz(n_qubits,params):\n",
    " # write your code here\n",
    "    return qc"
   ]
  },
  {
   "cell_type": "markdown",
   "metadata": {},
   "source": [
    "#### Question 2:\n",
    "\n",
    "Now, let's calculate the expectation value of the Hamiltonian with respect to the trial wavefunction at $\\theta = 0$. You can write a code of a function to calculate the expectation value of each term of the Hamiltonian separately and then sum them up. Use the fact that the expectation value of the Pauli $Z$ gate is given by the following equation: \n",
    "$$ \\langle \\psi(\\theta=0) |\\psi(\\theta=0) \\rangle = 1$$\n",
    "\n",
    "Example, the expectation value of the first term $H_1$ is evaluated as:\n",
    "$$ \\langle \\psi(\\theta=0) |H_1|\\psi(\\theta=0) \\rangle$$\n",
    "\n",
    "\n",
    "\n",
    "Write function to calculate the expectation value of the Hamiltonian H1."
   ]
  },
  {
   "cell_type": "code",
   "execution_count": null,
   "metadata": {},
   "outputs": [],
   "source": [
    "# Write function to calculate the expectation value of the Hamiltonian H1"
   ]
  },
  {
   "cell_type": "markdown",
   "metadata": {},
   "source": [
    "Develop a function that can compute the expectation value of the second term of the Hamiltonian with respect to the trial wavefunction at $\\theta = 0$:\n",
    "\n",
    "$$ \\langle \\psi(\\theta=0) |H_2|\\psi(\\theta=0) \\rangle$$\n",
    "\n",
    "Calculate the expectation value of the Hamiltonian $H_2$."
   ]
  },
  {
   "cell_type": "code",
   "execution_count": null,
   "metadata": {},
   "outputs": [],
   "source": [
    "# Calculate the expectation value of the Hamiltonian H2\n",
    "# write your code here\n"
   ]
  },
  {
   "cell_type": "markdown",
   "metadata": {},
   "source": [
    "Similarly, develop a function that can compute the expectation value of the third term of the Hamiltonian with respect to the trial wavefunction at $\\theta = 0$:\n",
    "$$ \\langle \\psi(\\theta=0) |H_3|\\psi(\\theta=0) \\rangle$$\n",
    "\n",
    "Finally, sum up the expectation values of the three terms to get the expectation value of the Hamiltonian with respect to the trial wavefunction at $\\theta = 0$.\n",
    "\n",
    "\n",
    "Calculate the expectation value of the Hamiltonian $H_3$."
   ]
  },
  {
   "cell_type": "code",
   "execution_count": null,
   "metadata": {},
   "outputs": [],
   "source": [
    "# Compute the expectation value of the Hamiltonian H3\n",
    "\n",
    "\n",
    "\n",
    "# write your code here\n",
    "\n",
    "\n",
    "\n"
   ]
  },
  {
   "cell_type": "markdown",
   "metadata": {},
   "source": [
    "#### Question 3:\n",
    "\n",
    "Repeat the previous question for $\\theta = \\pi$."
   ]
  },
  {
   "cell_type": "code",
   "execution_count": null,
   "metadata": {},
   "outputs": [],
   "source": [
    "# Question 3: write your code here,"
   ]
  },
  {
   "cell_type": "markdown",
   "metadata": {},
   "source": [
    "#### Question 4:\n",
    "\n",
    "Combine the three functions into one function that can calculate the expectation value of the Hamiltonian with respect to the trial wavefunction at any given $\\theta$."
   ]
  },
  {
   "cell_type": "code",
   "execution_count": null,
   "metadata": {},
   "outputs": [],
   "source": [
    "# Write a full function to calculate the expectation value of the Hamiltonian terms H1, H2, H3\n",
    "# and the total Hamiltonian H_total\n",
    "def H_total_expectation_value(n_qubits, th_value):\n",
    "    # Declare the parameter theta for the ansatz\n",
    "    param = Parameter(\"theta\")\n",
    "    qc1 = H1_ansatz(n_qubits,param=th_value)\n",
    "    qc2 = H2_ansatz(n_qubits,param=th_value)\n",
    "    qc3 = H3_ansatz(n_qubits,param=th_value)\n",
    "    \n",
    "# write your code here    \n",
    "\n",
    "    "
   ]
  },
  {
   "attachments": {
    "image.png": {
     "image/png": "[encoded data removed]"
    }
   },
   "cell_type": "markdown",
   "metadata": {},
   "source": [
    "Plot the expectation value of the Hamiltonian with respect to the trial wavefunction at fine grid of $\\theta$ values between $0$ and $2\\pi$.\n",
    "\n",
    "You should get something similar to this plot:\n",
    "\n",
    "![image.png](attachment:image.png)"
   ]
  },
  {
   "cell_type": "code",
   "execution_count": null,
   "metadata": {},
   "outputs": [],
   "source": [
    "# Plot the expectation value of the Hamiltonian terms H1, H2, H3 and the total Hamiltonian H_total\n",
    "# as a function of the parameter theta\n",
    "# Define the range of the parameter theta\n",
    "theta_range = np.linspace(0, 2*np.pi, 100)\n",
    "\n",
    "# Write your code here"
   ]
  },
  {
   "cell_type": "markdown",
   "metadata": {},
   "source": [
    "Variational Quantum Eigensolver (VQE) is a hybrid algorithm that uses a variational technique and interleaves quantum and classical computations in order to find the minimum eigenvalue of the Hamiltonian. Classical computers are used to update the variational parameters like $\\theta$ and to do post processing after the measurements. The hybrid approach will come later when you use qiskit. "
   ]
  },
  {
   "cell_type": "markdown",
   "metadata": {},
   "source": [
    "Typically, we need more parameters to get a better approximation of the ground state energy. The more parameters we have, the more complex the quantum circuit will be. \n",
    "\n",
    "The gate $U_3$ takes three parameters: $\\theta$, $\\phi$, and $\\lambda$. The gate $U_3$ is a generalization of the $R_y$ gate. The $U_3$ gate is defined as follows:\n",
    "\n",
    "\n",
    "$$\n",
    "\\begin{aligned}\n",
    "    U3(\\theta, \\phi, \\lambda) = \\begin{pmatrix}\\cos(\\frac{\\theta}{2}) & -e^{i\\lambda}\\sin(\\frac{\\theta}{2}) \\\\ e^{i\\phi}\\sin(\\frac{\\theta}{2}) & e^{i\\lambda + i\\phi}\\cos(\\frac{\\theta}{2}) \\end{pmatrix}\n",
    "\\end{aligned}\n",
    "$$\n",
    "Up to a global phase, any possible single qubit operation can be performed using the $U_3$ gate. The universal \"variational\" form of the $U_3$ gate has three parameters that can be efficiently optimized by a classical computer.\n",
    "\n",
    "Thus, in the following question, you will be asked to implement a more complex VQE algorithm to find the ground state energy of a given Hamiltonian. Instead of using a single parameterized quantum circuit with $\\theta$, you will be using a parameterized quantum circuit with three parameters: $\\theta$, $\\phi$, and $\\lambda$ in $U_3$ gate."
   ]
  },
  {
   "cell_type": "markdown",
   "metadata": {},
   "source": [
    "\n",
    "Now, we will use a single qubit and implement a simple VQE algorithm to find the ground state energy with a parameterized quantum circuit with three parameters: $\\theta$, $\\phi$, and $\\lambda$ in $U_3$ gate. To optimize the values of the parameters, we will use an optimization algorithm that minimizes the expectation value of the Hamiltonian with respect to the trial wavefunction.Specifically, for a given random probability distribution of the parameters, we want to determine the values of the parameters that make our single qubit variational quantum circuit that outputs a probability distribution close to $\\vec{x}$ (where closeness is defined by the fidelity between the two probability distributions)."
   ]
  },
  {
   "cell_type": "markdown",
   "metadata": {},
   "source": [
    "#### Question 5-A:\n",
    "First, we create a random probability distribution. Create a function that generates a random probability distribution with two targets: from 0 to $p_0$ and from 1 to $p_0$, where $p_0$ is a random number between 0 and 1."
   ]
  },
  {
   "cell_type": "code",
   "execution_count": null,
   "metadata": {},
   "outputs": [],
   "source": [
    "# Question 5-B: write your code here\n"
   ]
  },
  {
   "cell_type": "markdown",
   "metadata": {},
   "source": [
    "#### Question 5-B:\n",
    "Create a function that takes the three parameters $\\theta$, $\\phi$, and $\\lambda$ of our gate $U_3$, acts on a quantum register of a single qubit, and returns the corresponding quantum circuit.\n"
   ]
  },
  {
   "cell_type": "code",
   "execution_count": null,
   "metadata": {},
   "outputs": [],
   "source": [
    "# Question 5-B: write your code here\n",
    "params = [Parameter(\"theta\"), Parameter(\"phi\"), Parameter(\"lam\")]\n",
    "\n",
    "def get_var_form(params):\n",
    " # write your code here\n",
    "    return qc\n",
    "\n",
    "qc = get_var_form(params)"
   ]
  },
  {
   "cell_type": "markdown",
   "metadata": {},
   "source": [
    "#### Question 5-C:\n",
    "Now, let's develop the objective function. We can first use the sampler from Qiskit to sample the probability distribution of the quantum circuit's output. After that, we get the probability distribution of the quantum circuit's output and calculate the fidelity between the two probability distributions. So that the cost will be \n",
    "````python\n",
    "\n",
    "cost = sum(\n",
    "        abs(target_distr.get(i, 0) - output_distr.get(i, 0))\n",
    "        for i in range(2**qc.num_qubits)\n",
    "    )\n",
    "````\n",
    "\n",
    "For that, you will need to include IBM quantum account credentials like the name of the service (channel) and your account token. You can register on the IBM Quantum lab website to get your API token.\n",
    "\n",
    "Ask me if you have any issues :) \n"
   ]
  },
  {
   "cell_type": "code",
   "execution_count": null,
   "metadata": {},
   "outputs": [],
   "source": [
    "from qiskit_ibm_runtime import QiskitRuntimeService, Sampler\n",
    "from qiskit import QuantumCircuit\n",
    "\n",
    "# service = QiskitRuntimeService(\n",
    "#     channel='ibm_quantum',\n",
    "#     instance='ibm-q/open/main',\n",
    "# )\n",
    "\n",
    "service = QiskitRuntimeService(channel=\"ibm_quantum\", \n",
    "token=\"YOUR_API_TOKEN\")"
   ]
  },
  {
   "cell_type": "code",
   "execution_count": null,
   "metadata": {},
   "outputs": [],
   "source": [
    "# specify the backend\n",
    "from qiskit import QuantumCircuit\n",
    "from qiskit_ibm_runtime import QiskitRuntimeService, SamplerV2 as Sampler"
   ]
  },
  {
   "cell_type": "code",
   "execution_count": null,
   "metadata": {},
   "outputs": [],
   "source": [
    "# Question 5-C: write your code here\n",
    "#from qiskit_aer.primitives import Sampler, Estimator\n",
    "\n",
    "sampler = Sampler(\"ibmq_qasm_simulator\")\n",
    "\n",
    "\n",
    "def objective_function(params):\n",
    "    \"\"\"Compares the output distribution of our circuit with\n",
    "    parameters `params` to the target distribution.\"\"\"\n",
    "    # Simulate the circuit instance with paramters\n",
    "    result = sampler.run(circuits=qc, parameter_values=params).result()\n",
    "    # Get the quasi distribution for each measured state\n",
    "    output_distr = result.quasi_dists[0]\n",
    "    # Calculate the cost as the distance between the output\n",
    "    # distribution and the target distribution\n",
    "     # ***********************\n",
    "    # write your code here: calculate the cost\n",
    "    # ***********************\n",
    "    return cost"
   ]
  },
  {
   "cell_type": "markdown",
   "metadata": {},
   "source": [
    "#### Question 5-D:\n",
    "\n",
    "Finally, we need to use COBYLA optimizer to minimize the cost function. We can create instance of the optimizer as follows:\n",
    "````python\n",
    "\n",
    "optimizer = COBYLA(maxiter=500, tol=0.0001)\n",
    "# Create the initial parameters (noting that our\n",
    "# single qubit variational form has 3 parameters)\n",
    "initial_point = np.random.rand(3)\n",
    "\n",
    "result = optimizer.minimize(fun=objective_function, x0=initial_point)\n",
    "\n",
    "````\n",
    "\n",
    "Note that the output varies from run to run due to random noise. Moreover, while close, the obtained distribution will not be exactly the same as the target distribution."
   ]
  },
  {
   "cell_type": "code",
   "execution_count": null,
   "metadata": {},
   "outputs": [],
   "source": [
    "!pip install qiskit-algorithms"
   ]
  },
  {
   "cell_type": "code",
   "execution_count": null,
   "metadata": {},
   "outputs": [],
   "source": [
    "# Question 5-D: write your code here\n",
    "from qiskit_algorithms.optimizers import SLSQP, COBYLA\n",
    "\n",
    "optimizer = COBYLA(maxiter=500, tol=0.0001)\n",
    "# Create the initial parameters (noting that our\n",
    "# single qubit variational form has 3 parameters)\n",
    "initial_point = np.random.rand(3)\n",
    "\n",
    "result = optimizer.minimize(fun=objective_function, x0=initial_point)\n",
    "\n",
    "# Obtain the output distribution using the final parameters\n",
    "\n",
    "# write your code here\n",
    "\n",
    "print(\"Parameters Found:\", result.x)\n",
    "print(\"Target Distribution:\", target_distr)\n",
    "print(\"Obtained Distribution:\", output_distr)\n",
    "print(\"Cost:\", objective_function(result.x))"
   ]
  },
  {
   "cell_type": "markdown",
   "metadata": {},
   "source": [
    "## VQE Qiskit implementation Example for $H_2$:\n",
    "\n",
    "Now, let's implement the VQE algorithm using Qiskit for $H_2$ molecule. \n",
    "First, we will need to import the required libraries and set up the environment."
   ]
  },
  {
   "cell_type": "code",
   "execution_count": null,
   "metadata": {},
   "outputs": [],
   "source": [
    "from qiskit_nature.units import DistanceUnit\n",
    "from qiskit_nature.second_q.drivers import PySCFDriver\n",
    "\n",
    "driver = PySCFDriver(\n",
    "    atom=\"H 0 0 0; H 0 0 0.735\",\n",
    "    basis=\"sto3g\",\n",
    "    charge=0,\n",
    "    spin=0,\n",
    "    unit=DistanceUnit.ANGSTROM,\n",
    ")\n",
    "\n",
    "es_problem = driver.run()"
   ]
  },
  {
   "cell_type": "code",
   "execution_count": null,
   "metadata": {},
   "outputs": [],
   "source": [
    "# pylint: disable=line-too-long\n",
    "#import qiskit_nature\n",
    "from qiskit_algorithms import VQE\n",
    "from qiskit_algorithms import NumPyEigensolver\n",
    "#from qiskit.algorithms import NumPyEigensolver\n",
    "# from qiskit_nature.second_q.transformers import FreezeCoreTransformer\n",
    "# from qiskit_nature.second_q.formats.molecule_info import MoleculeInfo\n",
    "# from qiskit_nature.second_q.mappers import ParityMapper\n",
    "# from qiskit_nature.second_q.circuit.library import UCCSD, HartreeFock\n",
    "\n",
    "# qiskit_nature.settings.use_pauli_sum_op = False  # pylint: disable=undefined-variable\n",
    "# # pylint: enable=line-too-long\n",
    "# from qiskit_nature.second_q.drivers import PySCFDriver\n",
    "# import matplotlib.pyplot as plt\n",
    "# from qiskit.circuit.library import EfficientSU2"
   ]
  },
  {
   "cell_type": "code",
   "execution_count": null,
   "metadata": {},
   "outputs": [],
   "source": [
    "numpy_solver = NumPyEigensolver(k=4, filter_criterion=es_problem.get_default_filter_criterion())\n"
   ]
  },
  {
   "cell_type": "code",
   "execution_count": null,
   "metadata": {},
   "outputs": [],
   "source": [
    "from qiskit_nature.second_q.mappers import JordanWignerMapper\n",
    "from qiskit_nature.second_q.mappers import ParityMapper\n",
    "from qiskit_nature.second_q.problems import ElectronicBasis\n",
    "\n",
    "mapper = JordanWignerMapper()\n",
    "parity_mapper = ParityMapper()"
   ]
  },
  {
   "cell_type": "markdown",
   "metadata": {},
   "source": [
    "### Running VQE on a Simulator\n"
   ]
  },
  {
   "cell_type": "markdown",
   "metadata": {},
   "source": [
    "In this section, we will run the VQE algorithm on a simulator. We will calculate the ground state energy for LiH molecule using the VQE algorithm at various interatomic distances. For each interatomic distance, a driver has to be created. \n",
    "\n",
    "To reduce the problem complexity and also the number of qubits, we freeze the core electrons and remove two unoccupied orbitals."
   ]
  },
  {
   "cell_type": "markdown",
   "metadata": {},
   "source": [
    "It is very hard most of the time to perform the optimization in a real quantum computer. The noise in the quantum computer will affect the results."
   ]
  },
  {
   "cell_type": "markdown",
   "metadata": {},
   "source": [
    "#### Question 6:\n",
    "\n",
    "Below, there is a VQE example for $H_2$ molecule from Qiskit tutorials. Adapt this code to and calculate the potential energy surface for LiH molecule. \n",
    "\n",
    "For the complete tutorial, please refer to: https://qiskit-community.github.io/qiskit-nature/tutorials/01_electronic_structure.html\n"
   ]
  },
  {
   "cell_type": "code",
   "execution_count": null,
   "metadata": {},
   "outputs": [],
   "source": [
    "# Setting up the PySCF driver\n",
    "from qiskit_nature.units import DistanceUnit\n",
    "from qiskit_nature.second_q.drivers import PySCFDriver\n",
    "\n",
    "driver = PySCFDriver(\n",
    "    atom=\"H 0 0 0; H 0 0 0.735\",\n",
    "    basis=\"sto3g\",\n",
    "    charge=0,\n",
    "    spin=0,\n",
    "    unit=DistanceUnit.ANGSTROM,\n",
    ")\n",
    "\n",
    "problem = driver.run()\n",
    "print(problem)"
   ]
  },
  {
   "cell_type": "markdown",
   "metadata": {},
   "source": [
    "Now, we need the electronic energy Hamiltonian. It should be represented in the second quantization form with 1- and 2-body integrals. We can use the `ElectronicStructureProblem` class from Qiskit Nature to generate the second quantized operators."
   ]
  },
  {
   "cell_type": "code",
   "execution_count": null,
   "metadata": {},
   "outputs": [],
   "source": [
    "hamiltonian = problem.hamiltonian\n",
    "\n",
    "coefficients = hamiltonian.electronic_integrals\n",
    "print(coefficients.alpha)"
   ]
  },
  {
   "cell_type": "code",
   "execution_count": null,
   "metadata": {},
   "outputs": [],
   "source": [
    "second_q_op = hamiltonian.second_q_op()\n",
    "print(second_q_op)"
   ]
  },
  {
   "cell_type": "markdown",
   "metadata": {},
   "source": [
    "The above is the pure electronic Hamiltonian of the molecule. The nuclear repulsion energy is not included in the electronic Hamiltonian. The nuclear repulsion energy is the energy required to bring the nuclei from infinity to their equilibrium positions. It is a constant value for a given molecule and is added to the electronic energy to get the total energy of the molecule."
   ]
  },
  {
   "cell_type": "code",
   "execution_count": null,
   "metadata": {},
   "outputs": [],
   "source": [
    "hamiltonian.nuclear_repulsion_energy  # NOT included in the second_q_op above"
   ]
  },
  {
   "cell_type": "code",
   "execution_count": null,
   "metadata": {},
   "outputs": [],
   "source": [
    "problem.molecule"
   ]
  },
  {
   "cell_type": "code",
   "execution_count": null,
   "metadata": {},
   "outputs": [],
   "source": [
    "problem.reference_energy"
   ]
  },
  {
   "cell_type": "code",
   "execution_count": null,
   "metadata": {},
   "outputs": [],
   "source": [
    "problem.num_particles"
   ]
  },
  {
   "cell_type": "code",
   "execution_count": null,
   "metadata": {},
   "outputs": [],
   "source": [
    "problem.num_spatial_orbitals"
   ]
  },
  {
   "cell_type": "code",
   "execution_count": null,
   "metadata": {},
   "outputs": [],
   "source": [
    "problem.basis"
   ]
  },
  {
   "cell_type": "markdown",
   "metadata": {},
   "source": [
    "### Solving the ElectronicStructureProblem"
   ]
  },
  {
   "cell_type": "code",
   "execution_count": null,
   "metadata": {},
   "outputs": [],
   "source": [
    "from qiskit_algorithms import NumPyMinimumEigensolver\n",
    "from qiskit_nature.second_q.algorithms import GroundStateEigensolver\n",
    "from qiskit_nature.second_q.mappers import JordanWignerMapper\n",
    "\n",
    "solver = GroundStateEigensolver(\n",
    "    JordanWignerMapper(),\n",
    "    NumPyMinimumEigensolver(),\n",
    ")\n",
    "\n",
    "result = solver.solve(problem)\n",
    "print(result)"
   ]
  }
 ],
 "metadata": {
  "kernelspec": {
   "display_name": "qiskitenv",
   "language": "python",
   "name": "python3"
  },
  "language_info": {
   "codemirror_mode": {
    "name": "ipython",
    "version": 3
   },
   "file_extension": ".py",
   "mimetype": "text/x-python",
   "name": "python",
   "nbconvert_exporter": "python",
   "pygments_lexer": "ipython3",
   "version": "3.11.5"
  }
 },
 "nbformat": 4,
 "nbformat_minor": 2
}
