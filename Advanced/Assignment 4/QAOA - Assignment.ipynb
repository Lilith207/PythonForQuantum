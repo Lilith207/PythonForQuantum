{
 "cells": [
  {
   "cell_type": "markdown",
   "metadata": {},
   "source": [
    "# Assignment: 4 - QAOA\n",
    "### Name: Lilith Bertens, Joy Park\n",
    "### Hva ID: Bertenl, Parkes"
   ]
  },
  {
   "cell_type": "markdown",
   "metadata": {},
   "source": [
    "# Exercise 1\n",
    "Open the notebook and add a graph in the optimisation function which\n",
    "shows the evolution of the beta and gamma parameter in the algorithm.\n",
    "\n",
    "### Answer\n",
    "See qaoa for the edit made, it now shows the optimization in a graph."
   ]
  },
  {
   "cell_type": "markdown",
   "metadata": {},
   "source": [
    "# Exercise 2\n",
    "Use the notebook for finding the max-cut on the graph shown in Figure\n",
    "2.2.\n",
    "\n",
    "### Answer\n",
    "The notebook gave back the answer of \"10010\" and \"01101\" which translate to the nodes 4, 1 and 0, 2, 3. which as far as i can see works out. these node sets would give you the max cut."
   ]
  },
  {
   "cell_type": "markdown",
   "metadata": {},
   "source": [
    "# Exercise 3\n",
    "Use the notebook for finding the max-cut on the graph shown in Figure\n",
    "2.3.\n",
    "\n",
    "### Answer\n",
    "This time the amount of variantions given back was too large to read off from   the histogram, so you can find it in the data.xlsx document.   \n",
    "The code and graphs of this can be found in the qaoa_2 notebook.  \n",
    "it indicated that the following are max cuts:  \n",
    " '0101010' - 5, 3, 1  \n",
    " '1010101' - 6, 4, 2, 0  \n",
    " '1011010' - 6, 4, 3, 1  \n",
    " '0100101' - 5, 2, 0  \n",
    "\n"
   ]
  },
  {
   "cell_type": "markdown",
   "metadata": {},
   "source": [
    "# Exercise 4\n",
    "Implement some ideas on how to improve the optimisation of this algorithm.\n",
    "\n",
    "### Answer\n",
    "Ill be very honest, I dont have a good idea of what im doing. But in qaoa_optimal you can find my attempt at an optimization algorithm, for some reason you do need to adjust the multiplier and dampener for every graph, as the bigger it is, the closer the multiplier and dampener should be to eachother. But it does work, it seems to be even more accurate than COBYLA when tuned correctly, this tuning could probably be done automaticly, but i have no idea how id do that. this works decently."
   ]
  }
 ],
 "metadata": {
  "language_info": {
   "name": "python"
  }
 },
 "nbformat": 4,
 "nbformat_minor": 2
}
